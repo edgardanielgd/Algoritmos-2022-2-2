{
  "nbformat": 4,
  "nbformat_minor": 0,
  "metadata": {
    "colab": {
      "name": "edgonzalezdi_lab1.ipynb",
      "provenance": [],
      "collapsed_sections": []
    },
    "kernelspec": {
      "display_name": "Python 3",
      "language": "python",
      "name": "python3"
    },
    "language_info": {
      "codemirror_mode": {
        "name": "ipython",
        "version": 3
      },
      "file_extension": ".py",
      "mimetype": "text/x-python",
      "name": "python",
      "nbconvert_exporter": "python",
      "pygments_lexer": "ipython3",
      "version": "3.6.4"
    }
  },
  "cells": [
    {
      "cell_type": "markdown",
      "source": [
        ""
      ],
      "metadata": {
        "id": "0aRGfD7vZK_Y"
      }
    },
    {
      "cell_type": "markdown",
      "metadata": {
        "id": "eQzBbvyKQymx"
      },
      "source": [
        "<div align=\"center\">\n",
        "<img style=\"display: block; margin: auto;\" alt=\"photo\" src=\"https://cdn.quantconnect.com/web/i/icon.png\">\n",
        "\n",
        "Quantconnect\n",
        "\n",
        "Introduction to Financial Python\n",
        "</div>\n",
        "\n",
        "# 01 Data Types and Data Structures\n",
        "\n",
        "# Introduction\n",
        "\n",
        "This tutorial provides a basic introduction to the Python programming language. If you are new to Python, you should run the code snippets while reading this tutorial. If you are an advanced Python user, please feel free to skip this chapter.\n",
        "\n",
        "# Basic Variable Types\n",
        "The basic types of variables in Python are: strings, integers, floating point numbers and booleans.\n",
        "\n",
        "Strings in python are identified as a contiguous set of characters represented in either single quotes (' ') or double quotes (\" \").\n"
      ]
    },
    {
      "cell_type": "code",
      "metadata": {
        "colab": {
          "base_uri": "https://localhost:8080/"
        },
        "id": "N5t-UrcfOqid",
        "outputId": "fa1a042b-f5d1-45db-d5cc-6986116381d1"
      },
      "source": [
        "from random import random\n",
        "\n",
        "my_string1 = 'Welcome to'\n",
        "my_string2 = \"QuantConnect\"\n",
        "print(my_string1 + ' ' + my_string2) # Sum of two strings\n",
        "\n",
        "# Edit:\n",
        "\n",
        "print(\n",
        "    ( \"Juanito\" if( random() < 0.5) else \"Maria\" ) + \" \" +\n",
        "    ( \"comió\" if( random() < 0.5) else \"bebió\" ) + \" en \" +\n",
        "    ( \"la fiesta\" if( random() < 0.5) else \"la reunión\" )\n",
        ") # Concatenate multiple strings based in a condiction"
      ],
      "execution_count": 9,
      "outputs": [
        {
          "output_type": "stream",
          "name": "stdout",
          "text": [
            "Welcome to QuantConnect\n",
            "Juanito bebió en la reunión\n"
          ]
        }
      ]
    },
    {
      "cell_type": "markdown",
      "metadata": {
        "id": "bXHnxZyHSd1M"
      },
      "source": [
        "An integer is a round number with no values after the decimal point."
      ]
    },
    {
      "cell_type": "code",
      "metadata": {
        "colab": {
          "base_uri": "https://localhost:8080/"
        },
        "id": "pNjuz3toOqif",
        "outputId": "b00a9491-50e5-42c1-c869-e3c521fc82ba"
      },
      "source": [
        "my_int = 10\n",
        "print(my_int)\n",
        "print(type(my_int)) # Int class"
      ],
      "execution_count": 10,
      "outputs": [
        {
          "output_type": "stream",
          "name": "stdout",
          "text": [
            "10\n",
            "<class 'int'>\n"
          ]
        }
      ]
    },
    {
      "cell_type": "markdown",
      "metadata": {
        "id": "_1ZanWrYSnzF"
      },
      "source": [
        "The built-in function int() can convert a string into an integer."
      ]
    },
    {
      "cell_type": "code",
      "metadata": {
        "colab": {
          "base_uri": "https://localhost:8080/"
        },
        "id": "zPwGb20FOqif",
        "outputId": "c04fcae5-d9c0-4135-b769-7b4cad50b9ba"
      },
      "source": [
        "my_string = \"100\"\n",
        "print(type(my_string))\n",
        "my_int = int(my_string)\n",
        "print(type(my_int))\n",
        "\n",
        "# Edit:\n",
        "str1 = \"100\"\n",
        "str2 = \"10\"\n",
        "print( int( str1 + str2 ))\n",
        "print( int(str1) + int(str2))\n",
        "# This operation doesn´t represent a distributive property"
      ],
      "execution_count": 11,
      "outputs": [
        {
          "output_type": "stream",
          "name": "stdout",
          "text": [
            "<class 'str'>\n",
            "<class 'int'>\n",
            "10010\n",
            "110\n"
          ]
        }
      ]
    },
    {
      "cell_type": "markdown",
      "metadata": {
        "id": "WqMDPDTHSrE9"
      },
      "source": [
        "A floating point number, or a float, is a real number in mathematics. In Python we need to include a value after a decimal point to define it as a float"
      ]
    },
    {
      "cell_type": "code",
      "metadata": {
        "colab": {
          "base_uri": "https://localhost:8080/"
        },
        "id": "otCzKKW9Oqig",
        "outputId": "7ab7e207-64b5-4dee-92a8-541f38511473"
      },
      "source": [
        "my_string = \"100\"\n",
        "my_float = float(my_string) # Float to string\n",
        "print(type(my_float))\n",
        "flo=3.54\n",
        "print(type(flo)) # Float class"
      ],
      "execution_count": null,
      "outputs": [
        {
          "output_type": "stream",
          "name": "stdout",
          "text": [
            "<class 'float'>\n",
            "<class 'float'>\n"
          ]
        }
      ]
    },
    {
      "cell_type": "markdown",
      "metadata": {
        "id": "2iuyv8Q7StTJ"
      },
      "source": [
        "As you can see above, if we don't include a decimal value, the variable would be defined as an integer. The built-in function float() can convert a string or an integer into a float."
      ]
    },
    {
      "cell_type": "code",
      "metadata": {
        "colab": {
          "base_uri": "https://localhost:8080/"
        },
        "id": "wwLw5VthOqig",
        "outputId": "d9da1137-5370-4cdb-bced-c27acb8ccf68"
      },
      "source": [
        "my_bool = False\n",
        "print(my_bool)\n",
        "print(type(my_bool)) # Bool class"
      ],
      "execution_count": null,
      "outputs": [
        {
          "output_type": "stream",
          "name": "stdout",
          "text": [
            "False\n",
            "<class 'bool'>\n"
          ]
        }
      ]
    },
    {
      "cell_type": "markdown",
      "metadata": {
        "id": "bnGMwH21Szr_"
      },
      "source": [
        "A boolean, or bool, is a binary variable. Its value can only be True or False. It is useful when we do some logic operations, which would be covered in our next chapter."
      ]
    },
    {
      "cell_type": "markdown",
      "metadata": {
        "id": "1Xc9G9_sS2ju"
      },
      "source": [
        "# Basic Math Operations\n",
        "\n",
        "The basic math operators in python are demonstrated below:"
      ]
    },
    {
      "cell_type": "code",
      "metadata": {
        "colab": {
          "base_uri": "https://localhost:8080/"
        },
        "id": "DMa6pDl5Oqig",
        "outputId": "fb53efcd-5f32-41fe-f7fa-7d024b521de7"
      },
      "source": [
        "print(\"Addition \", 1+1) # Sum\n",
        "print(\"Subtraction \", 5-2) # Substraction\n",
        "print(\"Multiplication \", 2*3) # Multiplication\n",
        "print(\"Division \", 10/2) # Division\n",
        "print('Exponent', 2**3) # Exponentation\n",
        "\n",
        "# Edit:\n",
        "\n",
        "print(\"Integer division\", 14//3 ) # Integer result of division\n",
        "print(\"Remainder of division\", 14 % 3) # Remainder result of division"
      ],
      "execution_count": 12,
      "outputs": [
        {
          "output_type": "stream",
          "name": "stdout",
          "text": [
            "Addition  2\n",
            "Subtraction  3\n",
            "Multiplication  6\n",
            "Division  5.0\n",
            "Exponent 8\n",
            "Integer division 4\n",
            "Remainder of division 2\n"
          ]
        }
      ]
    },
    {
      "cell_type": "code",
      "metadata": {
        "colab": {
          "base_uri": "https://localhost:8080/"
        },
        "id": "KE9gUryAOqig",
        "outputId": "82343653-3452-4cc1-a0d6-510cbc54d7cb"
      },
      "source": [
        "print(1/3)\n",
        "print(1.0/3) # Without \"//\" result will always be a float result"
      ],
      "execution_count": null,
      "outputs": [
        {
          "output_type": "stream",
          "name": "stdout",
          "text": [
            "0.3333333333333333\n",
            "0.3333333333333333\n"
          ]
        }
      ]
    },
    {
      "cell_type": "markdown",
      "metadata": {
        "id": "AN5Oa3DoS_Nf"
      },
      "source": [
        "# Data Collections\n",
        "\n",
        "## List\n",
        "A list is an ordered collection of values. A list is mutable, which means you can change a list's value without changing the list itself. Creating a list is simply putting different comma-separated values between square brackets."
      ]
    },
    {
      "cell_type": "code",
      "metadata": {
        "colab": {
          "base_uri": "https://localhost:8080/"
        },
        "id": "-tQdNqCvOqig",
        "outputId": "d47b125c-f5ad-48c5-ef04-5f02bece6168"
      },
      "source": [
        "my_list = ['Quant', 'Connect'] #, 1,2,3]\n",
        "print(my_list)\n",
        "\n",
        "# Edit:\n",
        "\n",
        "my_list = [True, 1, \"True\"] # different types\n",
        "for i in my_list:\n",
        "  if bool(i): # But all can be interpret as the same value (logical 1)\n",
        "    print(i)"
      ],
      "execution_count": 15,
      "outputs": [
        {
          "output_type": "stream",
          "name": "stdout",
          "text": [
            "['Quant', 'Connect']\n",
            "True\n",
            "1\n",
            "True\n"
          ]
        }
      ]
    },
    {
      "cell_type": "markdown",
      "metadata": {
        "id": "1O0TsgZCTHrM"
      },
      "source": [
        "The values in a list are called \"elements\". We can access list elements by indexing. Python index starts from 0. So if you have a list of length n, the index of the first element will be 0, and that of the last element will be n − 1. By the way, the length of a list can be obtained by the built-in function len()."
      ]
    },
    {
      "cell_type": "code",
      "metadata": {
        "colab": {
          "base_uri": "https://localhost:8080/"
        },
        "id": "QhuVhRR5Oqih",
        "outputId": "5f7a95fa-604d-43a6-fdb2-600759b6cfe1"
      },
      "source": [
        "my_list = ['Quant', 'Connect', 1,2,3] # List is indexed from 0 to its length - 1\n",
        "print(len(my_list))\n",
        "print(my_list[0])\n",
        "print(my_list[len(my_list) -1])"
      ],
      "execution_count": 14,
      "outputs": [
        {
          "output_type": "stream",
          "name": "stdout",
          "text": [
            "5\n",
            "Quant\n",
            "3\n"
          ]
        }
      ]
    },
    {
      "cell_type": "markdown",
      "metadata": {
        "id": "jgSZy1VGTKSc"
      },
      "source": [
        "You can also change the elements in the list by accessing an index and assigning a new value."
      ]
    },
    {
      "cell_type": "code",
      "metadata": {
        "colab": {
          "base_uri": "https://localhost:8080/"
        },
        "id": "NQBNLjAvOqih",
        "outputId": "0a4748f7-65a5-4988-f974-4a8af84cefe5"
      },
      "source": [
        "my_list = ['Quant','Connect',1,2,3]\n",
        "my_list[2] = 'go'\n",
        "\n",
        "# Edit:\n",
        "my_list[3] = my_list[4]\n",
        "my_list[4] = my_list[0]\n",
        "\n",
        "print(my_list)"
      ],
      "execution_count": 17,
      "outputs": [
        {
          "output_type": "stream",
          "name": "stdout",
          "text": [
            "['Quant', 'Connect', 'go', 3, 'Quant']\n"
          ]
        }
      ]
    },
    {
      "cell_type": "markdown",
      "metadata": {
        "id": "EQPs5ojoTVrk"
      },
      "source": [
        "A list can also be sliced with a colon:"
      ]
    },
    {
      "cell_type": "code",
      "metadata": {
        "colab": {
          "base_uri": "https://localhost:8080/"
        },
        "id": "keNX2RbtOqii",
        "outputId": "3fbee67b-35d8-4472-eff3-494aabe19f51"
      },
      "source": [
        "my_list = ['Quant','Connect',1,2,3]\n",
        "print(my_list[1:3])\n",
        "\n",
        "# Edit:\n",
        "# Printing even-indexed values in a list\n",
        "print( my_list[ 0 : len( my_list ) : 2 ])"
      ],
      "execution_count": 20,
      "outputs": [
        {
          "output_type": "stream",
          "name": "stdout",
          "text": [
            "['Connect', 1]\n",
            "['Quant', 1, 3]\n"
          ]
        }
      ]
    },
    {
      "cell_type": "markdown",
      "metadata": {
        "id": "AZqQd0K8TYul"
      },
      "source": [
        "The slice starts from the first element indicated, but excludes the last element indicated. Here we select all elements starting from index 1, which refers to the second element:"
      ]
    },
    {
      "cell_type": "code",
      "metadata": {
        "colab": {
          "base_uri": "https://localhost:8080/"
        },
        "id": "0-76sLfkOqii",
        "outputId": "25b46f6f-fb47-480e-d14c-9fc60661ec23"
      },
      "source": [
        "print(my_list[1:])\n",
        "\n",
        "# Edit:\n",
        "# Get the whole list (useful when making a copy of a list\n",
        "# without referencing its object address\n",
        "\n",
        "print( my_list[:])"
      ],
      "execution_count": 21,
      "outputs": [
        {
          "output_type": "stream",
          "name": "stdout",
          "text": [
            "['Connect', 1, 2, 3]\n",
            "['Quant', 'Connect', 1, 2, 3]\n"
          ]
        }
      ]
    },
    {
      "cell_type": "markdown",
      "metadata": {
        "id": "XBqvhUdZVKWs"
      },
      "source": [
        "And all elements up to but excluding index 3:"
      ]
    },
    {
      "cell_type": "code",
      "metadata": {
        "colab": {
          "base_uri": "https://localhost:8080/"
        },
        "id": "5NWr75L9Oqii",
        "outputId": "9e634023-1fb1-48a3-a4b8-4bd80008e50b"
      },
      "source": [
        "print(my_list[:3])\n",
        "\n",
        "# Edit:\n",
        "# Reversed values excluding index 3\n",
        "print( my_list[:3:-1])"
      ],
      "execution_count": 22,
      "outputs": [
        {
          "output_type": "stream",
          "name": "stdout",
          "text": [
            "['Quant', 'Connect', 1]\n",
            "[3]\n"
          ]
        }
      ]
    },
    {
      "cell_type": "markdown",
      "metadata": {
        "id": "eAFmM6bkTZz9"
      },
      "source": [
        "If you wish to add or remove an element from a list, you can use the append() and remove() methods for lists as follows:"
      ]
    },
    {
      "cell_type": "code",
      "metadata": {
        "colab": {
          "base_uri": "https://localhost:8080/"
        },
        "id": "pHmgTPElTo19",
        "outputId": "cc478f68-4d3b-49ab-de94-343e65a25858"
      },
      "source": [
        "my_list = ['Hello', 'Quant']\n",
        "my_list.append('Hello') # Always inserts at the end of a list\n",
        "\n",
        "# Edit:\n",
        "my_list.append('Of')\n",
        "my_list.append('Sea')\n",
        "\n",
        "print(my_list)\n",
        "\n"
      ],
      "execution_count": 28,
      "outputs": [
        {
          "output_type": "stream",
          "name": "stdout",
          "text": [
            "['Hello', 'Quant', 'Hello', 'Of', 'Sea']\n"
          ]
        }
      ]
    },
    {
      "cell_type": "code",
      "metadata": {
        "colab": {
          "base_uri": "https://localhost:8080/"
        },
        "id": "4C4U1Yf0Tr8l",
        "outputId": "5af0f14d-0fac-4208-e180-936bc6e22ed2"
      },
      "source": [
        "my_list.remove('Hello') # Removes one element at a time\n",
        "# Running two times will result in two \"Hello\" removed\n",
        "# Running a third time will result in a error, since \"Hello\" is not present in \n",
        "# my_list anymore\n",
        "print(my_list)"
      ],
      "execution_count": 29,
      "outputs": [
        {
          "output_type": "stream",
          "name": "stdout",
          "text": [
            "['Quant', 'Hello', 'Of', 'Sea']\n"
          ]
        }
      ]
    },
    {
      "cell_type": "markdown",
      "metadata": {
        "id": "11W1gG-cVmOU"
      },
      "source": [
        "When there are repeated instances of \"Hello\", the first one is removed.\n",
        "\n",
        "## Tuple\n",
        "A tuple is a data structure type similar to a list. The difference is that a tuple is immutable, which means you can't change the elements in it once it's defined. We create a tuple by putting comma-separated values between parentheses."
      ]
    },
    {
      "cell_type": "code",
      "metadata": {
        "collapsed": true,
        "id": "vPmn6BAaOqii"
      },
      "source": [
        "my_tuple = ('Welcome','to','QuantConnect') \n",
        "# Useful when returning an array which is not supossed to be edited, only read"
      ],
      "execution_count": 34,
      "outputs": []
    },
    {
      "cell_type": "markdown",
      "metadata": {
        "id": "zMIme4dDV0Wz"
      },
      "source": [
        "Just like a list, a tuple can be sliced by using index."
      ]
    },
    {
      "cell_type": "code",
      "metadata": {
        "colab": {
          "base_uri": "https://localhost:8080/"
        },
        "id": "8P-ddO0sOqii",
        "outputId": "555faf2a-5592-4dca-db96-93ca58f0e1df"
      },
      "source": [
        "my_tuple = ('Welcome','to','QuantConnect')\n",
        "# Same reading operations than a list\n",
        "print(my_tuple[1:])\n",
        "\n",
        "# Edit:\n",
        "# Even-indexed values\n",
        "print( my_tuple[ 0: len(my_tuple) : 2])"
      ],
      "execution_count": 35,
      "outputs": [
        {
          "output_type": "stream",
          "name": "stdout",
          "text": [
            "('to', 'QuantConnect')\n",
            "('Welcome', 'QuantConnect')\n"
          ]
        }
      ]
    },
    {
      "cell_type": "markdown",
      "metadata": {
        "id": "l2JqbusAV1Y2"
      },
      "source": [
        "## Set\n",
        "A set is an **unordered**  collection with **no duplicate** elements. The built-in function **set()** can be used to create sets."
      ]
    },
    {
      "cell_type": "code",
      "metadata": {
        "colab": {
          "base_uri": "https://localhost:8080/"
        },
        "id": "Plau8r-UOqij",
        "outputId": "a3943bfd-5865-4db9-9ce2-f71001485e67"
      },
      "source": [
        "stock_list = ['AAPL','GOOG','IBM','AAPL','IBM','FB','F','GOOG']\n",
        "# All duplicaed values will be ignored while defining a set\n",
        "stock_set = set(stock_list)\n",
        "\n",
        "# Edit:\n",
        "\n",
        "stock_set.add( \"AAPL\" ) # Duplicated values won't be added\n",
        "# Noted doing this doesn't throw an error\n",
        "\n",
        "print(stock_set)"
      ],
      "execution_count": 36,
      "outputs": [
        {
          "output_type": "stream",
          "name": "stdout",
          "text": [
            "{'IBM', 'F', 'GOOG', 'FB', 'AAPL'}\n"
          ]
        }
      ]
    },
    {
      "cell_type": "markdown",
      "metadata": {
        "id": "Jyb4GGIoWIHk"
      },
      "source": [
        "Set is an easy way to remove duplicate elements from a list.\n",
        "\n",
        "##Dictionary\n",
        "A dictionary is one of the most important data structures in Python. Unlike sequences which are indexed by integers, dictionaries are indexed by keys which can be either strings or floats.\n",
        "\n",
        "A dictionary is an **unordered** collection of key : value pairs, with the requirement that the keys are unique. We create a dictionary by placing a comma-separated list of key : value pairs within the braces."
      ]
    },
    {
      "cell_type": "code",
      "metadata": {
        "collapsed": true,
        "id": "36mTe5BaOqij"
      },
      "source": [
        "# Keys can also be any type\n",
        "my_dic = {'AAPL':'AAPLE', 'FB':'FaceBook', 'GOOG':'Alphabet', 1: \"TEST\"}"
      ],
      "execution_count": 39,
      "outputs": []
    },
    {
      "cell_type": "code",
      "metadata": {
        "colab": {
          "base_uri": "https://localhost:8080/"
        },
        "id": "KUfdVf43Oqij",
        "outputId": "1fbabaa9-988e-41ed-f60d-c0e7acf41f2a"
      },
      "source": [
        "print(my_dic['GOOG'])\n",
        "\n",
        "# Edit:\n",
        "print( my_dic[1])"
      ],
      "execution_count": 37,
      "outputs": [
        {
          "output_type": "stream",
          "name": "stdout",
          "text": [
            "Alphabet\n",
            "TEST\n"
          ]
        }
      ]
    },
    {
      "cell_type": "markdown",
      "metadata": {
        "id": "gSicoNqDWP4c"
      },
      "source": [
        "After defining a dictionary, we can access any value by indicating its key in brackets."
      ]
    },
    {
      "cell_type": "code",
      "metadata": {
        "colab": {
          "base_uri": "https://localhost:8080/"
        },
        "id": "IrTZdq9FOqij",
        "outputId": "e59fed1f-cfab-4f78-830b-2566e6a3f15e"
      },
      "source": [
        "my_dic['GOOG'] = 'Alphabet Company'\n",
        "print(my_dic['GOOG'])\n",
        "\n",
        "# Edit\n",
        "my_dic[1] = \"TEST2\"\n",
        "print( my_dic[1])"
      ],
      "execution_count": 41,
      "outputs": [
        {
          "output_type": "stream",
          "name": "stdout",
          "text": [
            "Alphabet Company\n",
            "TEST2\n"
          ]
        }
      ]
    },
    {
      "cell_type": "markdown",
      "metadata": {
        "id": "M9sDsTEMWQvc"
      },
      "source": [
        "We can also change the value associated with a specified key:"
      ]
    },
    {
      "cell_type": "code",
      "metadata": {
        "colab": {
          "base_uri": "https://localhost:8080/"
        },
        "id": "lupRHf1_Oqij",
        "outputId": "3f9af15e-5924-4efe-ecee-e7ee7bd5857a"
      },
      "source": [
        "print(list(my_dic.keys()))\n",
        "\n",
        "# Edit:\n",
        "# Also works for an array of values\n",
        "\n",
        "print(list(my_dic.values()))"
      ],
      "execution_count": 43,
      "outputs": [
        {
          "output_type": "stream",
          "name": "stdout",
          "text": [
            "['AAPL', 'FB', 'GOOG', 1]\n",
            "['AAPLE', 'FaceBook', 'Alphabet Company', 'TEST2']\n"
          ]
        }
      ]
    },
    {
      "cell_type": "markdown",
      "metadata": {
        "id": "VPuDinlwWS9D"
      },
      "source": [
        "The built-in method of the dictionary object dict.keys() returns a list of all the keys used in the dictionary."
      ]
    },
    {
      "cell_type": "markdown",
      "metadata": {
        "id": "kSGzgNb2Womz"
      },
      "source": [
        "# Common String Operations\n",
        "A string is an immutable sequence of characters. It can be sliced by index just like a tuple:"
      ]
    },
    {
      "cell_type": "code",
      "metadata": {
        "colab": {
          "base_uri": "https://localhost:8080/"
        },
        "id": "xPojDnm9Oqik",
        "outputId": "45fb7860-06d1-4236-d4b7-1e3005133a7a"
      },
      "source": [
        "my_str = 'Welcome to QuantConnect'\n",
        "\n",
        "print(my_str[8:])\n",
        "\n",
        "# Edit:\n",
        "# Even-index characters of string\n",
        "\n",
        "print( my_str[0: len(my_str): 2])"
      ],
      "execution_count": 45,
      "outputs": [
        {
          "output_type": "stream",
          "name": "stdout",
          "text": [
            "to QuantConnect\n",
            "Wloet unCnet\n"
          ]
        }
      ]
    },
    {
      "cell_type": "markdown",
      "metadata": {
        "id": "wuJYy7tvWtM7"
      },
      "source": [
        "There are many methods associated with strings. We can use string.count() to count the occurrences of a character in a string, use string.find() to return the index of a specific character, and use string.replace() to replace characters"
      ]
    },
    {
      "cell_type": "code",
      "metadata": {
        "colab": {
          "base_uri": "https://localhost:8080/"
        },
        "id": "u9deZq1SOqik",
        "outputId": "fe05b218-78cd-4783-a369-4302fe61fda7"
      },
      "source": [
        "print('Counting the number of e appears in this sentence'.count('e')) # Count number of es\n",
        "print('The first time e appears in this sentence'.find('e')) # Find the first ocurrence of \"e\" character and returns its index\n",
        "print('all the a in this sentence now becomes e'.replace('a','e')) # Replaces all \"a\" characters with \"e\""
      ],
      "execution_count": 46,
      "outputs": [
        {
          "output_type": "stream",
          "name": "stdout",
          "text": [
            "7\n",
            "2\n",
            "ell the e in this sentence now becomes e\n"
          ]
        }
      ]
    },
    {
      "cell_type": "markdown",
      "metadata": {
        "id": "sJPn3rkvWwHN"
      },
      "source": [
        "The most commonly used method for strings is string.split(). This method will split the string by the indicated character and return a list:"
      ]
    },
    {
      "cell_type": "code",
      "metadata": {
        "colab": {
          "base_uri": "https://localhost:8080/"
        },
        "id": "hbIaFLFHOqik",
        "outputId": "a29b8887-413e-4130-8407-0d9b296d24cd"
      },
      "source": [
        "Time = '2020-08-19 11:39:00'\n",
        "splited_list = Time.split(' ') # Split date and time and places them in an array\n",
        "date = splited_list[0] # the first block is before \" \" and it is the date data\n",
        "time = splited_list[1] # the second block is after \" \" and it is the time data\n",
        "print(date, time) \n",
        "hour = time.split(':')[0] # return an array: [ hour, minute, second ]\n",
        "print(hour)"
      ],
      "execution_count": 48,
      "outputs": [
        {
          "output_type": "stream",
          "name": "stdout",
          "text": [
            "2020-08-19 11:39:00\n",
            "11\n"
          ]
        }
      ]
    },
    {
      "cell_type": "markdown",
      "metadata": {
        "id": "9cJQGk96WyVc"
      },
      "source": [
        "We can replace parts of a string by our variable. This is called string formatting."
      ]
    },
    {
      "cell_type": "code",
      "metadata": {
        "colab": {
          "base_uri": "https://localhost:8080/"
        },
        "id": "-E_rIvv6Oqik",
        "outputId": "3f16abdf-9b8a-4e9f-872b-e3dedc38007c"
      },
      "source": [
        "my_time = 'Hour: {}, Minute:{}'.format('09','43') # Every {} will be replaced\n",
        "print(my_time)\n",
        "\n",
        "# Edit:\n",
        "# Replacing when \"{\",\"}\" characters must be present in string\n",
        "\n",
        "my_str = \"Val1 : {{{}}}\".format(\"test\")\n",
        "\n",
        "print( my_str )"
      ],
      "execution_count": 55,
      "outputs": [
        {
          "output_type": "stream",
          "name": "stdout",
          "text": [
            "Hour: 09, Minute:43\n",
            "Val1 : {test}\n"
          ]
        }
      ]
    },
    {
      "cell_type": "markdown",
      "metadata": {
        "id": "1_NbVldpWzAs"
      },
      "source": [
        "Another way to format a string is to use the % symbol."
      ]
    },
    {
      "cell_type": "code",
      "metadata": {
        "colab": {
          "base_uri": "https://localhost:8080/"
        },
        "id": "4rZ4rkD2Oqik",
        "outputId": "b3772f63-8440-4b7a-f592-932ede502f6f"
      },
      "source": [
        "print('the pi number is %f'%3.14)\n",
        "print('%s to %s'%('Welcome','Quantconnect'))\n",
        "\n",
        "# Edit:\n",
        "# Escape % character when needed\n",
        "print('Single %%s , %s was replaced' %(\"test\"))"
      ],
      "execution_count": 67,
      "outputs": [
        {
          "output_type": "stream",
          "name": "stdout",
          "text": [
            "the pi number is 3.140000\n",
            "Welcome to Quantconnect\n",
            "Single %s , test was replaced\n"
          ]
        }
      ]
    },
    {
      "cell_type": "markdown",
      "metadata": {
        "id": "v_5cocrDW3MN"
      },
      "source": [
        "# Summary\n",
        "\n",
        "Weave seen the basic data types and data structures in Python. It's important to keep practicing to become familiar with these data structures. In the next tutorial, we will cover for and while loops and logical operations in Python."
      ]
    },
    {
      "cell_type": "markdown",
      "metadata": {
        "id": "QL6dNxwCXNEt"
      },
      "source": [
        "<div align=\"center\">\n",
        "<img style=\"display: block; margin: auto;\" alt=\"photo\" src=\"https://cdn.quantconnect.com/web/i/icon.png\">\n",
        "\n",
        "Quantconnect\n",
        "\n",
        "Introduction to Financial Python\n",
        "</div>\n",
        "\n",
        "# 02 Logical Operations and Loops\n",
        "\n",
        "# Introduction\n",
        "We discussed the basic data types and data structures in Python in the last tutorial. This chapter covers logical operations and loops in Python, which are very common in programming.\n",
        "\n",
        "# Logical Operations\n",
        "Like most programming languages, Python has comparison operators:"
      ]
    },
    {
      "cell_type": "code",
      "metadata": {
        "colab": {
          "base_uri": "https://localhost:8080/"
        },
        "id": "70Guys_rOv7a",
        "outputId": "fa664b9c-6126-474c-e6a6-092b29a86945"
      },
      "source": [
        "print(1 == 0) # Equal than\n",
        "print(1 == 1)\n",
        "print(1 != 0) # Not equal than\n",
        "print(5 >= 5) # Greater or equal than\n",
        "print(5 >= 6)\n",
        "\n",
        "# Edit:\n",
        "\n",
        "print(5 <= 5) # Less or equal than\n",
        "print(5 <= 4) "
      ],
      "execution_count": 69,
      "outputs": [
        {
          "output_type": "stream",
          "name": "stdout",
          "text": [
            "False\n",
            "True\n",
            "True\n",
            "True\n",
            "False\n",
            "True\n",
            "False\n"
          ]
        }
      ]
    },
    {
      "cell_type": "markdown",
      "metadata": {
        "id": "8aFHYDj-YTXt"
      },
      "source": [
        "Each statement above has a boolean value, which must be either True or False, but not both.\n",
        "\n",
        "We can combine simple statements P and Q to form complex statements using logical operators:\n",
        "\n",
        "- The statement \"P and Q\" is true if both P and Q are true, otherwise it is false.\n",
        "- The statement \"P or Q\" is false if both P and Q are false, otherwise it is true.\n",
        "- The statement \"not P\" is true if P is false, and vice versa."
      ]
    },
    {
      "cell_type": "code",
      "metadata": {
        "colab": {
          "base_uri": "https://localhost:8080/"
        },
        "id": "O5YEEcUbOv7d",
        "outputId": "a0c4153b-3377-47c0-fdfe-839af95c307f"
      },
      "source": [
        "print(2 > 1 and 3 > 2) # && operator\n",
        "print(2 > 1 and 3 < 2) \n",
        "print(2 > 1 or 3 < 2) # || operator\n",
        "print(2 < 1 and 3 < 2)"
      ],
      "execution_count": 71,
      "outputs": [
        {
          "output_type": "stream",
          "name": "stdout",
          "text": [
            "True\n",
            "False\n",
            "True\n",
            "False\n"
          ]
        }
      ]
    },
    {
      "cell_type": "markdown",
      "metadata": {
        "id": "Dy7yzoSXYXmL"
      },
      "source": [
        "When dealing with a very complex logical statement that involves in several statements, we can use brackets to separate and combine them."
      ]
    },
    {
      "cell_type": "code",
      "metadata": {
        "colab": {
          "base_uri": "https://localhost:8080/"
        },
        "id": "QZ-W2xJZOv7d",
        "outputId": "369d9823-5f6e-4089-e5c0-03c8e07d0233"
      },
      "source": [
        "print(\n",
        "    (3 > 2 or 1 < 3) and \n",
        "    (1!=3 and 4>3) and \n",
        "    not ( \n",
        "        3 < 2 or 1 < 3 and\n",
        "        ( 1!=3 and 4>3 ) \n",
        "      )\n",
        "    ) # False ( T and T and not T => T & T & F => F)\n",
        "\n",
        "# And has more priority than or by default\n",
        "print(\n",
        "    3 > 2 or 1 < 3 and \n",
        "    (\n",
        "        1!=3 and 4>3\n",
        "     ) and \n",
        "      not (\n",
        "          3 < 2 or 1 < 3 and \n",
        "           (\n",
        "               1!=3 and \n",
        "               4>3\n",
        "            )\n",
        "           )\n",
        "      ) # True ( T or T and T and not ( T or T and T) => T or T and T and F => T)"
      ],
      "execution_count": 73,
      "outputs": [
        {
          "output_type": "stream",
          "name": "stdout",
          "text": [
            "False\n",
            "True\n"
          ]
        }
      ]
    },
    {
      "cell_type": "markdown",
      "metadata": {
        "id": "s95xoRYMYaPD"
      },
      "source": [
        "Comparing the above two statements, we can see that it's wise to use brackets when we make a complex logical statement.\n",
        "\n",
        "# If Statement\n",
        "An if statement executes a segment of code only if its condition is true. A standard if statement consists of 3 segments: if, elif and else."
      ]
    },
    {
      "cell_type": "markdown",
      "metadata": {
        "id": "aRzMMitAaBOL"
      },
      "source": [
        "```python\n",
        "if statement1:\n",
        "    # if the statement1 is true, execute the code here.\n",
        "    # code.....\n",
        "    # code.....\n",
        "elif statement2:\n",
        "    # if the statement 1 is false, skip the codes above to this part.\n",
        "    # code......\n",
        "    # code......\n",
        "else:\n",
        "    # if none of the above statements is True, skip to this part\n",
        "    # code......\n",
        "```"
      ]
    },
    {
      "cell_type": "markdown",
      "metadata": {
        "id": "l59R2AS8aH2K"
      },
      "source": [
        "An if statement doesn't necessarily has elif and else part. If it's not specified, the indented block of code will be executed when the condition is true, otherwise the whole if statement will be skipped."
      ]
    },
    {
      "cell_type": "code",
      "metadata": {
        "colab": {
          "base_uri": "https://localhost:8080/"
        },
        "id": "FZ5GoTXfOv7e",
        "outputId": "1ed8f1b3-c113-4cab-980a-200ea7cf07eb"
      },
      "source": [
        "i = 0\n",
        "if i == 0:\n",
        "    print('i==0 is True')"
      ],
      "execution_count": 74,
      "outputs": [
        {
          "output_type": "stream",
          "name": "stdout",
          "text": [
            "i==0 is True\n"
          ]
        }
      ]
    },
    {
      "cell_type": "markdown",
      "metadata": {
        "id": "nPNW-l5eaJn8"
      },
      "source": [
        "As we mentioned above, we can write some complex statements here:"
      ]
    },
    {
      "cell_type": "code",
      "metadata": {
        "colab": {
          "base_uri": "https://localhost:8080/"
        },
        "id": "gh-U6nMzOv7e",
        "outputId": "8e85faa6-a086-446a-d01e-6b47e226c9e1"
      },
      "source": [
        "p = 1 > 0 # True\n",
        "q = 2 > 3 # False\n",
        "if p and q: # T and F => F\n",
        "    print('p and q is true')\n",
        "elif p and not q: # T and T => T\n",
        "    print('q is false')\n",
        "elif q and not p: # F and F => F\n",
        "    print('p is false')\n",
        "else: # F and T\n",
        "    print('None of p and q is true')"
      ],
      "execution_count": 76,
      "outputs": [
        {
          "output_type": "stream",
          "name": "stdout",
          "text": [
            "q is false\n"
          ]
        }
      ]
    },
    {
      "cell_type": "markdown",
      "metadata": {
        "id": "tgRDwiAsaMOL"
      },
      "source": [
        "# Loop Structure\n",
        "Loops are an essential part of programming. The \"for\" and \"while\" loops run a block of code repeatedly.\n",
        "\n",
        "## While Loop\n",
        "A \"while\" loop will run repeatedly until a certain condition has been met."
      ]
    },
    {
      "cell_type": "code",
      "metadata": {
        "colab": {
          "base_uri": "https://localhost:8080/"
        },
        "id": "uQLau8d5Ov7f",
        "outputId": "3f871f41-4309-4989-c9bb-6d7e9f073044"
      },
      "source": [
        "i = 0\n",
        "while i < 5: # Five iterations, from 0 to 4\n",
        "    print(i)\n",
        "    i += 1 "
      ],
      "execution_count": 78,
      "outputs": [
        {
          "output_type": "stream",
          "name": "stdout",
          "text": [
            "0\n",
            "1\n",
            "2\n",
            "3\n",
            "4\n"
          ]
        }
      ]
    },
    {
      "cell_type": "markdown",
      "metadata": {
        "id": "ydLddFAPaTOE"
      },
      "source": [
        "When making a while loop, we need to ensure that something changes from iteration to iteration so that the while loop will terminate, otherwise, it will run forever. Here we used i += 1 (short for i = i + 1) to make i larger after each iteration. This is the most commonly used method to control a while loop.\n",
        "\n",
        "## For Loop\n",
        "A \"for\" loop will iterate over a sequence of value and terminate when the sequence has ended."
      ]
    },
    {
      "cell_type": "code",
      "metadata": {
        "colab": {
          "base_uri": "https://localhost:8080/"
        },
        "id": "kt8Ie8u1Ov7f",
        "outputId": "d4220321-02a1-46c3-f632-ff09acfa7ad3"
      },
      "source": [
        "for i in [1,2,3,4,5]: # For each element in list\n",
        "    print(i)"
      ],
      "execution_count": 77,
      "outputs": [
        {
          "output_type": "stream",
          "name": "stdout",
          "text": [
            "1\n",
            "2\n",
            "3\n",
            "4\n",
            "5\n"
          ]
        }
      ]
    },
    {
      "cell_type": "markdown",
      "metadata": {
        "id": "yWStqpreaX-T"
      },
      "source": [
        "We can also add if statements in a for loop. Here is a real example from our pairs trading algorithm:"
      ]
    },
    {
      "cell_type": "code",
      "metadata": {
        "colab": {
          "base_uri": "https://localhost:8080/"
        },
        "id": "kElmffvFOv7f",
        "outputId": "1f09401c-bccc-42d2-ea71-c356cac21f7d"
      },
      "source": [
        "stocks = ['AAPL','GOOG','IBM','FB','F','V', 'G', 'GE']\n",
        "selected = ['AAPL','IBM']\n",
        "new_list = []\n",
        "for i in stocks:\n",
        "    if i not in selected:\n",
        "        # Adds an element to new_list only if its in both stocks and selected\n",
        "        new_list.append(i)\n",
        "print(stocks)"
      ],
      "execution_count": 79,
      "outputs": [
        {
          "output_type": "stream",
          "name": "stdout",
          "text": [
            "['AAPL', 'GOOG', 'IBM', 'FB', 'F', 'V', 'G', 'GE']\n"
          ]
        }
      ]
    },
    {
      "cell_type": "markdown",
      "metadata": {
        "id": "wb2hry9dahE0"
      },
      "source": [
        "Here we iterated all the elements in the list 'stocks'. Later in this chapter, we will introduce a smarter way to do this, which is just a one-line code.\n",
        "\n",
        "## Break and continue\n",
        "These are two commonly used commands in a for loop. If \"break\" is triggered while a loop is executing, the loop will terminate immediately:"
      ]
    },
    {
      "cell_type": "code",
      "metadata": {
        "colab": {
          "base_uri": "https://localhost:8080/"
        },
        "id": "yF5wMVItOv7g",
        "outputId": "b344ee4a-9810-46d0-fedc-fa8dd94e632c"
      },
      "source": [
        "stocks = ['AAPL','GOOG','IBM','FB','F','V', 'G', 'GE']\n",
        "for i in stocks:\n",
        "    print(i)\n",
        "    if i == 'FB':\n",
        "        # Exit for loop as soon it reaches the 4th element (and after print it)\n",
        "        break"
      ],
      "execution_count": 80,
      "outputs": [
        {
          "output_type": "stream",
          "name": "stdout",
          "text": [
            "AAPL\n",
            "GOOG\n",
            "IBM\n",
            "FB\n"
          ]
        }
      ]
    },
    {
      "cell_type": "markdown",
      "metadata": {
        "id": "R0toxyp3ao0T"
      },
      "source": [
        "The \"continue\" command tells the loop to end this iteration and skip to the next iteration:"
      ]
    },
    {
      "cell_type": "code",
      "metadata": {
        "colab": {
          "base_uri": "https://localhost:8080/"
        },
        "id": "Stg-CH6IOv7g",
        "outputId": "7bff9c13-2d53-4ccc-e070-f4de7234d8cf"
      },
      "source": [
        "stocks = ['AAPL','GOOG','IBM','FB','F','V', 'G', 'GE']\n",
        "for i in stocks:\n",
        "    if i == 'FB':\n",
        "      # Skips the 4th element in list (FB)\n",
        "        continue\n",
        "    print(i)"
      ],
      "execution_count": null,
      "outputs": [
        {
          "output_type": "stream",
          "name": "stdout",
          "text": [
            "AAPL\n",
            "GOOG\n",
            "IBM\n",
            "F\n",
            "V\n",
            "G\n",
            "GE\n"
          ]
        }
      ]
    },
    {
      "cell_type": "markdown",
      "metadata": {
        "id": "4NusvdhBaxpZ"
      },
      "source": [
        "# List Comprehension\n",
        "List comprehension is a Pythonic way to create lists. Common applications are to make new lists where each element is the result of some operations applied to each member of another sequence. For example, if we want to create a list of squares using for loop:"
      ]
    },
    {
      "cell_type": "code",
      "metadata": {
        "colab": {
          "base_uri": "https://localhost:8080/"
        },
        "id": "bdxxeOABOv7h",
        "outputId": "bbaf1e3e-dc7a-4c0d-9bba-98a9cc1d8bc8"
      },
      "source": [
        "squares = []\n",
        "\n",
        "# Creates a list with the squares of the first 5 natural non-negative numbers\n",
        "for i in [1,2,3,4,5]:\n",
        "    squares.append(i**2)\n",
        "print(squares)"
      ],
      "execution_count": 81,
      "outputs": [
        {
          "output_type": "stream",
          "name": "stdout",
          "text": [
            "[1, 4, 9, 16, 25]\n"
          ]
        }
      ]
    },
    {
      "cell_type": "markdown",
      "metadata": {
        "id": "--KliJBOa1CC"
      },
      "source": [
        "Using list comprehension:"
      ]
    },
    {
      "cell_type": "code",
      "metadata": {
        "colab": {
          "base_uri": "https://localhost:8080/"
        },
        "id": "440-yjG8Ov7h",
        "outputId": "f2468ce0-db07-4f52-9ef9-182bfd4773f6"
      },
      "source": [
        "list = [1,2,3,4,5]\n",
        "\n",
        "# for each element in list, calculates its square and appends the result to squares\n",
        "squares = [x**2 for x in list] \n",
        "print(squares)"
      ],
      "execution_count": 94,
      "outputs": [
        {
          "output_type": "stream",
          "name": "stdout",
          "text": [
            "[1, 4, 9, 16, 25]\n"
          ]
        }
      ]
    },
    {
      "cell_type": "markdown",
      "metadata": {
        "id": "uMuCfR3ya3zT"
      },
      "source": [
        "Recall the example above where we used a for loop to select stocks. Here we use list comprehension:"
      ]
    },
    {
      "cell_type": "code",
      "metadata": {
        "colab": {
          "base_uri": "https://localhost:8080/"
        },
        "id": "ZGtCtog2Ov7h",
        "outputId": "6562a8f6-b480-44d3-f4ec-45e093a7fd39"
      },
      "source": [
        "stocks = ['AAPL','GOOG','IBM','FB','F','V', 'G', 'GE']\n",
        "selected = ['AAPL','IBM']\n",
        "# Creates a new list (by comprehension) with the elements shared in both stocks and selected lists\n",
        "new_list = [x for x in stocks if x in selected]\n",
        "print(new_list)\n",
        "\n",
        "# Edit:\n",
        "# List of even numbers such that 0 <= n <= 9\n",
        "new_list = [ x for x in range(10) if x % 2 == 0]\n",
        "print( new_list )"
      ],
      "execution_count": 84,
      "outputs": [
        {
          "output_type": "stream",
          "name": "stdout",
          "text": [
            "['AAPL', 'IBM']\n",
            "[0, 2, 4, 6, 8]\n"
          ]
        }
      ]
    },
    {
      "cell_type": "markdown",
      "metadata": {
        "id": "EPeUv6Lia5oD"
      },
      "source": [
        "A list comprehension consists of square brackets containing an expression followed by a \"for\" clause, and possibly \"for\" or \"if\" clauses. For example:"
      ]
    },
    {
      "cell_type": "code",
      "metadata": {
        "colab": {
          "base_uri": "https://localhost:8080/"
        },
        "id": "O1AMB5d7Ov7i",
        "outputId": "ebc6ec52-9a56-46da-e3b6-2ce68539516b"
      },
      "source": [
        "# list of 2-tuples such that every ordered pair is unique and each tuple's elements are different between them\n",
        "print([(x, y) for x in [1,2,3] for y in [3,1,4] if x != y]) \n",
        "\n",
        "# Same example than the one above, but using strings\n",
        "print([str(x)+' vs '+str(y) for x in ['AAPL','GOOG','IBM','FB'] for y in ['F','V','G','GE'] if x!=y])\n",
        "\n",
        "# Edit:\n",
        "\n",
        "# Returns the elements in the diagonal of a matrix\n",
        "\n",
        "A = [[1,2,3], [4,5,6], [7,8,9]]\n",
        "print(\n",
        "    [ A[x][y] for x in range( len(A) ) for y in range( len(A)) if x==y ]\n",
        ")"
      ],
      "execution_count": 86,
      "outputs": [
        {
          "output_type": "stream",
          "name": "stdout",
          "text": [
            "[(1, 3), (1, 4), (2, 3), (2, 1), (2, 4), (3, 1), (3, 4)]\n",
            "['AAPL vs F', 'AAPL vs V', 'AAPL vs G', 'AAPL vs GE', 'GOOG vs F', 'GOOG vs V', 'GOOG vs G', 'GOOG vs GE', 'IBM vs F', 'IBM vs V', 'IBM vs G', 'IBM vs GE', 'FB vs F', 'FB vs V', 'FB vs G', 'FB vs GE']\n",
            "[1, 5, 9]\n"
          ]
        }
      ]
    },
    {
      "cell_type": "markdown",
      "metadata": {
        "id": "jJpvq-o4a8P7"
      },
      "source": [
        "List comprehension is an elegant way to organize one or more for loops when creating a list.\n",
        "\n",
        "# Summary\n",
        "This chapter has introduced logical operations, loops, and list comprehension. In the next chapter, we will introduce functions and object-oriented programming, which will enable us to make our codes clean and versatile."
      ]
    },
    {
      "cell_type": "markdown",
      "metadata": {
        "id": "Tef_X2wJbdhn"
      },
      "source": [
        "<div align=\"center\">\n",
        "<img style=\"display: block; margin: auto;\" alt=\"photo\" src=\"https://cdn.quantconnect.com/web/i/icon.png\">\n",
        "\n",
        "Quantconnect\n",
        "\n",
        "Introduction to Financial Python\n",
        "</div>\n",
        "\n",
        "# 03 Functions and Objective-Oriented Programming\n",
        "\n",
        "# Introduction\n",
        "\n",
        "In the last tutorial we introduced logical operations, loops and list comprehension. We will introduce functions and object-oriented programming in this chapter, which will enable us to build complex algorithms in more flexible ways.\n",
        "\n",
        "# Functions\n",
        "A function is a reusable block of code. We can use a function to output a value, or do anything else we want. We can easily define our own function by using the keyword \"def\"."
      ]
    },
    {
      "cell_type": "code",
      "metadata": {
        "colab": {
          "base_uri": "https://localhost:8080/"
        },
        "id": "eE_NkTiSO2PO",
        "outputId": "10245573-798a-45f0-d612-651f5e71697b"
      },
      "source": [
        "def product(x,y):\n",
        "    # Returns the product between two numbers\n",
        "    return x*y\n",
        "print(product(2,3))\n",
        "print(product(5,10))\n",
        "\n",
        "# Edit:\n",
        "\n",
        "print( product( product(3,4), product( 5,6)))"
      ],
      "execution_count": 87,
      "outputs": [
        {
          "output_type": "stream",
          "name": "stdout",
          "text": [
            "6\n",
            "50\n",
            "360\n"
          ]
        }
      ]
    },
    {
      "cell_type": "markdown",
      "metadata": {
        "id": "4oRU_dVJbsdD"
      },
      "source": [
        "The keyword \"def\" is followed by the function name and the parenthesized list of formal parameters. The statements that form the body of the function start at the next line, and must be indented. The product() function above has \"x\" and \"y\" as its parameters. A function doesn't necessarily have parameters:"
      ]
    },
    {
      "cell_type": "code",
      "metadata": {
        "colab": {
          "base_uri": "https://localhost:8080/"
        },
        "id": "JhdWVLbUO2PQ",
        "outputId": "2242289a-ff0c-46cb-9629-78b677cef547"
      },
      "source": [
        "def say_hi():\n",
        "    # Prints a predefined message\n",
        "    print('Welcome to QuantConnect')\n",
        "say_hi()"
      ],
      "execution_count": 88,
      "outputs": [
        {
          "output_type": "stream",
          "name": "stdout",
          "text": [
            "Welcome to QuantConnect\n"
          ]
        }
      ]
    },
    {
      "cell_type": "markdown",
      "metadata": {
        "id": "lHwqVpWVb1Jr"
      },
      "source": [
        "# Built-in Function\n",
        "**range()** is a function that creates a list containing an arithmetic sequence. It's often used in for loops. The arguments must be integers. If the \"step\" argument is omitted, it defaults to 1."
      ]
    },
    {
      "cell_type": "code",
      "metadata": {
        "colab": {
          "base_uri": "https://localhost:8080/"
        },
        "id": "VVOTELcIO2PQ",
        "outputId": "c0622380-487c-4c0b-aa5c-9533a5b9644a"
      },
      "source": [
        "# range creates an iterator useful for \"for\" loops\n",
        "print(range(10)) # [0, 1, .... , 9]\n",
        "print(range(1,11)) # [ 1, 2, .... , 10]\n",
        "print(range(1,11,2)) # [1, 3, 5, ... , 9]"
      ],
      "execution_count": 90,
      "outputs": [
        {
          "output_type": "stream",
          "name": "stdout",
          "text": [
            "range(0, 10)\n",
            "range(1, 11)\n",
            "range(1, 11, 2)\n"
          ]
        }
      ]
    },
    {
      "cell_type": "markdown",
      "metadata": {
        "id": "PD0cSgiwcQ4L"
      },
      "source": [
        "**len()** is another function used together with range() to create a for loop. This function returns the length of an object. The argument must be a sequence or a collection."
      ]
    },
    {
      "cell_type": "code",
      "metadata": {
        "colab": {
          "base_uri": "https://localhost:8080/"
        },
        "id": "Hg18c7v-O2PR",
        "outputId": "f4c1bd4a-16ad-43b2-8238-f0c2aa7c303c"
      },
      "source": [
        "tickers = ['AAPL','GOOG','IBM','FB','F','V', 'G', 'GE']\n",
        "print('The length of tickers is {}'.format(len(tickers)))\n",
        "for i in range(len(tickers)):\n",
        "    # Prints all elements in tickers, but accesing them by index\n",
        "    print(tickers[i])"
      ],
      "execution_count": 91,
      "outputs": [
        {
          "output_type": "stream",
          "name": "stdout",
          "text": [
            "The length of tickers is 8\n",
            "AAPL\n",
            "GOOG\n",
            "IBM\n",
            "FB\n",
            "F\n",
            "V\n",
            "G\n",
            "GE\n"
          ]
        }
      ]
    },
    {
      "cell_type": "markdown",
      "metadata": {
        "id": "OIQSuub1cWgi"
      },
      "source": [
        "Note: If you want to print only the tickers without those numbers, then simply write \"for ticker in tickers: print ticker\"\n",
        "\n",
        "**map(**) is a function that applies a specific function to every item of a sequence or collection, and returns a list of the results."
      ]
    },
    {
      "cell_type": "markdown",
      "metadata": {
        "id": "pqPuspeG5HAi"
      },
      "source": [
        "Because list at the moment is [1,2,3,4,5] and overwriting list() from builtins we del list"
      ]
    },
    {
      "cell_type": "code",
      "metadata": {
        "colab": {
          "base_uri": "https://localhost:8080/"
        },
        "id": "caV9c-qk4_eZ",
        "outputId": "3250dd87-0fd0-49ad-ee18-124ac34eaa1d"
      },
      "source": [
        "print(list)\n",
        "del list\n",
        "list # List is a class type, will return to its default definition"
      ],
      "execution_count": 95,
      "outputs": [
        {
          "output_type": "stream",
          "name": "stdout",
          "text": [
            "[1, 2, 3, 4, 5]\n"
          ]
        },
        {
          "output_type": "execute_result",
          "data": {
            "text/plain": [
              "list"
            ]
          },
          "metadata": {},
          "execution_count": 95
        }
      ]
    },
    {
      "cell_type": "code",
      "metadata": {
        "colab": {
          "base_uri": "https://localhost:8080/"
        },
        "id": "lJBs5ECT4mSq",
        "outputId": "7cea8650-1616-43bf-fa1b-5fd1564fc90d"
      },
      "source": [
        "tickers = ['AAPL','GOOG','IBM','FB','F','V', 'G', 'GE']\n",
        "\n",
        "# Map iterates through the list and executes a function (which has to return)\n",
        "# over all the original list elements\n",
        "\n",
        "# In this case, this takes a function (len) and evaluates for every element\n",
        "# Finally it return an array composed by the length of each string in tickers\n",
        "list(map(len,tickers))"
      ],
      "execution_count": 97,
      "outputs": [
        {
          "output_type": "execute_result",
          "data": {
            "text/plain": [
              "[4, 4, 3, 2, 1, 1, 1, 2]"
            ]
          },
          "metadata": {},
          "execution_count": 97
        }
      ]
    },
    {
      "cell_type": "code",
      "metadata": {
        "colab": {
          "base_uri": "https://localhost:8080/"
        },
        "id": "78DyKVOyO2PR",
        "outputId": "0c94c7a3-cda6-4a81-af0c-07d5ff6b9b85"
      },
      "source": [
        "tickers = ['AAPL','GOOG','IBM','FB','F','V', 'G', 'GE']\n",
        "print(list(map(len,tickers)))\n",
        "\n",
        "# Edit\n",
        "# Adds a postfix to each string in tickers\n",
        "\n",
        "def change( item ):\n",
        "  return item + \"_TEST\"\n",
        "\n",
        "print( list( map( change, tickers )))"
      ],
      "execution_count": 99,
      "outputs": [
        {
          "output_type": "stream",
          "name": "stdout",
          "text": [
            "[4, 4, 3, 2, 1, 1, 1, 2]\n",
            "['AAPL_TEST', 'GOOG_TEST', 'IBM_TEST', 'FB_TEST', 'F_TEST', 'V_TEST', 'G_TEST', 'GE_TEST']\n"
          ]
        }
      ]
    },
    {
      "cell_type": "markdown",
      "metadata": {
        "id": "mvr06UM7ca7b"
      },
      "source": [
        "The **lambda operator** is a way to create small anonymous functions. These functions are just needed where they have been created. For example:"
      ]
    },
    {
      "cell_type": "code",
      "metadata": {
        "colab": {
          "base_uri": "https://localhost:8080/"
        },
        "id": "pAEHADYXO2PR",
        "outputId": "87826138-3180-4b36-e600-9daa2607ac0d"
      },
      "source": [
        "# Calculates the square of every number in the range [0,9]\n",
        "list(map(lambda x: x**2, range(10)))"
      ],
      "execution_count": 100,
      "outputs": [
        {
          "output_type": "execute_result",
          "data": {
            "text/plain": [
              "[0, 1, 4, 9, 16, 25, 36, 49, 64, 81]"
            ]
          },
          "metadata": {},
          "execution_count": 100
        }
      ]
    },
    {
      "cell_type": "markdown",
      "metadata": {
        "id": "Mgixpxomcj3T"
      },
      "source": [
        "map() can be applied to more than one list. The lists have to have the same length."
      ]
    },
    {
      "cell_type": "code",
      "metadata": {
        "colab": {
          "base_uri": "https://localhost:8080/"
        },
        "id": "HtckhAaJO2PS",
        "outputId": "3dd3ca11-d845-4005-f8ec-0d4a0c16464b"
      },
      "source": [
        "# Calculates the sum of the elements of two arrays\n",
        "# Note a pairs set is passed as argument for the anonymous function\n",
        "print(list(map(lambda x, y: x+y, [1,2,3,4,5],[5,4,3,2,1])))\n",
        "\n",
        "# Same example done by means of functions definition\n",
        "tickers = ['AAPL','GOOG','IBM','FB','F','V', 'G', 'GE']\n",
        "print(list(map( lambda x: x + \"_TEST\", tickers)))"
      ],
      "execution_count": 104,
      "outputs": [
        {
          "output_type": "stream",
          "name": "stdout",
          "text": [
            "[6, 6, 6, 6, 6]\n",
            "['AAPL_TEST', 'GOOG_TEST', 'IBM_TEST', 'FB_TEST', 'F_TEST', 'V_TEST', 'G_TEST', 'GE_TEST']\n"
          ]
        }
      ]
    },
    {
      "cell_type": "markdown",
      "metadata": {
        "id": "ZDnMTH-KcklT"
      },
      "source": [
        "**sorted()** takes a list or set and returns a new sorted list"
      ]
    },
    {
      "cell_type": "code",
      "metadata": {
        "colab": {
          "base_uri": "https://localhost:8080/"
        },
        "id": "P0sHUMFWO2PS",
        "outputId": "321ef483-8daf-4d79-c794-8fd4ac1f30a8"
      },
      "source": [
        "print(sorted([5,2,3,4,1])) # Sorts a list (also applies for dictionaries, sets and tuples)\n",
        "\n",
        "print(sorted((5,3,1,4,2))) # Tuple"
      ],
      "execution_count": 106,
      "outputs": [
        {
          "output_type": "stream",
          "name": "stdout",
          "text": [
            "[1, 2, 3, 4, 5]\n",
            "[1, 2, 3, 4, 5]\n"
          ]
        }
      ]
    },
    {
      "cell_type": "markdown",
      "metadata": {
        "id": "-N5_EDOFcnsc"
      },
      "source": [
        "We can add a \"key\" parameter to specify a function to be called on each list element prior to making comparisons. For example:"
      ]
    },
    {
      "cell_type": "code",
      "metadata": {
        "colab": {
          "base_uri": "https://localhost:8080/"
        },
        "id": "0i3peZ0bO2PS",
        "outputId": "c3bb6819-dfc5-4e78-9419-2f6bfc7b25d4"
      },
      "source": [
        "price_list = [('AAPL',144.09),('GOOG',911.71),('MSFT',69),('FB',150),('WMT',75.32)]\n",
        "sorted(price_list, key = lambda x: x[1]) # Will sort dictionary by items value, instead of items key"
      ],
      "execution_count": 107,
      "outputs": [
        {
          "output_type": "execute_result",
          "data": {
            "text/plain": [
              "[('MSFT', 69), ('WMT', 75.32), ('AAPL', 144.09), ('FB', 150), ('GOOG', 911.71)]"
            ]
          },
          "metadata": {},
          "execution_count": 107
        }
      ]
    },
    {
      "cell_type": "markdown",
      "metadata": {
        "id": "yun2zptKcxe_"
      },
      "source": [
        "By default the values are sorted by ascending order. We can change it to descending by adding an optional parameter \"reverse'."
      ]
    },
    {
      "cell_type": "code",
      "metadata": {
        "colab": {
          "base_uri": "https://localhost:8080/"
        },
        "id": "dEZqdl94O2PT",
        "outputId": "7a707211-8b7e-49ea-cf7e-8d7c87e53778"
      },
      "source": [
        "price_list = [('AAPL',144.09),('GOOG',911.71),('MSFT',69),('FB',150),('WMT',75.32)]\n",
        "sorted(price_list, key = lambda x: x[1],reverse = True) # Reversed order for the same sample above"
      ],
      "execution_count": null,
      "outputs": [
        {
          "output_type": "execute_result",
          "data": {
            "text/plain": [
              "[('GOOG', 911.71), ('FB', 150), ('AAPL', 144.09), ('WMT', 75.32), ('MSFT', 69)]"
            ]
          },
          "metadata": {},
          "execution_count": 53
        }
      ]
    },
    {
      "cell_type": "markdown",
      "metadata": {
        "id": "OA2wYAa0c6Dn"
      },
      "source": [
        "Lists also have a function list.sort(). This function takes the same \"key\" and \"reverse\" arguments as sorted(), but it doesn't return a new list."
      ]
    },
    {
      "cell_type": "code",
      "metadata": {
        "colab": {
          "base_uri": "https://localhost:8080/"
        },
        "id": "pG9VQCLnO2PT",
        "outputId": "bf1b0694-5364-4e2f-f032-21ed620aab77"
      },
      "source": [
        "price_list = [('AAPL',144.09),('GOOG',911.71),('MSFT',69),('FB',150),('WMT',75.32)]\n",
        "price_list.sort(key = lambda x: x[1]) # Analogical method for dictionaries\n",
        "print(price_list)"
      ],
      "execution_count": null,
      "outputs": [
        {
          "output_type": "stream",
          "name": "stdout",
          "text": [
            "[('MSFT', 69), ('WMT', 75.32), ('AAPL', 144.09), ('FB', 150), ('GOOG', 911.71)]\n"
          ]
        }
      ]
    },
    {
      "cell_type": "markdown",
      "metadata": {
        "id": "mxljL1W1c_c5"
      },
      "source": [
        "# Object-Oriented Programming\n",
        "Python is an object-oriented programming language. It's important to understand the concept of \"objects\" because almost every kind of data from QuantConnect API is an object.\n",
        "\n",
        "## Class\n",
        "A class is a type of data, just like a string, float, or list. When we create an object of that data type, we call it an instance of a class.\n",
        "\n",
        "In Python, everything is an object - everything is an instance of some class. The data stored inside an object are called attributes, and the functions which are associated with the object are called methods.\n",
        "\n",
        "For example, as mentioned above, a list is an object of the \"list\" class, and it has a method list.sort().\n",
        "\n",
        "We can create our own objects by defining a class. We would do this when it's helpful to group certain functions together. For example, we define a class named \"Stock\" here:"
      ]
    },
    {
      "cell_type": "code",
      "metadata": {
        "id": "zC4Y4PgDO2PT"
      },
      "source": [
        "class stock:\n",
        "    def __init__(self, ticker, open, close, volume):\n",
        "        # Object construcctor, gets 4 arguments\n",
        "        self.ticker = ticker\n",
        "        self.open = open\n",
        "        self.close = close\n",
        "        self.volume = volume\n",
        "        self.rate_return = float(close)/open - 1\n",
        "\n",
        "    # Methods:\n",
        "    def update(self, open, close):\n",
        "        self.open = open\n",
        "        self.close = close\n",
        "        self.rate_return = float(self.close)/self.open - 1\n",
        " \n",
        "    def print_return(self):\n",
        "        print(self.rate_return)"
      ],
      "execution_count": 109,
      "outputs": []
    },
    {
      "cell_type": "markdown",
      "metadata": {
        "id": "rV06INT5dETi"
      },
      "source": [
        "The \"Stock\" class has attributes \"ticker\", \"open\", \"close\", \"volume\" and \"rate_return\". Inside the class body, the first method is called __init__, which is a special method. When we create a new instance of the class, the __init__ method is immediately executed with all the parameters that we pass to the \"Stock\" object. The purpose of this method is to set up a new \"Stock\" object using data we have provided.\n",
        "\n",
        "Here we create two Stock objects named \"apple\" and \"google\"."
      ]
    },
    {
      "cell_type": "code",
      "metadata": {
        "id": "8tIpNk93O2PU"
      },
      "source": [
        "# Invoques constructor in order to create two objects of class Stock\n",
        "apple = stock('AAPL', 143.69, 144.09, 20109375)\n",
        "google = stock('GOOG', 898.7, 911.7, 1561616)"
      ],
      "execution_count": 110,
      "outputs": []
    },
    {
      "cell_type": "markdown",
      "metadata": {
        "id": "VxmELNiHdPKS"
      },
      "source": [
        "Stock objects also have two other methods: update() and print_return(). We can access the attribues of a Stock object and call its methods:"
      ]
    },
    {
      "cell_type": "code",
      "metadata": {
        "colab": {
          "base_uri": "https://localhost:8080/"
        },
        "id": "SsiIkmekO2PU",
        "outputId": "d4952e38-fb13-4250-8dc1-0bb6cbcbacd9"
      },
      "source": [
        "apple.ticker # Gets a public attribute of apple object\n",
        "\n",
        "# Invoques methods from google object\n",
        "google.print_return() \n",
        "google.update(912.8,913.4)\n",
        "google.print_return()\n",
        "\n",
        "# Edit:\n",
        "\n",
        "apple.update(92,45)\n",
        "apple.print_return()"
      ],
      "execution_count": 112,
      "outputs": [
        {
          "output_type": "stream",
          "name": "stdout",
          "text": [
            "0.0006573181419806673\n",
            "0.0006573181419806673\n",
            "-0.5108695652173914\n"
          ]
        }
      ]
    },
    {
      "cell_type": "markdown",
      "metadata": {
        "id": "Q8fl7keNdVKF"
      },
      "source": [
        "By calling the update() function, we updated the open and close prices of a stock. Please note that when we use the attributes or call the methods **inside a class**, we need to specify them as self.attribute or self.method(), otherwise Python will deem them as global variables and thus raise an error.\n",
        "\n",
        "We can add an attribute to an object anywhere:"
      ]
    },
    {
      "cell_type": "code",
      "metadata": {
        "colab": {
          "base_uri": "https://localhost:8080/"
        },
        "id": "rO4OLnqOO2PU",
        "outputId": "12314742-42a3-4228-ac73-66f4f2c4961b"
      },
      "source": [
        "# Similar to Javascript, can get new attributes anywhere\n",
        "apple.ceo = 'Tim Cook'\n",
        "print( apple.ceo )\n",
        "\n",
        "# Edit:\n",
        "# Adds a method to apple\n",
        "apple.test = lambda x: x + 2\n",
        "\n",
        "print( apple.test(2))"
      ],
      "execution_count": 114,
      "outputs": [
        {
          "output_type": "stream",
          "name": "stdout",
          "text": [
            "Tim Cook\n",
            "4\n"
          ]
        }
      ]
    },
    {
      "cell_type": "markdown",
      "metadata": {
        "id": "WyfnFgVidh4J"
      },
      "source": [
        "We can check what names (i.e. attributes and methods) are defined on an object using the dir() function:"
      ]
    },
    {
      "cell_type": "code",
      "metadata": {
        "colab": {
          "base_uri": "https://localhost:8080/"
        },
        "id": "pPoz0LA8O2PU",
        "outputId": "1cc2d0ef-8dda-46a6-b6da-16f14b77d1a1"
      },
      "source": [
        "dir(apple)"
      ],
      "execution_count": 115,
      "outputs": [
        {
          "output_type": "execute_result",
          "data": {
            "text/plain": [
              "['__class__',\n",
              " '__delattr__',\n",
              " '__dict__',\n",
              " '__dir__',\n",
              " '__doc__',\n",
              " '__eq__',\n",
              " '__format__',\n",
              " '__ge__',\n",
              " '__getattribute__',\n",
              " '__gt__',\n",
              " '__hash__',\n",
              " '__init__',\n",
              " '__init_subclass__',\n",
              " '__le__',\n",
              " '__lt__',\n",
              " '__module__',\n",
              " '__ne__',\n",
              " '__new__',\n",
              " '__reduce__',\n",
              " '__reduce_ex__',\n",
              " '__repr__',\n",
              " '__setattr__',\n",
              " '__sizeof__',\n",
              " '__str__',\n",
              " '__subclasshook__',\n",
              " '__weakref__',\n",
              " 'ceo',\n",
              " 'close',\n",
              " 'open',\n",
              " 'print_return',\n",
              " 'rate_return',\n",
              " 'test',\n",
              " 'ticker',\n",
              " 'update',\n",
              " 'volume']"
            ]
          },
          "metadata": {},
          "execution_count": 115
        }
      ]
    },
    {
      "cell_type": "markdown",
      "metadata": {
        "id": "Qpemj1UZd2aa"
      },
      "source": [
        "## Inheritance\n",
        "Inheritance is a way of arranging classes in a hierarchy from the most general to the most specific. A \"child\" class is a more specific type of a \"parent\" class because a child class will inherit all the attribues and methods of its parent. For example, we define a class named \"Child\" which inherits \"Stock\":"
      ]
    },
    {
      "cell_type": "code",
      "metadata": {
        "id": "UELXnxomO2PV"
      },
      "source": [
        "class child(stock):\n",
        "    # Child inherits from stock\n",
        "    def __init__(self,name):\n",
        "        self.name = name"
      ],
      "execution_count": 117,
      "outputs": []
    },
    {
      "cell_type": "code",
      "metadata": {
        "colab": {
          "base_uri": "https://localhost:8080/"
        },
        "id": "ffS2THZyO2PV",
        "outputId": "9cfa7664-85d1-4a22-98aa-d22da7c45eeb"
      },
      "source": [
        "aa = child('aa')\n",
        "print(aa.name)\n",
        "\n",
        "# Methods are inherited from stock\n",
        "aa.update(100,102)\n",
        "print(aa.open)\n",
        "print(aa.close)\n",
        "print(aa.print_return())\n",
        "\n",
        "# However, since apple object got a property definion outside its class\n",
        "try:\n",
        "  print( aa.test )\n",
        "except Exception:\n",
        "  print( \"Error, could not find test attribute of aa object\" )\n"
      ],
      "execution_count": 125,
      "outputs": [
        {
          "output_type": "stream",
          "name": "stdout",
          "text": [
            "aa\n",
            "100\n",
            "102\n",
            "0.020000000000000018\n",
            "None\n",
            "Error, could not find test attribute of aa object\n"
          ]
        }
      ]
    },
    {
      "cell_type": "markdown",
      "metadata": {
        "id": "pdIEjUv2eJqL"
      },
      "source": [
        "As seen above, the new class Child has inherited the methods from Stock.\n",
        "\n",
        "#Summary\n",
        "\n",
        "In this chapter we have introduced functions and classes. When we write a QuantConnect algorithm, we would define our algorithm as a class (QCAlgorithm). This means our algorithm inherited the QC API methods from QCAlgorithm class.\n",
        "\n",
        "In the next chapter, we will introduce NumPy and Pandas, which enable us to conduct scientific calculations in Python."
      ]
    },
    {
      "cell_type": "markdown",
      "metadata": {
        "id": "dQbENH6mexTd"
      },
      "source": [
        "<div align=\"center\">\n",
        "<img style=\"display: block; margin: auto;\" alt=\"photo\" src=\"https://cdn.quantconnect.com/web/i/icon.png\">\n",
        "\n",
        "Quantconnect\n",
        "\n",
        "Introduction to Financial Python\n",
        "</div>\n",
        "\n",
        "# 04 NumPy and Basic Pandas\n",
        "\n",
        "# Introduction\n",
        "\n",
        "Now that we have introduced the fundamentals of Python, it's time to learn about NumPy and Pandas.\n",
        "\n",
        "# NumPy\n",
        "NumPy is the core library for scientific computing in Python. It provides a high-performance multidimensional array object, and tools for working with these arrays. It also has strong integration with Pandas, which is another powerful tool for manipulating financial data.\n",
        "\n",
        "Python packages like NumPy and Pandas contain classes and methods which we can use by importing the package:"
      ]
    },
    {
      "cell_type": "code",
      "metadata": {
        "id": "aIESp-rdO58h"
      },
      "source": [
        "import numpy as np"
      ],
      "execution_count": 126,
      "outputs": []
    },
    {
      "cell_type": "markdown",
      "metadata": {
        "id": "GScHHJ5ke7ea"
      },
      "source": [
        "## Basic NumPy Arrays\n",
        "A NumPy array is a grid of values, all of the same type, and is indexed by a tuple of nonnegative integers. Here we make an array by passing a list of Apple stock prices:"
      ]
    },
    {
      "cell_type": "code",
      "metadata": {
        "colab": {
          "base_uri": "https://localhost:8080/"
        },
        "id": "lZI1wkwDO58i",
        "outputId": "bc23d2c6-9d64-4735-c373-71ebb7d33fb3"
      },
      "source": [
        "price_list = [143.73, 145.83, 143.68, 144.02, 143.5, 142.62]\n",
        "price_array = np.array(price_list)\n",
        "print(price_array, type(price_array)) # Custom NumPy array"
      ],
      "execution_count": 128,
      "outputs": [
        {
          "output_type": "stream",
          "name": "stdout",
          "text": [
            "[143.73 145.83 143.68 144.02 143.5  142.62] <class 'numpy.ndarray'>\n"
          ]
        }
      ]
    },
    {
      "cell_type": "markdown",
      "metadata": {
        "id": "-5Yj6u9ifB-t"
      },
      "source": [
        "Notice that the type of array is \"ndarray\" which is a multi-dimensional array. If we pass np.array() a list of lists, it will create a 2-dimensional array."
      ]
    },
    {
      "cell_type": "code",
      "metadata": {
        "colab": {
          "base_uri": "https://localhost:8080/"
        },
        "id": "obvIZrK-O58j",
        "outputId": "d243d189-08b7-4f2b-a1d2-47a32c7a47f9"
      },
      "source": [
        "Ar = np.array([[1,3],[2,4]])\n",
        "print(Ar, type(Ar)) # Custom NumPy matrix"
      ],
      "execution_count": 129,
      "outputs": [
        {
          "output_type": "stream",
          "name": "stdout",
          "text": [
            "[[1 3]\n",
            " [2 4]] <class 'numpy.ndarray'>\n"
          ]
        }
      ]
    },
    {
      "cell_type": "markdown",
      "metadata": {
        "id": "uDdfLD9HfHkl"
      },
      "source": [
        "We get the dimensions of an ndarray using the .shape attribute:"
      ]
    },
    {
      "cell_type": "code",
      "metadata": {
        "colab": {
          "base_uri": "https://localhost:8080/"
        },
        "id": "G2txdn73O58j",
        "outputId": "7ded5e25-4203-425b-f7b9-61053e7948dd"
      },
      "source": [
        "print(Ar.shape) # Shape of matrix, it has 2 rows and 2 columns"
      ],
      "execution_count": 130,
      "outputs": [
        {
          "output_type": "stream",
          "name": "stdout",
          "text": [
            "(2, 2)\n"
          ]
        }
      ]
    },
    {
      "cell_type": "markdown",
      "metadata": {
        "id": "87W5ueORfPEy"
      },
      "source": [
        "If we create an 2-dimensional array (i.e. matrix), each row can be accessed by index:"
      ]
    },
    {
      "cell_type": "code",
      "metadata": {
        "colab": {
          "base_uri": "https://localhost:8080/"
        },
        "id": "x_QV9aPbO58j",
        "outputId": "2f95a31a-57ac-45d0-b5b6-11d41068aed1"
      },
      "source": [
        "print(Ar[0])\n",
        "print(Ar[1]) # Universal indexing methods"
      ],
      "execution_count": 131,
      "outputs": [
        {
          "output_type": "stream",
          "name": "stdout",
          "text": [
            "[1 3]\n",
            "[2 4]\n"
          ]
        }
      ]
    },
    {
      "cell_type": "markdown",
      "metadata": {
        "id": "5Hke7Vt-fSGB"
      },
      "source": [
        "If we want to access the matrix by column instead:"
      ]
    },
    {
      "cell_type": "code",
      "metadata": {
        "colab": {
          "base_uri": "https://localhost:8080/"
        },
        "id": "gHVwbPfOO58j",
        "outputId": "060cb74c-876d-4d7f-b828-8af1e6c358b3"
      },
      "source": [
        "print('the first column: ', Ar[:,0])\n",
        "print('the second column: ', Ar[:,1])\n",
        "\n",
        "# Edit:\n",
        "# Get a copy of matrix\n",
        "print( Ar[:,:] )"
      ],
      "execution_count": 132,
      "outputs": [
        {
          "output_type": "stream",
          "name": "stdout",
          "text": [
            "the first column:  [1 2]\n",
            "the second column:  [3 4]\n",
            "[[1 3]\n",
            " [2 4]]\n"
          ]
        }
      ]
    },
    {
      "cell_type": "markdown",
      "metadata": {
        "id": "T61cD0HMfStB"
      },
      "source": [
        "## Array Functions\n",
        "Some functions built in NumPy that allow us to perform calculations on arrays. For example, we can apply the natural logarithm to each element of an array:"
      ]
    },
    {
      "cell_type": "code",
      "metadata": {
        "colab": {
          "base_uri": "https://localhost:8080/"
        },
        "id": "PKhwtJ7XO58k",
        "outputId": "c51ea923-e2bd-4619-8a42-676331e4c8d8"
      },
      "source": [
        "print(np.log(price_array)) # Calculates log (natural logarithm) of each element in the array"
      ],
      "execution_count": 133,
      "outputs": [
        {
          "output_type": "stream",
          "name": "stdout",
          "text": [
            "[4.96793654 4.98244156 4.9675886  4.96995218 4.96633504 4.96018375]\n"
          ]
        }
      ]
    },
    {
      "cell_type": "markdown",
      "metadata": {
        "id": "uzjBRFBLfZ-D"
      },
      "source": [
        "Other functions return a single value:"
      ]
    },
    {
      "cell_type": "code",
      "metadata": {
        "colab": {
          "base_uri": "https://localhost:8080/"
        },
        "id": "nQuABZqUO58k",
        "outputId": "fffdbe3a-3224-41cf-b5f1-9ab883403fd0"
      },
      "source": [
        "# Calculates the mean of the numerical elements in the array\n",
        "# It is (element1 + element2 + ... elementn) / n\n",
        "print(np.mean(price_array)) \n",
        "\n",
        "# Calculates the standard desviation for the elements in the array\n",
        "# It is sqrt( ( (element1 - mean)**2 + (element2 - mean)**2 + ... + (elementn - mean)**2 ) / (n-1) )\n",
        "print(np.std(price_array))\n",
        "\n",
        "# Calculates the sum of the elements in the array\n",
        "# It is element1 + element2 + ... + elementn\n",
        "print(np.sum(price_array))\n",
        "\n",
        "# Calculates the maximum value of an element in the array\n",
        "# It is a elementk such that elementk >= elementi for every elementi in the array\n",
        "print(np.max(price_array))"
      ],
      "execution_count": 134,
      "outputs": [
        {
          "output_type": "stream",
          "name": "stdout",
          "text": [
            "143.89666666666668\n",
            "0.9673790478515796\n",
            "863.38\n",
            "145.83\n"
          ]
        }
      ]
    },
    {
      "cell_type": "markdown",
      "metadata": {
        "id": "IRW95BsifgDB"
      },
      "source": [
        "The functions above return the mean, standard deviation, total and maximum value of an array.\n",
        "\n",
        "# Pandas\n",
        "Pandas is one of the most powerful tools for dealing with financial data. \n",
        "\n",
        "First we need to import Pandas:"
      ]
    },
    {
      "cell_type": "code",
      "metadata": {
        "id": "xIYH4oUfO58k"
      },
      "source": [
        "import pandas as pd"
      ],
      "execution_count": 135,
      "outputs": []
    },
    {
      "cell_type": "markdown",
      "metadata": {
        "id": "zOig5gORfnJU"
      },
      "source": [
        "## Series\n",
        "Series is a one-dimensional labeled array capable of holding any data type (integers, strings, float, Python object, etc.)\n",
        "\n",
        "We create a Series by calling pd.Series(data), where data can be a dictionary, an array or just a scalar value."
      ]
    },
    {
      "cell_type": "code",
      "metadata": {
        "colab": {
          "base_uri": "https://localhost:8080/"
        },
        "id": "JmzoNzrPO58k",
        "outputId": "81b0be2d-e469-439a-e1b8-d6aa784f2c2b"
      },
      "source": [
        "price = [143.73, 145.83, 143.68, 144.02, 143.5, 142.62]\n",
        "s = pd.Series(price) # Creates a dataset from an array\n",
        "s"
      ],
      "execution_count": 136,
      "outputs": [
        {
          "output_type": "execute_result",
          "data": {
            "text/plain": [
              "0    143.73\n",
              "1    145.83\n",
              "2    143.68\n",
              "3    144.02\n",
              "4    143.50\n",
              "5    142.62\n",
              "dtype: float64"
            ]
          },
          "metadata": {},
          "execution_count": 136
        }
      ]
    },
    {
      "cell_type": "markdown",
      "metadata": {
        "id": "tP5iDnunfq46"
      },
      "source": [
        "We can customize the indices of a new Series:"
      ]
    },
    {
      "cell_type": "code",
      "metadata": {
        "colab": {
          "base_uri": "https://localhost:8080/"
        },
        "id": "eswQC3ZPO58l",
        "outputId": "77e8fe17-fe9d-4bc5-c2b1-bc1487ab1117"
      },
      "source": [
        "# Assign custom indexes for elements in the array\n",
        "s = pd.Series(price,index = ['a','b','c','d','e','f'])\n",
        "print(s)\n",
        "\n",
        "# Edit:\n",
        "s = pd.Series(price,index = [ \"element\" + str(x+1) for x in range( len(price) )])\n",
        "print(s)"
      ],
      "execution_count": 138,
      "outputs": [
        {
          "output_type": "stream",
          "name": "stdout",
          "text": [
            "a    143.73\n",
            "b    145.83\n",
            "c    143.68\n",
            "d    144.02\n",
            "e    143.50\n",
            "f    142.62\n",
            "dtype: float64\n",
            "element1    143.73\n",
            "element2    145.83\n",
            "element3    143.68\n",
            "element4    144.02\n",
            "element5    143.50\n",
            "element6    142.62\n",
            "dtype: float64\n"
          ]
        }
      ]
    },
    {
      "cell_type": "markdown",
      "metadata": {
        "id": "wdZrb8pEfuua"
      },
      "source": [
        "Or we can change the indices of an existing Series:"
      ]
    },
    {
      "cell_type": "code",
      "metadata": {
        "colab": {
          "base_uri": "https://localhost:8080/"
        },
        "id": "MwlRnPF6O58l",
        "outputId": "f60c6dd0-a73e-4d04-ec90-a1eb0de90e7e"
      },
      "source": [
        "s.index = [6,5,4,3,2,1] # Updates indexes (holding the initial values order)\n",
        "s"
      ],
      "execution_count": 139,
      "outputs": [
        {
          "output_type": "execute_result",
          "data": {
            "text/plain": [
              "6    143.73\n",
              "5    145.83\n",
              "4    143.68\n",
              "3    144.02\n",
              "2    143.50\n",
              "1    142.62\n",
              "dtype: float64"
            ]
          },
          "metadata": {},
          "execution_count": 139
        }
      ]
    },
    {
      "cell_type": "markdown",
      "metadata": {
        "id": "6cGNQZwLfxIz"
      },
      "source": [
        "Series is like a list since it can be sliced by index:"
      ]
    },
    {
      "cell_type": "code",
      "metadata": {
        "colab": {
          "base_uri": "https://localhost:8080/"
        },
        "id": "N9bBSg6cO58l",
        "outputId": "2ab51045-08c4-4a3f-ff8e-0335c4f278a3"
      },
      "source": [
        "print(s[1:])\n",
        "print(s[:-2]) # Same slice methods than arrays"
      ],
      "execution_count": 140,
      "outputs": [
        {
          "output_type": "stream",
          "name": "stdout",
          "text": [
            "5    145.83\n",
            "4    143.68\n",
            "3    144.02\n",
            "2    143.50\n",
            "1    142.62\n",
            "dtype: float64\n",
            "6    143.73\n",
            "5    145.83\n",
            "4    143.68\n",
            "3    144.02\n",
            "dtype: float64\n"
          ]
        }
      ]
    },
    {
      "cell_type": "markdown",
      "metadata": {
        "id": "5V25nViZfz3Z"
      },
      "source": [
        "Series is also like a dictionary whose values can be set or fetched by index label:"
      ]
    },
    {
      "cell_type": "code",
      "metadata": {
        "colab": {
          "base_uri": "https://localhost:8080/"
        },
        "id": "b3Y0kKGYO58l",
        "outputId": "e6cb57f4-fad8-4306-90cf-a8d189858f92"
      },
      "source": [
        "print(s[4])\n",
        "s[4] = 0\n",
        "print(s)\n",
        "\n",
        "# Edit:\n",
        "# Changing indexes and accesing Series object again\n",
        "s.index = [ \"element\" + str(x+1) for x in range( len(price) )]\n",
        "s[\"element5\"] = 20\n",
        "print(s)"
      ],
      "execution_count": 141,
      "outputs": [
        {
          "output_type": "stream",
          "name": "stdout",
          "text": [
            "143.68\n",
            "6    143.73\n",
            "5    145.83\n",
            "4      0.00\n",
            "3    144.02\n",
            "2    143.50\n",
            "1    142.62\n",
            "dtype: float64\n",
            "element1    143.73\n",
            "element2    145.83\n",
            "element3      0.00\n",
            "element4    144.02\n",
            "element5     20.00\n",
            "element6    142.62\n",
            "dtype: float64\n"
          ]
        }
      ]
    },
    {
      "cell_type": "markdown",
      "metadata": {
        "id": "RQ1P7Gkyf060"
      },
      "source": [
        "Series can also have a name attribute, which will be used when we make up a Pandas DataFrame using several series."
      ]
    },
    {
      "cell_type": "code",
      "metadata": {
        "colab": {
          "base_uri": "https://localhost:8080/"
        },
        "id": "ZeD4-p7KO58m",
        "outputId": "63d4af27-effd-4959-edec-e213f453c7f1"
      },
      "source": [
        "s = pd.Series(price, name = 'Apple Price List') # Sets a name to the Serie object (s)\n",
        "print(s)\n",
        "print(s.name) # Gets its attribute \"name\", setted before"
      ],
      "execution_count": 142,
      "outputs": [
        {
          "output_type": "stream",
          "name": "stdout",
          "text": [
            "0    143.73\n",
            "1    145.83\n",
            "2    143.68\n",
            "3    144.02\n",
            "4    143.50\n",
            "5    142.62\n",
            "Name: Apple Price List, dtype: float64\n",
            "Apple Price List\n"
          ]
        }
      ]
    },
    {
      "cell_type": "markdown",
      "metadata": {
        "id": "geJb1pGHf5Et"
      },
      "source": [
        "We can get the statistical summaries of a Series:"
      ]
    },
    {
      "cell_type": "code",
      "metadata": {
        "colab": {
          "base_uri": "https://localhost:8080/"
        },
        "id": "mGPtFcjegm4i",
        "outputId": "51dc1df8-503c-460b-e1b4-60914d131dff"
      },
      "source": [
        "print(s.describe()) # Calculates size, mean, std, min,max and quartiles data of a dataset"
      ],
      "execution_count": 144,
      "outputs": [
        {
          "output_type": "stream",
          "name": "stdout",
          "text": [
            "count      6.000000\n",
            "mean     143.896667\n",
            "std        1.059711\n",
            "min      142.620000\n",
            "25%      143.545000\n",
            "50%      143.705000\n",
            "75%      143.947500\n",
            "max      145.830000\n",
            "Name: Apple Price List, dtype: float64\n"
          ]
        }
      ]
    },
    {
      "cell_type": "markdown",
      "metadata": {
        "id": "LkdZu-CDgvlR"
      },
      "source": [
        "## Time Index\n",
        "Pandas has a built-in function specifically for creating date indices: pd.date_range(). We use it to create a new index for our Series:"
      ]
    },
    {
      "cell_type": "code",
      "metadata": {
        "colab": {
          "base_uri": "https://localhost:8080/"
        },
        "id": "HJe5hU4zO58m",
        "outputId": "7aa4081d-6d97-4430-ab5d-2552e9741523"
      },
      "source": [
        "# Creates an array of indexes with the same size as original s object\n",
        "# such that every index represents exactly the date one day after the previous one in the array\n",
        "time_index = pd.date_range('2017-01-01',periods = len(s),freq = 'D')\n",
        "print(time_index)\n",
        "s.index = time_index # Update index based on a date format\n",
        "print(s)"
      ],
      "execution_count": 145,
      "outputs": [
        {
          "output_type": "stream",
          "name": "stdout",
          "text": [
            "DatetimeIndex(['2017-01-01', '2017-01-02', '2017-01-03', '2017-01-04',\n",
            "               '2017-01-05', '2017-01-06'],\n",
            "              dtype='datetime64[ns]', freq='D')\n",
            "2017-01-01    143.73\n",
            "2017-01-02    145.83\n",
            "2017-01-03    143.68\n",
            "2017-01-04    144.02\n",
            "2017-01-05    143.50\n",
            "2017-01-06    142.62\n",
            "Freq: D, Name: Apple Price List, dtype: float64\n"
          ]
        }
      ]
    },
    {
      "cell_type": "markdown",
      "metadata": {
        "id": "7WedejFZg19J"
      },
      "source": [
        "Series are usually accessed using the iloc[] and loc[] methods. iloc[] is used to access elements by integer index, and loc[] is used to access the index of the series.\n",
        "\n",
        "iloc[] is necessary when the index of a series are integers, take our previous defined series as example:"
      ]
    },
    {
      "cell_type": "code",
      "metadata": {
        "colab": {
          "base_uri": "https://localhost:8080/"
        },
        "id": "KrVSOyMvO58m",
        "outputId": "6cd84a62-2eb1-4228-e5cc-d2359a9b44e3"
      },
      "source": [
        "s.index = [6,5,4,3,2,1]\n",
        "print(s)\n",
        "print(s[1]) # There is ambiguous results, array position or serie index?\n",
        "\n",
        "# Edit:\n",
        "# Getting element by array index, instead of serie index\n",
        "print( s.iloc[1] ) # Element indexed by a \"5\" key"
      ],
      "execution_count": 148,
      "outputs": [
        {
          "output_type": "stream",
          "name": "stdout",
          "text": [
            "6    143.73\n",
            "5    145.83\n",
            "4    143.68\n",
            "3    144.02\n",
            "2    143.50\n",
            "1    142.62\n",
            "Name: Apple Price List, dtype: float64\n",
            "142.62\n",
            "145.83\n"
          ]
        }
      ]
    },
    {
      "cell_type": "markdown",
      "metadata": {
        "id": "r30VKPtpg61p"
      },
      "source": [
        "If we intended to take the second element of the series, we would make a mistake here, because the index are integers. In order to access to the element we want, we use iloc[] here:"
      ]
    },
    {
      "cell_type": "code",
      "metadata": {
        "colab": {
          "base_uri": "https://localhost:8080/"
        },
        "id": "bHukfaAmO58m",
        "outputId": "2ffa89d3-6328-48e1-8355-a6e8310b8c9d"
      },
      "source": [
        "print(s.iloc[1]) # Accesing by arrays memory index, instead of series custom index"
      ],
      "execution_count": 150,
      "outputs": [
        {
          "output_type": "stream",
          "name": "stdout",
          "text": [
            "145.83\n"
          ]
        }
      ]
    },
    {
      "cell_type": "markdown",
      "metadata": {
        "id": "kHVBRL_Rg84j"
      },
      "source": [
        "While working with time series data, we often use time as the index. Pandas provides us with various methods to access the data by time index"
      ]
    },
    {
      "cell_type": "code",
      "metadata": {
        "colab": {
          "base_uri": "https://localhost:8080/"
        },
        "id": "FCf8Hg7jO58n",
        "outputId": "2a069e4c-5059-4dfa-c434-0db09e8f81da"
      },
      "source": [
        "s.index = time_index\n",
        "print(s['2017-01-03']) # Accesing via date format (Note it is even a string)"
      ],
      "execution_count": 152,
      "outputs": [
        {
          "output_type": "stream",
          "name": "stdout",
          "text": [
            "143.68\n"
          ]
        }
      ]
    },
    {
      "cell_type": "markdown",
      "metadata": {
        "id": "XJXcrSFpg-To"
      },
      "source": [
        "We can even access to a range of dates:"
      ]
    },
    {
      "cell_type": "code",
      "metadata": {
        "colab": {
          "base_uri": "https://localhost:8080/"
        },
        "id": "NsE-Lr_9O58n",
        "outputId": "225edd65-af4a-43c3-e867-fe8e9c2d31c0"
      },
      "source": [
        "print(s['2017-01-02':'2017-01-05']) # Accesing elements by a range of dates"
      ],
      "execution_count": 153,
      "outputs": [
        {
          "output_type": "stream",
          "name": "stdout",
          "text": [
            "2017-01-02    145.83\n",
            "2017-01-03    143.68\n",
            "2017-01-04    144.02\n",
            "2017-01-05    143.50\n",
            "Freq: D, Name: Apple Price List, dtype: float64\n"
          ]
        }
      ]
    },
    {
      "cell_type": "markdown",
      "metadata": {
        "id": "cWA3NCXEhCLB"
      },
      "source": [
        "Series[] provides us a very flexible way to index data. We can add any condition in the square brackets:"
      ]
    },
    {
      "cell_type": "code",
      "metadata": {
        "colab": {
          "base_uri": "https://localhost:8080/"
        },
        "id": "aawbrg2EO58n",
        "outputId": "dfbe42f7-6838-4af7-aedc-1e0e12056f7d"
      },
      "source": [
        "print(s[s < np.mean(s)] ) # Getting elements whose value is less than the general mean\n",
        "\n",
        "# Without writing \"s\" before the condition, it will evaluates and return\n",
        "# data about the compliance of the condition, in this case\n",
        "# values whose value is greater than the media and nearer to it by less than 1.64 times standard desviation\n",
        "print([(s > np.mean(s)) & (s < np.mean(s) + 1.64*np.std(s))]) "
      ],
      "execution_count": 158,
      "outputs": [
        {
          "output_type": "stream",
          "name": "stdout",
          "text": [
            "2017-01-01    143.73\n",
            "2017-01-03    143.68\n",
            "2017-01-05    143.50\n",
            "2017-01-06    142.62\n",
            "Name: Apple Price List, dtype: float64\n",
            "[2017-01-01    False\n",
            "2017-01-02    False\n",
            "2017-01-03    False\n",
            "2017-01-04     True\n",
            "2017-01-05    False\n",
            "2017-01-06    False\n",
            "Freq: D, Name: Apple Price List, dtype: bool]\n"
          ]
        }
      ]
    },
    {
      "cell_type": "markdown",
      "metadata": {
        "id": "jAByChIwhEuI"
      },
      "source": [
        "As demonstrated, we can use logical operators like & (and), | (or) and ~ (not) to group multiple conditions.\n",
        "\n",
        "# Summary\n",
        "Here we have introduced NumPy and Pandas for scientific computing in Python. In the next chapter, we will dive into Pandas to learn resampling and manipulating Pandas DataFrame, which are commonly used in financial data analysis."
      ]
    },
    {
      "cell_type": "markdown",
      "metadata": {
        "id": "OtjOpw6oJp6z"
      },
      "source": [
        "<div align=\"center\">\n",
        "<img style=\"display: block; margin: auto;\" alt=\"photo\" src=\"https://cdn.quantconnect.com/web/i/icon.png\"> <img style=\"display: block; margin: auto;\" alt=\"photo\" src=\"https://www.marketing-branding.com/wp-content/uploads/2020/07/google-colaboratory-colab-guia-completa.jpg \" width=\"50\" height=\"50\">\n",
        "<img style=\"display: block; margin: auto;\" alt=\"photo\" src=\"https://upload.wikimedia.org/wikipedia/commons/d/da/Yahoo_Finance_Logo_2019.svg\" width=\"50\" height=\"50\">  \n",
        "\n",
        "Quantconnect -> Google Colab with Yahoo Finance data\n",
        "\n",
        "Introduction to Financial Python\n",
        "</div>\n",
        "\n",
        "# 05 Pandas-Resampling and DataFrame\n",
        "\n",
        "# Introduction\n",
        "In the last chapter we had a glimpse of Pandas. In this chapter we will learn about resampling methods and the DataFrame object, which is a powerful tool for financial data analysis.\n",
        "\n",
        "# Fetching Data\n",
        "Here we use the Yahoo Finance to retrieve data.\n"
      ]
    },
    {
      "cell_type": "code",
      "metadata": {
        "colab": {
          "base_uri": "https://localhost:8080/",
          "height": 502
        },
        "id": "luU8mZTsHW9x",
        "outputId": "4d3e1c3b-d662-45c1-911f-aa6b53b3c78b"
      },
      "source": [
        "!pip install yfinance"
      ],
      "execution_count": 159,
      "outputs": [
        {
          "output_type": "stream",
          "name": "stdout",
          "text": [
            "Looking in indexes: https://pypi.org/simple, https://us-python.pkg.dev/colab-wheels/public/simple/\n",
            "Collecting yfinance\n",
            "  Downloading yfinance-0.1.74-py2.py3-none-any.whl (27 kB)\n",
            "Requirement already satisfied: multitasking>=0.0.7 in /usr/local/lib/python3.7/dist-packages (from yfinance) (0.0.11)\n",
            "Requirement already satisfied: pandas>=0.24.0 in /usr/local/lib/python3.7/dist-packages (from yfinance) (1.3.5)\n",
            "Collecting requests>=2.26\n",
            "  Downloading requests-2.28.1-py3-none-any.whl (62 kB)\n",
            "\u001b[K     |████████████████████████████████| 62 kB 984 kB/s \n",
            "\u001b[?25hRequirement already satisfied: lxml>=4.5.1 in /usr/local/lib/python3.7/dist-packages (from yfinance) (4.9.1)\n",
            "Requirement already satisfied: numpy>=1.15 in /usr/local/lib/python3.7/dist-packages (from yfinance) (1.21.6)\n",
            "Requirement already satisfied: pytz>=2017.3 in /usr/local/lib/python3.7/dist-packages (from pandas>=0.24.0->yfinance) (2022.1)\n",
            "Requirement already satisfied: python-dateutil>=2.7.3 in /usr/local/lib/python3.7/dist-packages (from pandas>=0.24.0->yfinance) (2.8.2)\n",
            "Requirement already satisfied: six>=1.5 in /usr/local/lib/python3.7/dist-packages (from python-dateutil>=2.7.3->pandas>=0.24.0->yfinance) (1.15.0)\n",
            "Requirement already satisfied: certifi>=2017.4.17 in /usr/local/lib/python3.7/dist-packages (from requests>=2.26->yfinance) (2022.6.15)\n",
            "Requirement already satisfied: urllib3<1.27,>=1.21.1 in /usr/local/lib/python3.7/dist-packages (from requests>=2.26->yfinance) (1.24.3)\n",
            "Requirement already satisfied: charset-normalizer<3,>=2 in /usr/local/lib/python3.7/dist-packages (from requests>=2.26->yfinance) (2.1.0)\n",
            "Requirement already satisfied: idna<4,>=2.5 in /usr/local/lib/python3.7/dist-packages (from requests>=2.26->yfinance) (2.10)\n",
            "Installing collected packages: requests, yfinance\n",
            "  Attempting uninstall: requests\n",
            "    Found existing installation: requests 2.23.0\n",
            "    Uninstalling requests-2.23.0:\n",
            "      Successfully uninstalled requests-2.23.0\n",
            "Successfully installed requests-2.28.1 yfinance-0.1.74\n"
          ]
        },
        {
          "output_type": "display_data",
          "data": {
            "application/vnd.colab-display-data+json": {
              "pip_warning": {
                "packages": [
                  "requests"
                ]
              }
            }
          },
          "metadata": {}
        }
      ]
    },
    {
      "cell_type": "code",
      "metadata": {
        "colab": {
          "base_uri": "https://localhost:8080/",
          "height": 692
        },
        "id": "mWZ-nirTZHrE",
        "outputId": "49455a2a-a2e5-4a6a-e5b1-2422a8c4530d"
      },
      "source": [
        "import yfinance as yf\n",
        "\n",
        "aapl = yf.Ticker(\"AAPL\")\n",
        "\n",
        "# get stock info\n",
        "print(aapl.info)\n",
        "\n",
        "# get historical market data\n",
        "aapl_table = aapl.history(start=\"2016-01-01\",  end=\"2017-12-31\")\n",
        "\n",
        "# Prints table graphically\n",
        "aapl_table"
      ],
      "execution_count": 1,
      "outputs": [
        {
          "output_type": "stream",
          "name": "stdout",
          "text": [
            "{'zip': '95014', 'sector': 'Technology', 'fullTimeEmployees': 154000, 'longBusinessSummary': 'Apple Inc. designs, manufactures, and markets smartphones, personal computers, tablets, wearables, and accessories worldwide. It also sells various related services. In addition, the company offers iPhone, a line of smartphones; Mac, a line of personal computers; iPad, a line of multi-purpose tablets; AirPods Max, an over-ear wireless headphone; and wearables, home, and accessories comprising AirPods, Apple TV, Apple Watch, Beats products, HomePod, and iPod touch. Further, it provides AppleCare support services; cloud services store services; and operates various platforms, including the App Store that allow customers to discover and download applications and digital content, such as books, music, video, games, and podcasts. Additionally, the company offers various services, such as Apple Arcade, a game subscription service; Apple Music, which offers users a curated listening experience with on-demand radio stations; Apple News+, a subscription news and magazine service; Apple TV+, which offers exclusive original content; Apple Card, a co-branded credit card; and Apple Pay, a cashless payment service, as well as licenses its intellectual property. The company serves consumers, and small and mid-sized businesses; and the education, enterprise, and government markets. It distributes third-party applications for its products through the App Store. The company also sells its products through its retail and online stores, and direct sales force; and third-party cellular network carriers, wholesalers, retailers, and resellers. Apple Inc. was incorporated in 1977 and is headquartered in Cupertino, California.', 'city': 'Cupertino', 'phone': '408 996 1010', 'state': 'CA', 'country': 'United States', 'companyOfficers': [], 'website': 'https://www.apple.com', 'maxAge': 1, 'address1': 'One Apple Park Way', 'industry': 'Consumer Electronics', 'ebitdaMargins': 0.3343, 'profitMargins': 0.25709, 'grossMargins': 0.43313998, 'operatingCashflow': 118224003072, 'revenueGrowth': 0.019, 'operatingMargins': 0.30533, 'ebitda': 129556996096, 'targetLowPrice': 136, 'recommendationKey': 'buy', 'grossProfits': 152836000000, 'freeCashflow': 83344621568, 'targetMedianPrice': 185, 'currentPrice': 171.675, 'earningsGrowth': -0.077, 'currentRatio': 0.865, 'returnOnAssets': 0.22204, 'numberOfAnalystOpinions': 44, 'targetMeanPrice': 183.76, 'debtToEquity': 205.984, 'returnOnEquity': 1.62816, 'targetHighPrice': 220, 'totalCash': 48230998016, 'totalDebt': 119691001856, 'totalRevenue': 387541991424, 'totalCashPerShare': 3.001, 'financialCurrency': 'USD', 'revenuePerShare': 23.732, 'quickRatio': 0.697, 'recommendationMean': 1.9, 'exchange': 'NMS', 'shortName': 'Apple Inc.', 'longName': 'Apple Inc.', 'exchangeTimezoneName': 'America/New_York', 'exchangeTimezoneShortName': 'EDT', 'isEsgPopulated': False, 'gmtOffSetMilliseconds': '-14400000', 'quoteType': 'EQUITY', 'symbol': 'AAPL', 'messageBoardId': 'finmb_24937', 'market': 'us_market', 'annualHoldingsTurnover': None, 'enterpriseToRevenue': 7.423, 'beta3Year': None, 'enterpriseToEbitda': 22.203, '52WeekChange': 0.17518055, 'morningStarRiskRating': None, 'forwardEps': 6.44, 'revenueQuarterlyGrowth': None, 'sharesOutstanding': 16070800384, 'fundInceptionDate': None, 'annualReportExpenseRatio': None, 'totalAssets': None, 'bookValue': 3.61, 'sharesShort': 107535584, 'sharesPercentSharesOut': 0.0067000003, 'fundFamily': None, 'lastFiscalYearEnd': 1632528000, 'heldPercentInstitutions': 0.59752, 'netIncomeToCommon': 99632996352, 'trailingEps': 6.05, 'lastDividendValue': 0.23, 'SandP52WeekChange': -0.035556436, 'priceToBook': 47.555405, 'heldPercentInsiders': 0.0007, 'nextFiscalYearEnd': 1695600000, 'yield': None, 'mostRecentQuarter': 1656115200, 'shortRatio': 1.47, 'sharesShortPreviousMonthDate': 1656547200, 'floatShares': 16053234880, 'beta': 1.230174, 'enterpriseValue': 2876609658880, 'priceHint': 2, 'threeYearAverageReturn': None, 'lastSplitDate': 1598832000, 'lastSplitFactor': '4:1', 'legalType': None, 'lastDividendDate': 1659657600, 'morningStarOverallRating': None, 'earningsQuarterlyGrowth': -0.106, 'priceToSalesTrailing12Months': 7.1191115, 'dateShortInterest': 1659052800, 'pegRatio': 3.01, 'ytdReturn': None, 'forwardPE': 26.657608, 'lastCapGain': None, 'shortPercentOfFloat': 0.0067000003, 'sharesShortPriorMonth': 112994371, 'impliedSharesOutstanding': 0, 'category': None, 'fiveYearAverageReturn': None, 'previousClose': 174.15, 'regularMarketOpen': 173.03, 'twoHundredDayAverage': 160.3535, 'trailingAnnualDividendYield': 0.005110537, 'payoutRatio': 0.1471, 'volume24Hr': None, 'regularMarketDayHigh': 173.74, 'navPrice': None, 'averageDailyVolume10Day': 62755010, 'regularMarketPreviousClose': 174.15, 'fiftyDayAverage': 150.8476, 'trailingAnnualDividendRate': 0.89, 'open': 173.03, 'toCurrency': None, 'averageVolume10days': 62755010, 'expireDate': None, 'algorithm': None, 'dividendRate': 0.92, 'exDividendDate': 1659657600, 'circulatingSupply': None, 'startDate': None, 'regularMarketDayLow': 171.64, 'currency': 'USD', 'trailingPE': 28.376032, 'regularMarketVolume': 50891314, 'lastMarket': None, 'maxSupply': None, 'openInterest': None, 'marketCap': 2758954713088, 'volumeAllCurrencies': None, 'strikePrice': None, 'averageVolume': 77846158, 'dayLow': 171.64, 'ask': 172.07, 'askSize': 900, 'volume': 50891314, 'fiftyTwoWeekHigh': 182.94, 'fromCurrency': None, 'fiveYearAvgDividendYield': 1.05, 'fiftyTwoWeekLow': 129.04, 'bid': 172.06, 'tradeable': False, 'dividendYield': 0.0053, 'bidSize': 800, 'dayHigh': 173.74, 'coinMarketCapLink': None, 'regularMarketPrice': 171.675, 'preMarketPrice': 173.31, 'logo_url': 'https://logo.clearbit.com/apple.com', 'trailingPegRatio': 3.0943}\n"
          ]
        },
        {
          "output_type": "execute_result",
          "data": {
            "text/plain": [
              "                 Open       High        Low      Close     Volume  Dividends  \\\n",
              "Date                                                                           \n",
              "2016-01-04  23.523352  24.156083  23.383509  24.151497  270597600        0.0   \n",
              "2016-01-05  24.243193  24.266117  23.477498  23.546272  223164000        0.0   \n",
              "2016-01-06  23.053389  23.468333  22.895207  23.085484  273829600        0.0   \n",
              "2016-01-07  22.622398  22.954810  22.106586  22.111170  324377600        0.0   \n",
              "2016-01-08  22.592599  22.720978  22.182241  22.228090  283192000        0.0   \n",
              "...               ...        ...        ...        ...        ...        ...   \n",
              "2017-12-22  41.594669  41.770878  41.551809  41.673248   65397600        0.0   \n",
              "2017-12-26  40.670768  40.830307  40.404072  40.616001  132742000        0.0   \n",
              "2017-12-27  40.504094  40.666013  40.411228  40.623154   85992800        0.0   \n",
              "2017-12-28  40.718392  40.920795  40.594569  40.737442   65920800        0.0   \n",
              "2017-12-29  40.604104  40.620771  40.294549  40.296928  103999600        0.0   \n",
              "\n",
              "            Stock Splits  \n",
              "Date                      \n",
              "2016-01-04             0  \n",
              "2016-01-05             0  \n",
              "2016-01-06             0  \n",
              "2016-01-07             0  \n",
              "2016-01-08             0  \n",
              "...                  ...  \n",
              "2017-12-22             0  \n",
              "2017-12-26             0  \n",
              "2017-12-27             0  \n",
              "2017-12-28             0  \n",
              "2017-12-29             0  \n",
              "\n",
              "[503 rows x 7 columns]"
            ],
            "text/html": [
              "\n",
              "  <div id=\"df-1160f618-75f7-40cc-ab26-2199a8580245\">\n",
              "    <div class=\"colab-df-container\">\n",
              "      <div>\n",
              "<style scoped>\n",
              "    .dataframe tbody tr th:only-of-type {\n",
              "        vertical-align: middle;\n",
              "    }\n",
              "\n",
              "    .dataframe tbody tr th {\n",
              "        vertical-align: top;\n",
              "    }\n",
              "\n",
              "    .dataframe thead th {\n",
              "        text-align: right;\n",
              "    }\n",
              "</style>\n",
              "<table border=\"1\" class=\"dataframe\">\n",
              "  <thead>\n",
              "    <tr style=\"text-align: right;\">\n",
              "      <th></th>\n",
              "      <th>Open</th>\n",
              "      <th>High</th>\n",
              "      <th>Low</th>\n",
              "      <th>Close</th>\n",
              "      <th>Volume</th>\n",
              "      <th>Dividends</th>\n",
              "      <th>Stock Splits</th>\n",
              "    </tr>\n",
              "    <tr>\n",
              "      <th>Date</th>\n",
              "      <th></th>\n",
              "      <th></th>\n",
              "      <th></th>\n",
              "      <th></th>\n",
              "      <th></th>\n",
              "      <th></th>\n",
              "      <th></th>\n",
              "    </tr>\n",
              "  </thead>\n",
              "  <tbody>\n",
              "    <tr>\n",
              "      <th>2016-01-04</th>\n",
              "      <td>23.523352</td>\n",
              "      <td>24.156083</td>\n",
              "      <td>23.383509</td>\n",
              "      <td>24.151497</td>\n",
              "      <td>270597600</td>\n",
              "      <td>0.0</td>\n",
              "      <td>0</td>\n",
              "    </tr>\n",
              "    <tr>\n",
              "      <th>2016-01-05</th>\n",
              "      <td>24.243193</td>\n",
              "      <td>24.266117</td>\n",
              "      <td>23.477498</td>\n",
              "      <td>23.546272</td>\n",
              "      <td>223164000</td>\n",
              "      <td>0.0</td>\n",
              "      <td>0</td>\n",
              "    </tr>\n",
              "    <tr>\n",
              "      <th>2016-01-06</th>\n",
              "      <td>23.053389</td>\n",
              "      <td>23.468333</td>\n",
              "      <td>22.895207</td>\n",
              "      <td>23.085484</td>\n",
              "      <td>273829600</td>\n",
              "      <td>0.0</td>\n",
              "      <td>0</td>\n",
              "    </tr>\n",
              "    <tr>\n",
              "      <th>2016-01-07</th>\n",
              "      <td>22.622398</td>\n",
              "      <td>22.954810</td>\n",
              "      <td>22.106586</td>\n",
              "      <td>22.111170</td>\n",
              "      <td>324377600</td>\n",
              "      <td>0.0</td>\n",
              "      <td>0</td>\n",
              "    </tr>\n",
              "    <tr>\n",
              "      <th>2016-01-08</th>\n",
              "      <td>22.592599</td>\n",
              "      <td>22.720978</td>\n",
              "      <td>22.182241</td>\n",
              "      <td>22.228090</td>\n",
              "      <td>283192000</td>\n",
              "      <td>0.0</td>\n",
              "      <td>0</td>\n",
              "    </tr>\n",
              "    <tr>\n",
              "      <th>...</th>\n",
              "      <td>...</td>\n",
              "      <td>...</td>\n",
              "      <td>...</td>\n",
              "      <td>...</td>\n",
              "      <td>...</td>\n",
              "      <td>...</td>\n",
              "      <td>...</td>\n",
              "    </tr>\n",
              "    <tr>\n",
              "      <th>2017-12-22</th>\n",
              "      <td>41.594669</td>\n",
              "      <td>41.770878</td>\n",
              "      <td>41.551809</td>\n",
              "      <td>41.673248</td>\n",
              "      <td>65397600</td>\n",
              "      <td>0.0</td>\n",
              "      <td>0</td>\n",
              "    </tr>\n",
              "    <tr>\n",
              "      <th>2017-12-26</th>\n",
              "      <td>40.670768</td>\n",
              "      <td>40.830307</td>\n",
              "      <td>40.404072</td>\n",
              "      <td>40.616001</td>\n",
              "      <td>132742000</td>\n",
              "      <td>0.0</td>\n",
              "      <td>0</td>\n",
              "    </tr>\n",
              "    <tr>\n",
              "      <th>2017-12-27</th>\n",
              "      <td>40.504094</td>\n",
              "      <td>40.666013</td>\n",
              "      <td>40.411228</td>\n",
              "      <td>40.623154</td>\n",
              "      <td>85992800</td>\n",
              "      <td>0.0</td>\n",
              "      <td>0</td>\n",
              "    </tr>\n",
              "    <tr>\n",
              "      <th>2017-12-28</th>\n",
              "      <td>40.718392</td>\n",
              "      <td>40.920795</td>\n",
              "      <td>40.594569</td>\n",
              "      <td>40.737442</td>\n",
              "      <td>65920800</td>\n",
              "      <td>0.0</td>\n",
              "      <td>0</td>\n",
              "    </tr>\n",
              "    <tr>\n",
              "      <th>2017-12-29</th>\n",
              "      <td>40.604104</td>\n",
              "      <td>40.620771</td>\n",
              "      <td>40.294549</td>\n",
              "      <td>40.296928</td>\n",
              "      <td>103999600</td>\n",
              "      <td>0.0</td>\n",
              "      <td>0</td>\n",
              "    </tr>\n",
              "  </tbody>\n",
              "</table>\n",
              "<p>503 rows × 7 columns</p>\n",
              "</div>\n",
              "      <button class=\"colab-df-convert\" onclick=\"convertToInteractive('df-1160f618-75f7-40cc-ab26-2199a8580245')\"\n",
              "              title=\"Convert this dataframe to an interactive table.\"\n",
              "              style=\"display:none;\">\n",
              "        \n",
              "  <svg xmlns=\"http://www.w3.org/2000/svg\" height=\"24px\"viewBox=\"0 0 24 24\"\n",
              "       width=\"24px\">\n",
              "    <path d=\"M0 0h24v24H0V0z\" fill=\"none\"/>\n",
              "    <path d=\"M18.56 5.44l.94 2.06.94-2.06 2.06-.94-2.06-.94-.94-2.06-.94 2.06-2.06.94zm-11 1L8.5 8.5l.94-2.06 2.06-.94-2.06-.94L8.5 2.5l-.94 2.06-2.06.94zm10 10l.94 2.06.94-2.06 2.06-.94-2.06-.94-.94-2.06-.94 2.06-2.06.94z\"/><path d=\"M17.41 7.96l-1.37-1.37c-.4-.4-.92-.59-1.43-.59-.52 0-1.04.2-1.43.59L10.3 9.45l-7.72 7.72c-.78.78-.78 2.05 0 2.83L4 21.41c.39.39.9.59 1.41.59.51 0 1.02-.2 1.41-.59l7.78-7.78 2.81-2.81c.8-.78.8-2.07 0-2.86zM5.41 20L4 18.59l7.72-7.72 1.47 1.35L5.41 20z\"/>\n",
              "  </svg>\n",
              "      </button>\n",
              "      \n",
              "  <style>\n",
              "    .colab-df-container {\n",
              "      display:flex;\n",
              "      flex-wrap:wrap;\n",
              "      gap: 12px;\n",
              "    }\n",
              "\n",
              "    .colab-df-convert {\n",
              "      background-color: #E8F0FE;\n",
              "      border: none;\n",
              "      border-radius: 50%;\n",
              "      cursor: pointer;\n",
              "      display: none;\n",
              "      fill: #1967D2;\n",
              "      height: 32px;\n",
              "      padding: 0 0 0 0;\n",
              "      width: 32px;\n",
              "    }\n",
              "\n",
              "    .colab-df-convert:hover {\n",
              "      background-color: #E2EBFA;\n",
              "      box-shadow: 0px 1px 2px rgba(60, 64, 67, 0.3), 0px 1px 3px 1px rgba(60, 64, 67, 0.15);\n",
              "      fill: #174EA6;\n",
              "    }\n",
              "\n",
              "    [theme=dark] .colab-df-convert {\n",
              "      background-color: #3B4455;\n",
              "      fill: #D2E3FC;\n",
              "    }\n",
              "\n",
              "    [theme=dark] .colab-df-convert:hover {\n",
              "      background-color: #434B5C;\n",
              "      box-shadow: 0px 1px 3px 1px rgba(0, 0, 0, 0.15);\n",
              "      filter: drop-shadow(0px 1px 2px rgba(0, 0, 0, 0.3));\n",
              "      fill: #FFFFFF;\n",
              "    }\n",
              "  </style>\n",
              "\n",
              "      <script>\n",
              "        const buttonEl =\n",
              "          document.querySelector('#df-1160f618-75f7-40cc-ab26-2199a8580245 button.colab-df-convert');\n",
              "        buttonEl.style.display =\n",
              "          google.colab.kernel.accessAllowed ? 'block' : 'none';\n",
              "\n",
              "        async function convertToInteractive(key) {\n",
              "          const element = document.querySelector('#df-1160f618-75f7-40cc-ab26-2199a8580245');\n",
              "          const dataTable =\n",
              "            await google.colab.kernel.invokeFunction('convertToInteractive',\n",
              "                                                     [key], {});\n",
              "          if (!dataTable) return;\n",
              "\n",
              "          const docLinkHtml = 'Like what you see? Visit the ' +\n",
              "            '<a target=\"_blank\" href=https://colab.research.google.com/notebooks/data_table.ipynb>data table notebook</a>'\n",
              "            + ' to learn more about interactive tables.';\n",
              "          element.innerHTML = '';\n",
              "          dataTable['output_type'] = 'display_data';\n",
              "          await google.colab.output.renderOutput(dataTable, element);\n",
              "          const docLink = document.createElement('div');\n",
              "          docLink.innerHTML = docLinkHtml;\n",
              "          element.appendChild(docLink);\n",
              "        }\n",
              "      </script>\n",
              "    </div>\n",
              "  </div>\n",
              "  "
            ]
          },
          "metadata": {},
          "execution_count": 1
        }
      ]
    },
    {
      "cell_type": "markdown",
      "metadata": {
        "id": "NkFztSYhJyVA"
      },
      "source": [
        "We will create a Series named \"aapl\" whose values are Apple's daily closing prices, which are of course indexed by dates:"
      ]
    },
    {
      "cell_type": "code",
      "metadata": {
        "id": "QDJbOpCeHW91"
      },
      "source": [
        "# Selects Close field of aapl_table, and filters values whose id's date's year is 2017\n",
        "aapl = aapl_table['Close']['2017']"
      ],
      "execution_count": 4,
      "outputs": []
    },
    {
      "cell_type": "code",
      "metadata": {
        "colab": {
          "base_uri": "https://localhost:8080/"
        },
        "id": "SXfgCQJOHW91",
        "outputId": "33d8588b-d157-4c64-8295-1b14bd3d0570"
      },
      "source": [
        "print(aapl)"
      ],
      "execution_count": 3,
      "outputs": [
        {
          "output_type": "stream",
          "name": "stdout",
          "text": [
            "Date\n",
            "2017-01-03    27.219833\n",
            "2017-01-04    27.189371\n",
            "2017-01-05    27.327633\n",
            "2017-01-06    27.632292\n",
            "2017-01-09    27.885389\n",
            "                ...    \n",
            "2017-12-22    41.673248\n",
            "2017-12-26    40.616001\n",
            "2017-12-27    40.623154\n",
            "2017-12-28    40.737442\n",
            "2017-12-29    40.296928\n",
            "Name: Close, Length: 251, dtype: float64\n"
          ]
        }
      ]
    },
    {
      "cell_type": "markdown",
      "metadata": {
        "id": "waUEgBhzKEcA"
      },
      "source": [
        "Recall that we can fetch a specific data point using series['yyyy-mm-dd']. We can also fetch the data in a specific month using series['yyyy-mm']."
      ]
    },
    {
      "cell_type": "code",
      "metadata": {
        "colab": {
          "base_uri": "https://localhost:8080/"
        },
        "id": "2gS50G0zHW92",
        "outputId": "4ede8cf9-316f-4184-9bd4-1d1366133195"
      },
      "source": [
        "print(aapl['2017-3']) # Filters data whose id's date's year and month are 2017 and 03 (March) respectively"
      ],
      "execution_count": 5,
      "outputs": [
        {
          "output_type": "stream",
          "name": "stdout",
          "text": [
            "Date\n",
            "2017-03-01    32.901917\n",
            "2017-03-02    32.706562\n",
            "2017-03-03    32.899563\n",
            "2017-03-06    32.796005\n",
            "2017-03-07    32.838375\n",
            "2017-03-08    32.715977\n",
            "2017-03-09    32.640652\n",
            "2017-03-10    32.748924\n",
            "2017-03-13    32.763058\n",
            "2017-03-14    32.713627\n",
            "2017-03-15    33.059616\n",
            "2017-03-16    33.113743\n",
            "2017-03-17    32.948990\n",
            "2017-03-20    33.294983\n",
            "2017-03-21    32.913681\n",
            "2017-03-22    33.285568\n",
            "2017-03-23    33.167877\n",
            "2017-03-24    33.101974\n",
            "2017-03-27    33.158466\n",
            "2017-03-28    33.845741\n",
            "2017-03-29    33.921055\n",
            "2017-03-30    33.876335\n",
            "2017-03-31    33.812790\n",
            "Name: Close, dtype: float64\n"
          ]
        }
      ]
    },
    {
      "cell_type": "code",
      "metadata": {
        "colab": {
          "base_uri": "https://localhost:8080/"
        },
        "id": "vpvxGwXtHW92",
        "outputId": "5bc3284a-a4f8-4681-a4cd-f4197e86898d"
      },
      "source": [
        "aapl['2017-2':'2017-4'] # Filters data whose id's date's is between February and April 2017"
      ],
      "execution_count": 6,
      "outputs": [
        {
          "output_type": "execute_result",
          "data": {
            "text/plain": [
              "Date\n",
              "2017-02-01    30.172647\n",
              "2017-02-02    30.121096\n",
              "2017-02-03    30.249987\n",
              "2017-02-06    30.533554\n",
              "2017-02-07    30.824142\n",
              "                ...    \n",
              "2017-04-24    33.808079\n",
              "2017-04-25    34.017555\n",
              "2017-04-26    33.817493\n",
              "2017-04-27    33.843388\n",
              "2017-04-28    33.810432\n",
              "Name: Close, Length: 61, dtype: float64"
            ]
          },
          "metadata": {},
          "execution_count": 6
        }
      ]
    },
    {
      "cell_type": "markdown",
      "metadata": {
        "id": "lWwoD39pKNKb"
      },
      "source": [
        ".head(N) and .tail(N) are methods for quickly accessing the first or last N elements."
      ]
    },
    {
      "cell_type": "code",
      "metadata": {
        "colab": {
          "base_uri": "https://localhost:8080/"
        },
        "id": "1eU218ALHW93",
        "outputId": "0066cabb-c57b-4b64-c75e-41d0091f50c5"
      },
      "source": [
        "print(aapl.head(5)) # First dataset element\n",
        "print(aapl.tail(10)) # Last dataset element"
      ],
      "execution_count": 7,
      "outputs": [
        {
          "output_type": "stream",
          "name": "stdout",
          "text": [
            "Date\n",
            "2017-01-03    27.219833\n",
            "2017-01-04    27.189371\n",
            "2017-01-05    27.327633\n",
            "2017-01-06    27.632292\n",
            "2017-01-09    27.885389\n",
            "Name: Close, dtype: float64\n",
            "Date\n",
            "2017-12-15    41.425613\n",
            "2017-12-18    42.009007\n",
            "2017-12-19    41.561337\n",
            "2017-12-20    41.516098\n",
            "2017-12-21    41.673248\n",
            "2017-12-22    41.673248\n",
            "2017-12-26    40.616001\n",
            "2017-12-27    40.623154\n",
            "2017-12-28    40.737442\n",
            "2017-12-29    40.296928\n",
            "Name: Close, dtype: float64\n"
          ]
        }
      ]
    },
    {
      "cell_type": "markdown",
      "metadata": {
        "id": "IxhKxtj-KQ66"
      },
      "source": [
        "# Resampling\n",
        "**_series.resample(freq)_** is a class called \"DatetimeIndexResampler\" which groups data in a Series object into regular time intervals. The argument \"freq\" determines the length of each interval.\n",
        "\n",
        "**_series.resample.mean()_** is a complete statement that groups data into intervals, and then compute the mean of each interval. For example, if we want to aggregate the daily data into monthly data by mean:"
      ]
    },
    {
      "cell_type": "code",
      "metadata": {
        "colab": {
          "base_uri": "https://localhost:8080/"
        },
        "id": "rAV8NkHkHW93",
        "outputId": "8c34aa62-48f0-4fda-9874-e8087178a91c"
      },
      "source": [
        "by_month = aapl.resample('M').mean() # Groups data by month, for each group calculates its values mean\n",
        "print(by_month)"
      ],
      "execution_count": 8,
      "outputs": [
        {
          "output_type": "stream",
          "name": "stdout",
          "text": [
            "Date\n",
            "2017-01-31    28.021313\n",
            "2017-02-28    31.430155\n",
            "2017-03-31    33.096760\n",
            "2017-04-30    33.630813\n",
            "2017-05-31    35.924381\n",
            "2017-06-30    34.938205\n",
            "2017-07-31    35.048844\n",
            "2017-08-31    37.686051\n",
            "2017-09-30    37.395193\n",
            "2017-10-31    37.444726\n",
            "2017-11-30    41.004147\n",
            "2017-12-31    40.930679\n",
            "Freq: M, Name: Close, dtype: float64\n"
          ]
        }
      ]
    },
    {
      "cell_type": "markdown",
      "metadata": {
        "id": "QDPfVzBEKV6Q"
      },
      "source": [
        "We can also aggregate the data by week:"
      ]
    },
    {
      "cell_type": "code",
      "metadata": {
        "colab": {
          "base_uri": "https://localhost:8080/"
        },
        "id": "aAP3tKkBHW94",
        "outputId": "cf1e8565-e96b-4ce2-ae39-bc775d48a24f"
      },
      "source": [
        "by_week = aapl.resample('W').mean() # Groups by week and calculates each group's mean\n",
        "print(by_week.head())"
      ],
      "execution_count": 9,
      "outputs": [
        {
          "output_type": "stream",
          "name": "stdout",
          "text": [
            "Date\n",
            "2017-01-08    27.342282\n",
            "2017-01-15    27.941166\n",
            "2017-01-22    28.108609\n",
            "2017-01-29    28.394868\n",
            "2017-02-05    29.497252\n",
            "Freq: W-SUN, Name: Close, dtype: float64\n"
          ]
        }
      ]
    },
    {
      "cell_type": "markdown",
      "metadata": {
        "id": "o_MXSVsILoBS"
      },
      "source": [
        "We can also aggregate the data by month with max:"
      ]
    },
    {
      "cell_type": "code",
      "metadata": {
        "colab": {
          "base_uri": "https://localhost:8080/"
        },
        "id": "gn0wqXBTHW95",
        "outputId": "46d24890-9143-4c75-a4d3-f78876f6b0e3"
      },
      "source": [
        "print(aapl.resample('M').max()) # Groups by month and calculates each group's maximum value\n",
        "\n",
        "# Edit:\n",
        "print(aapl.resample(\"Y\").mean()) # Groups by year and calculates each group's mean"
      ],
      "execution_count": 11,
      "outputs": [
        {
          "output_type": "stream",
          "name": "stdout",
          "text": [
            "Date\n",
            "2017-01-31    28.579067\n",
            "2017-02-28    32.271130\n",
            "2017-03-31    33.921055\n",
            "2017-04-30    34.074047\n",
            "2017-05-31    36.892399\n",
            "2017-06-30    36.738781\n",
            "2017-07-31    36.268475\n",
            "2017-08-31    38.911682\n",
            "2017-09-30    38.923546\n",
            "2017-10-31    40.107498\n",
            "2017-11-30    41.815823\n",
            "2017-12-31    42.009007\n",
            "Freq: M, Name: Close, dtype: float64\n",
            "Date\n",
            "2017-12-31    35.601321\n",
            "Freq: A-DEC, Name: Close, dtype: float64\n"
          ]
        }
      ]
    },
    {
      "cell_type": "markdown",
      "metadata": {
        "id": "Z8r46UFlLdAh"
      },
      "source": [
        "We can choose almost any frequency by using the format 'nf', where 'n' is an integer and 'f' is M for month, W for week and D for day."
      ]
    },
    {
      "cell_type": "code",
      "metadata": {
        "colab": {
          "base_uri": "https://localhost:8080/"
        },
        "id": "kdVB_-JFHW96",
        "outputId": "845c47b8-a547-4b60-d43e-a49d8d7c4982"
      },
      "source": [
        "# For each group calculates its mean:\n",
        "\n",
        "three_day = aapl.resample('3D').mean() # Groups elements created every three days\n",
        "two_week = aapl.resample('2W').mean() # Groups elements created every two weeks\n",
        "two_month = aapl.resample('2M').mean() # Groups elements created every two months\n",
        "test = aapl.resample(\"2D\").mean() # Groups elements created every two days\n",
        "\n",
        "print(three_day)\n",
        "print(two_week)\n",
        "print(two_month )\n",
        "print( test )"
      ],
      "execution_count": 15,
      "outputs": [
        {
          "output_type": "stream",
          "name": "stdout",
          "text": [
            "Date\n",
            "2017-01-03    27.245612\n",
            "2017-01-06    27.632292\n",
            "2017-01-09    27.954134\n",
            "2017-01-12    27.921715\n",
            "2017-01-15    28.122084\n",
            "                ...    \n",
            "2017-12-17    41.785172\n",
            "2017-12-20    41.620865\n",
            "2017-12-23          NaN\n",
            "2017-12-26    40.658866\n",
            "2017-12-29    40.296928\n",
            "Freq: 3D, Name: Close, Length: 121, dtype: float64\n",
            "Date\n",
            "2017-01-08    27.342282\n",
            "2017-01-22    28.015585\n",
            "2017-02-05    28.946060\n",
            "2017-02-19    31.341193\n",
            "2017-03-05    32.413925\n",
            "2017-03-19    32.833897\n",
            "2017-04-02    33.437847\n",
            "2017-04-16    33.661109\n",
            "2017-04-30    33.603547\n",
            "2017-05-14    35.498714\n",
            "2017-05-28    36.292811\n",
            "2017-06-11    36.311531\n",
            "2017-06-25    34.336638\n",
            "2017-07-09    34.074197\n",
            "2017-07-23    35.082285\n",
            "2017-08-06    36.070652\n",
            "2017-08-20    37.692904\n",
            "2017-09-03    38.244487\n",
            "2017-09-17    38.069386\n",
            "2017-10-01    36.635584\n",
            "2017-10-15    36.865020\n",
            "2017-10-29    37.546923\n",
            "2017-11-12    40.803593\n",
            "2017-11-26    40.974770\n",
            "2017-12-10    40.639341\n",
            "2017-12-24    41.388940\n",
            "2018-01-07    40.568381\n",
            "Freq: 2W-SUN, Name: Close, dtype: float64\n",
            "Date\n",
            "2017-01-31    28.021313\n",
            "2017-03-31    32.342820\n",
            "2017-05-31    34.861508\n",
            "2017-07-31    34.990890\n",
            "2017-09-30    37.550768\n",
            "2017-11-30    39.183048\n",
            "2018-01-31    40.930679\n",
            "Freq: 2M, Name: Close, dtype: float64\n",
            "Date\n",
            "2017-01-03    27.204602\n",
            "2017-01-05    27.479962\n",
            "2017-01-07          NaN\n",
            "2017-01-09    27.899452\n",
            "2017-01-11    28.004910\n",
            "                ...    \n",
            "2017-12-21    41.673248\n",
            "2017-12-23          NaN\n",
            "2017-12-25    40.616001\n",
            "2017-12-27    40.680298\n",
            "2017-12-29    40.296928\n",
            "Freq: 2D, Name: Close, Length: 181, dtype: float64\n"
          ]
        }
      ]
    },
    {
      "cell_type": "markdown",
      "metadata": {
        "id": "iy4RqsnwL-Bw"
      },
      "source": [
        "Besides the mean() method, other methods can also be used with the resampler:\n",
        "\n"
      ]
    },
    {
      "cell_type": "code",
      "metadata": {
        "colab": {
          "base_uri": "https://localhost:8080/"
        },
        "id": "DNT8Fx9dHW96",
        "outputId": "470103db-7925-436e-82af-95645a45d191"
      },
      "source": [
        "std = aapl.resample('W').std() # Groups elements by week and calculates their standard desviation\n",
        "max = aapl.resample('W').max() # Groups elements by week and calculates their max value\n",
        "min = aapl.resample('W').min() # Groups elements by week and calculates their min value\n",
        "\n",
        "# Edit:\n",
        "count = aapl.resample('W').count() # Groups elements by week and counts their elements count\n",
        "print(std)\n",
        "print(max)\n",
        "print(min)\n",
        "print(count)"
      ],
      "execution_count": 16,
      "outputs": [
        {
          "output_type": "stream",
          "name": "stdout",
          "text": [
            "Date\n",
            "2017-01-08    0.202234\n",
            "2017-01-15    0.072126\n",
            "2017-01-22    0.025410\n",
            "2017-01-29    0.243920\n",
            "2017-02-05    0.938003\n",
            "2017-02-12    0.250595\n",
            "2017-02-19    0.230102\n",
            "2017-02-26    0.059008\n",
            "2017-03-05    0.338194\n",
            "2017-03-12    0.075865\n",
            "2017-03-19    0.176840\n",
            "2017-03-26    0.156390\n",
            "2017-04-02    0.318026\n",
            "2017-04-09    0.127970\n",
            "2017-04-16    0.211291\n",
            "2017-04-23    0.173700\n",
            "2017-04-30    0.089523\n",
            "2017-05-07    0.234326\n",
            "2017-05-14    0.351011\n",
            "2017-05-21    0.533100\n",
            "2017-05-28    0.060058\n",
            "2017-06-04    0.279658\n",
            "2017-06-11    0.616581\n",
            "2017-06-18    0.380429\n",
            "2017-06-25    0.128173\n",
            "2017-07-02    0.262638\n",
            "2017-07-09    0.158002\n",
            "2017-07-16    0.402025\n",
            "2017-07-23    0.124294\n",
            "2017-07-30    0.382301\n",
            "2017-08-06    0.919238\n",
            "2017-08-13    0.464864\n",
            "2017-08-20    0.432827\n",
            "2017-08-27    0.274226\n",
            "2017-09-03    0.250323\n",
            "2017-09-10    0.379516\n",
            "2017-09-17    0.292507\n",
            "2017-09-24    0.731096\n",
            "2017-10-01    0.352870\n",
            "2017-10-08    0.203716\n",
            "2017-10-15    0.118069\n",
            "2017-10-22    0.514122\n",
            "2017-10-29    0.676664\n",
            "2017-11-05    0.557564\n",
            "2017-11-12    0.189905\n",
            "2017-11-19    0.433769\n",
            "2017-11-26    0.559908\n",
            "2017-12-03    0.425062\n",
            "2017-12-10    0.072723\n",
            "2017-12-17    0.204121\n",
            "2017-12-24    0.193044\n",
            "2017-12-31    0.189329\n",
            "Freq: W-SUN, Name: Close, dtype: float64\n",
            "Date\n",
            "2017-01-08    27.632292\n",
            "2017-01-15    28.063498\n",
            "2017-01-22    28.122084\n",
            "2017-01-29    28.579067\n",
            "2017-02-05    30.249987\n",
            "2017-02-12    31.167261\n",
            "2017-02-19    31.943979\n",
            "2017-02-26    32.271130\n",
            "2017-03-05    32.901917\n",
            "2017-03-12    32.838375\n",
            "2017-03-19    33.113743\n",
            "2017-03-26    33.294983\n",
            "2017-04-02    33.921055\n",
            "2017-04-09    34.074047\n",
            "2017-04-16    33.697460\n",
            "2017-04-23    33.525646\n",
            "2017-04-30    34.017555\n",
            "2017-05-07    35.060234\n",
            "2017-05-14    36.892399\n",
            "2017-05-21    36.797863\n",
            "2017-05-28    36.393738\n",
            "2017-06-04    36.738781\n",
            "2017-06-11    36.719879\n",
            "2017-06-18    34.644817\n",
            "2017-06-25    34.585739\n",
            "2017-07-02    34.465210\n",
            "2017-07-09    34.075237\n",
            "2017-07-16    35.223843\n",
            "2017-07-23    35.691803\n",
            "2017-07-30    36.268475\n",
            "2017-08-06    37.138184\n",
            "2017-08-13    38.064632\n",
            "2017-08-20    38.342239\n",
            "2017-08-27    37.957855\n",
            "2017-09-03    38.923546\n",
            "2017-09-10    38.456131\n",
            "2017-09-17    38.318523\n",
            "2017-09-24    37.661289\n",
            "2017-10-01    36.593597\n",
            "2017-10-08    36.868820\n",
            "2017-10-15    37.248444\n",
            "2017-10-22    38.074135\n",
            "2017-10-29    38.686275\n",
            "2017-11-05    40.928444\n",
            "2017-11-12    41.815823\n",
            "2017-11-19    41.425613\n",
            "2017-11-26    41.663731\n",
            "2017-12-03    41.454185\n",
            "2017-12-10    40.432655\n",
            "2017-12-17    41.425613\n",
            "2017-12-24    42.009007\n",
            "2017-12-31    40.737442\n",
            "Freq: W-SUN, Name: Close, dtype: float64\n",
            "Date\n",
            "2017-01-08    27.189371\n",
            "2017-01-15    27.885389\n",
            "2017-01-22    28.070530\n",
            "2017-01-29    28.115053\n",
            "2017-02-05    28.438454\n",
            "2017-02-12    30.533554\n",
            "2017-02-19    31.372034\n",
            "2017-02-26    32.134632\n",
            "2017-03-05    32.228775\n",
            "2017-03-12    32.640652\n",
            "2017-03-19    32.713627\n",
            "2017-03-26    32.913681\n",
            "2017-04-02    33.158466\n",
            "2017-04-09    33.737473\n",
            "2017-04-16    33.198486\n",
            "2017-04-23    33.111393\n",
            "2017-04-30    33.808079\n",
            "2017-05-07    34.488289\n",
            "2017-05-14    36.013458\n",
            "2017-05-21    35.509830\n",
            "2017-05-28    36.240105\n",
            "2017-06-04    36.103027\n",
            "2017-06-11    35.209667\n",
            "2017-06-18    33.623848\n",
            "2017-06-25    34.271408\n",
            "2017-07-02    33.957077\n",
            "2017-07-09    33.732555\n",
            "2017-07-16    34.283230\n",
            "2017-07-23    35.346745\n",
            "2017-07-30    35.332569\n",
            "2017-08-06    35.150585\n",
            "2017-08-13    36.852207\n",
            "2017-08-20    37.369450\n",
            "2017-08-27    37.300644\n",
            "2017-09-03    38.311398\n",
            "2017-09-10    37.637558\n",
            "2017-09-17    37.554512\n",
            "2017-09-24    36.038391\n",
            "2017-10-01    35.720444\n",
            "2017-10-08    36.415630\n",
            "2017-10-15    36.975582\n",
            "2017-10-22    37.008793\n",
            "2017-10-29    37.053879\n",
            "2017-11-05    39.557030\n",
            "2017-11-12    41.343666\n",
            "2017-11-19    40.261208\n",
            "2017-11-26    40.475513\n",
            "2017-12-03    40.356457\n",
            "2017-12-10    40.244534\n",
            "2017-12-17    40.885078\n",
            "2017-12-24    41.516098\n",
            "2017-12-31    40.296928\n",
            "Freq: W-SUN, Name: Close, dtype: float64\n",
            "Date\n",
            "2017-01-08    4\n",
            "2017-01-15    5\n",
            "2017-01-22    4\n",
            "2017-01-29    5\n",
            "2017-02-05    5\n",
            "2017-02-12    5\n",
            "2017-02-19    5\n",
            "2017-02-26    4\n",
            "2017-03-05    5\n",
            "2017-03-12    5\n",
            "2017-03-19    5\n",
            "2017-03-26    5\n",
            "2017-04-02    5\n",
            "2017-04-09    5\n",
            "2017-04-16    4\n",
            "2017-04-23    5\n",
            "2017-04-30    5\n",
            "2017-05-07    5\n",
            "2017-05-14    5\n",
            "2017-05-21    5\n",
            "2017-05-28    5\n",
            "2017-06-04    4\n",
            "2017-06-11    5\n",
            "2017-06-18    5\n",
            "2017-06-25    5\n",
            "2017-07-02    5\n",
            "2017-07-09    4\n",
            "2017-07-16    5\n",
            "2017-07-23    5\n",
            "2017-07-30    5\n",
            "2017-08-06    5\n",
            "2017-08-13    5\n",
            "2017-08-20    5\n",
            "2017-08-27    5\n",
            "2017-09-03    5\n",
            "2017-09-10    4\n",
            "2017-09-17    5\n",
            "2017-09-24    5\n",
            "2017-10-01    5\n",
            "2017-10-08    5\n",
            "2017-10-15    5\n",
            "2017-10-22    5\n",
            "2017-10-29    5\n",
            "2017-11-05    5\n",
            "2017-11-12    5\n",
            "2017-11-19    5\n",
            "2017-11-26    4\n",
            "2017-12-03    5\n",
            "2017-12-10    5\n",
            "2017-12-17    5\n",
            "2017-12-24    5\n",
            "2017-12-31    4\n",
            "Freq: W-SUN, Name: Close, dtype: int64\n"
          ]
        }
      ]
    },
    {
      "cell_type": "markdown",
      "metadata": {
        "id": "uqln0s5DMI3I"
      },
      "source": [
        "Often we want to calculate monthly returns of a stock, based on prices on the last day of each month. To fetch those prices, we use the series.resample.agg() method:"
      ]
    },
    {
      "cell_type": "code",
      "metadata": {
        "colab": {
          "base_uri": "https://localhost:8080/"
        },
        "id": "A6FSYvqbHW97",
        "outputId": "2e475566-8947-475e-bb2c-3187e09c6bc7"
      },
      "source": [
        "# Fetches the last element from a group\n",
        "# in this case, its the last day's price\n",
        "last_day = aapl.resample('M').agg(lambda x: x[-1])\n",
        "print(last_day)"
      ],
      "execution_count": 17,
      "outputs": [
        {
          "output_type": "stream",
          "name": "stdout",
          "text": [
            "Date\n",
            "2017-01-31    28.438454\n",
            "2017-02-28    32.242889\n",
            "2017-03-31    33.812790\n",
            "2017-04-30    33.810432\n",
            "2017-05-31    36.103027\n",
            "2017-06-30    34.037437\n",
            "2017-07-31    35.150585\n",
            "2017-08-31    38.911682\n",
            "2017-09-30    36.567482\n",
            "2017-10-31    40.107498\n",
            "2017-11-30    40.920811\n",
            "2017-12-31    40.296928\n",
            "Freq: M, Name: Close, dtype: float64\n"
          ]
        }
      ]
    },
    {
      "cell_type": "markdown",
      "metadata": {
        "id": "uwomY3aXMR46"
      },
      "source": [
        "Or directly calculate the monthly rates of return using the data for the first day and the last day:"
      ]
    },
    {
      "cell_type": "code",
      "metadata": {
        "colab": {
          "base_uri": "https://localhost:8080/"
        },
        "id": "qK2NMJrNHW96",
        "outputId": "320580b8-ed8f-4904-b3e6-38b6675712bd"
      },
      "source": [
        "# Fetches last and first day prices data\n",
        "# Then calculates its relationship (montly rate)\n",
        "monthly_return = aapl.resample('M').agg(lambda x: x[-1]/x[0] - 1)\n",
        "\n",
        "print(monthly_return)\n",
        "\n",
        "# Edit:\n",
        "# Calculate the mean of prices bassed on the first, middle and last days prices\n",
        "montly_mean = aapl.resample('M').agg(lambda x: (\n",
        "    x[0] + x[-1] + x[ ( len(x) // 2 if len(x) % 2 == 1 else len(x) // 2 -1 )] ) / 3\n",
        "  )\n",
        "\n",
        "print(montly_mean)"
      ],
      "execution_count": 20,
      "outputs": [
        {
          "output_type": "stream",
          "name": "stdout",
          "text": [
            "Date\n",
            "2017-01-31    0.044770\n",
            "2017-02-28    0.068613\n",
            "2017-03-31    0.027685\n",
            "2017-04-30   -0.000348\n",
            "2017-05-31    0.046463\n",
            "2017-06-30   -0.059799\n",
            "2017-07-31    0.036446\n",
            "2017-08-31    0.097261\n",
            "2017-09-30   -0.060531\n",
            "2017-10-31    0.099018\n",
            "2017-11-30    0.033422\n",
            "2017-12-31   -0.010640\n",
            "Freq: M, Name: Close, dtype: float64\n",
            "Date\n",
            "2017-01-31    27.926790\n",
            "2017-02-28    31.398250\n",
            "2017-03-31    33.276150\n",
            "2017-04-30    33.671571\n",
            "2017-05-31    35.800317\n",
            "2017-06-30    34.780322\n",
            "2017-07-31    34.803956\n",
            "2017-08-31    37.520749\n",
            "2017-09-30    37.808392\n",
            "2017-10-31    38.178527\n",
            "2017-11-30    40.259796\n",
            "2017-12-31    40.678716\n",
            "Freq: M, Name: Close, dtype: float64\n"
          ]
        }
      ]
    },
    {
      "cell_type": "markdown",
      "metadata": {
        "id": "_DYbMTFWMj8J"
      },
      "source": [
        "Series object also provides us some convenient methods to do some quick calculation."
      ]
    },
    {
      "cell_type": "code",
      "metadata": {
        "colab": {
          "base_uri": "https://localhost:8080/"
        },
        "id": "1Mxc0HwvHW98",
        "outputId": "45ab9905-cb00-4943-ee77-7e8c93aa7cd8"
      },
      "source": [
        "# Calculations over previously obtained sets\n",
        "print(monthly_return.mean())\n",
        "print(monthly_return.std())\n",
        "print(monthly_return.max())\n",
        "\n",
        "# Edit:\n",
        "print(montly_mean.mean())\n",
        "print(montly_mean.std())\n",
        "print(montly_mean.max())"
      ],
      "execution_count": 23,
      "outputs": [
        {
          "output_type": "stream",
          "name": "stdout",
          "text": [
            "0.02686335042097802\n",
            "0.052258534895370336\n",
            "0.09901819505353271\n",
            "35.50862799750434\n",
            "3.6880593044053307\n",
            "40.67871602376302\n"
          ]
        }
      ]
    },
    {
      "cell_type": "markdown",
      "metadata": {
        "id": "mn59J5dqMpqX"
      },
      "source": [
        "Another two methods frequently used on Series are .diff() and .pct_change(). The former calculates the difference between consecutive elements, and the latter calculates the percentage change."
      ]
    },
    {
      "cell_type": "code",
      "metadata": {
        "colab": {
          "base_uri": "https://localhost:8080/"
        },
        "id": "DupZTSqqHW99",
        "outputId": "141cb6b9-3a98-4204-b65c-1291020b7745"
      },
      "source": [
        "print(last_day.diff()) # Difference between consecutive elements\n",
        "print(last_day.pct_change()) # Percentage change of the previous difference (compared with the original value)"
      ],
      "execution_count": null,
      "outputs": [
        {
          "output_type": "stream",
          "name": "stdout",
          "text": [
            "Date\n",
            "2017-01-31         NaN\n",
            "2017-02-28    3.825745\n",
            "2017-03-31    1.578693\n",
            "2017-04-30   -0.002365\n",
            "2017-05-31    2.305443\n",
            "2017-06-30   -2.077160\n",
            "2017-07-31    1.119385\n",
            "2017-08-31    3.782162\n",
            "2017-09-30   -2.357327\n",
            "2017-10-31    3.559849\n",
            "2017-11-30    0.817856\n",
            "2017-12-31   -0.627361\n",
            "Freq: M, Name: Close, dtype: float64\n",
            "Date\n",
            "2017-01-31         NaN\n",
            "2017-02-28    0.133778\n",
            "2017-03-31    0.048690\n",
            "2017-04-30   -0.000070\n",
            "2017-05-31    0.067807\n",
            "2017-06-30   -0.057214\n",
            "2017-07-31    0.032704\n",
            "2017-08-31    0.106999\n",
            "2017-09-30   -0.060244\n",
            "2017-10-31    0.096808\n",
            "2017-11-30    0.020278\n",
            "2017-12-31   -0.015246\n",
            "Freq: M, Name: Close, dtype: float64\n"
          ]
        }
      ]
    },
    {
      "cell_type": "markdown",
      "metadata": {
        "id": "RaMAOFepM6Io"
      },
      "source": [
        "Notice that we induced a NaN value while calculating percentage changes i.e. returns.\n",
        "\n",
        "When dealing with NaN values, we usually either removing the data point or fill it with a specific value. Here we fill it with 0:"
      ]
    },
    {
      "cell_type": "code",
      "metadata": {
        "colab": {
          "base_uri": "https://localhost:8080/"
        },
        "id": "-xyLb3A3HW99",
        "outputId": "443eedd7-9f49-4a1b-865a-b6628f423ad9"
      },
      "source": [
        "daily_return = last_day.pct_change()\n",
        "print(daily_return.fillna(0)) # Replaces the initial NaN value with a 0, meaning there is not any difference in the first day"
      ],
      "execution_count": 24,
      "outputs": [
        {
          "output_type": "stream",
          "name": "stdout",
          "text": [
            "Date\n",
            "2017-01-31    0.000000\n",
            "2017-02-28    0.133778\n",
            "2017-03-31    0.048690\n",
            "2017-04-30   -0.000070\n",
            "2017-05-31    0.067807\n",
            "2017-06-30   -0.057214\n",
            "2017-07-31    0.032704\n",
            "2017-08-31    0.107000\n",
            "2017-09-30   -0.060244\n",
            "2017-10-31    0.096808\n",
            "2017-11-30    0.020278\n",
            "2017-12-31   -0.015246\n",
            "Freq: M, Name: Close, dtype: float64\n"
          ]
        }
      ]
    },
    {
      "cell_type": "markdown",
      "metadata": {
        "id": "BYS10Om1NQVC"
      },
      "source": [
        "Alternatively, we can fill a NaN with the next fitted value. This is called 'backward fill', or 'bfill' in short:"
      ]
    },
    {
      "cell_type": "code",
      "metadata": {
        "colab": {
          "base_uri": "https://localhost:8080/"
        },
        "id": "J513kHeKHW9-",
        "outputId": "1d14964d-352f-44dc-bfe8-14b0e92e46ea"
      },
      "source": [
        "daily_return = last_day.pct_change()\n",
        "print(daily_return.fillna(method = 'bfill')) # Replaces the initial NaN value with the next value in the set"
      ],
      "execution_count": 25,
      "outputs": [
        {
          "output_type": "stream",
          "name": "stdout",
          "text": [
            "Date\n",
            "2017-01-31    0.133778\n",
            "2017-02-28    0.133778\n",
            "2017-03-31    0.048690\n",
            "2017-04-30   -0.000070\n",
            "2017-05-31    0.067807\n",
            "2017-06-30   -0.057214\n",
            "2017-07-31    0.032704\n",
            "2017-08-31    0.107000\n",
            "2017-09-30   -0.060244\n",
            "2017-10-31    0.096808\n",
            "2017-11-30    0.020278\n",
            "2017-12-31   -0.015246\n",
            "Freq: M, Name: Close, dtype: float64\n"
          ]
        }
      ]
    },
    {
      "cell_type": "markdown",
      "metadata": {
        "id": "bj8QUSgdNepf"
      },
      "source": [
        "As expected, since there is a 'backward fill' method, there must be a 'forward fill' method, or 'ffill' in short. However we can't use it here because the NaN is the first value.\n",
        "\n",
        "We can also simply remove NaN values by **_.dropna()_**"
      ]
    },
    {
      "cell_type": "code",
      "metadata": {
        "colab": {
          "base_uri": "https://localhost:8080/"
        },
        "id": "WG5ux1lqHW9-",
        "outputId": "6ebd8e41-9195-4c5f-dd12-c3ecb24ddae0"
      },
      "source": [
        "daily_return = last_day.pct_change()\n",
        "daily_return.dropna() # Deletes NaN values from the result"
      ],
      "execution_count": 26,
      "outputs": [
        {
          "output_type": "execute_result",
          "data": {
            "text/plain": [
              "Date\n",
              "2017-02-28    0.133778\n",
              "2017-03-31    0.048690\n",
              "2017-04-30   -0.000070\n",
              "2017-05-31    0.067807\n",
              "2017-06-30   -0.057214\n",
              "2017-07-31    0.032704\n",
              "2017-08-31    0.107000\n",
              "2017-09-30   -0.060244\n",
              "2017-10-31    0.096808\n",
              "2017-11-30    0.020278\n",
              "2017-12-31   -0.015246\n",
              "Freq: M, Name: Close, dtype: float64"
            ]
          },
          "metadata": {},
          "execution_count": 26
        }
      ]
    },
    {
      "cell_type": "markdown",
      "metadata": {
        "id": "nQH2eBWkNjdC"
      },
      "source": [
        "# DataFrame\n",
        "The **DataFrame** is the most commonly used data structure in Pandas. It is essentially a table, just like an Excel spreadsheet.\n",
        "\n",
        "More precisely, a DataFrame is a collection of Series objects, each of which may contain different data types. A DataFrame can be created from various data types: dictionary, 2-D numpy.ndarray, a Series or another DataFrame.\n",
        "\n",
        "## Create DataFrames\n",
        "The most common method of creating a DataFrame is passing a dictionary:"
      ]
    },
    {
      "cell_type": "code",
      "metadata": {
        "colab": {
          "base_uri": "https://localhost:8080/"
        },
        "id": "vd5Wf1ohHW9-",
        "outputId": "52f6129c-0f0e-40c9-af57-2b2649adcf71"
      },
      "source": [
        "import pandas as pd\n",
        "\n",
        "# Creates a dataset with three columns, indexed by date index (with daily difference)\n",
        "\n",
        "dict = {'AAPL': [143.5, 144.09, 142.73, 144.18, 143.77],'GOOG':[898.7, 911.71, 906.69, 918.59, 926.99],\n",
        "        'IBM':[155.58, 153.67, 152.36, 152.94, 153.49]}\n",
        "data_index = pd.date_range('2017-07-03',periods = 5, freq = 'D')\n",
        "df = pd.DataFrame(dict, index = data_index)\n",
        "print(df)"
      ],
      "execution_count": 28,
      "outputs": [
        {
          "output_type": "stream",
          "name": "stdout",
          "text": [
            "              AAPL    GOOG     IBM\n",
            "2017-07-03  143.50  898.70  155.58\n",
            "2017-07-04  144.09  911.71  153.67\n",
            "2017-07-05  142.73  906.69  152.36\n",
            "2017-07-06  144.18  918.59  152.94\n",
            "2017-07-07  143.77  926.99  153.49\n"
          ]
        }
      ]
    },
    {
      "cell_type": "markdown",
      "metadata": {
        "id": "0uYmLQTgOPnX"
      },
      "source": [
        "## Manipulating DataFrames\n",
        "We can fetch values in a DataFrame by columns and index. Each column in a DataFrame is essentially a Pandas Series. We can fetch a column by square brackets: **df['column_name']**\n",
        "\n",
        "If a column name contains no spaces, then we can also use df.column_name to fetch a column:"
      ]
    },
    {
      "cell_type": "code",
      "metadata": {
        "colab": {
          "base_uri": "https://localhost:8080/"
        },
        "id": "2pB2f7lBHW9_",
        "outputId": "7bfcbbc3-f337-4bb7-cfc6-18d24a7160d2"
      },
      "source": [
        "df = aapl_table\n",
        "print(df.Close.tail(5)) # Fetchs first 5 elements, selects only Close column\n",
        "print(df['Volume'].tail(5)) # Fetchs first 5 elements, selects only Volume column"
      ],
      "execution_count": 29,
      "outputs": [
        {
          "output_type": "stream",
          "name": "stdout",
          "text": [
            "Date\n",
            "2017-12-22    41.673248\n",
            "2017-12-26    40.616001\n",
            "2017-12-27    40.623154\n",
            "2017-12-28    40.737442\n",
            "2017-12-29    40.296928\n",
            "Name: Close, dtype: float64\n",
            "Date\n",
            "2017-12-22     65397600\n",
            "2017-12-26    132742000\n",
            "2017-12-27     85992800\n",
            "2017-12-28     65920800\n",
            "2017-12-29    103999600\n",
            "Name: Volume, dtype: int64\n"
          ]
        }
      ]
    },
    {
      "cell_type": "markdown",
      "metadata": {
        "id": "z0ugOel9O4-P"
      },
      "source": [
        "All the methods we applied to a Series index such as iloc[], loc[] and resampling methods, can also be applied to a DataFrame:"
      ]
    },
    {
      "cell_type": "code",
      "metadata": {
        "colab": {
          "base_uri": "https://localhost:8080/"
        },
        "id": "_8dfjkedHW9_",
        "outputId": "225ac19d-7685-4e99-e252-9b02f7b3615f"
      },
      "source": [
        "aapl_2016 = df['2016'] # Selects records whose date index has 2016 as its year\n",
        "aapl_month = aapl_2016.resample('M').agg(lambda x: x[-1]) # Chooses the last day data for all montly group\n",
        "print(aapl_month)\n",
        "\n",
        "# Edit:\n",
        "aapl_year = aapl_2016.resample(\"3M\").agg(lambda x: x[-1]) # Chooses the last day data for all quarterly group\n",
        "print(aapl_year)"
      ],
      "execution_count": 32,
      "outputs": [
        {
          "output_type": "stream",
          "name": "stdout",
          "text": [
            "                 Open       High        Low      Close     Volume  Dividends  \\\n",
            "Date                                                                           \n",
            "2016-01-31  21.730612  22.315199  21.629742  22.315199  257666000        0.0   \n",
            "2016-02-29  22.325658  22.641435  22.277254  22.286474  140865200        0.0   \n",
            "2016-03-31  25.289805  25.331294  25.096189  25.121544  103553600        0.0   \n",
            "2016-04-30  21.664137  21.832399  21.323007  21.606514  274126000        0.0   \n",
            "2016-05-31  23.096979  23.282497  22.916099  23.157272  169228800        0.0   \n",
            "2016-06-30  21.900393  22.208816  21.867928  22.169394  143345600        0.0   \n",
            "2016-07-31  24.161388  24.244871  24.043120  24.166025  110934800        0.0   \n",
            "2016-08-31  24.635014  24.847183  24.630350  24.737600  118649600        0.0   \n",
            "2016-09-30  26.220463  26.432634  26.066582  26.358025  145516400        0.0   \n",
            "2016-10-31  26.497912  26.633142  26.392992  26.472265  105677600        0.0   \n",
            "2016-11-30  26.153539  26.294149  25.841853  25.900440  144649200        0.0   \n",
            "2016-12-31  27.337010  27.465901  27.051101  27.142498  122345200        0.0   \n",
            "\n",
            "            Stock Splits  \n",
            "Date                      \n",
            "2016-01-31             0  \n",
            "2016-02-29             0  \n",
            "2016-03-31             0  \n",
            "2016-04-30             0  \n",
            "2016-05-31             0  \n",
            "2016-06-30             0  \n",
            "2016-07-31             0  \n",
            "2016-08-31             0  \n",
            "2016-09-30             0  \n",
            "2016-10-31             0  \n",
            "2016-11-30             0  \n",
            "2016-12-31             0  \n",
            "                 Open       High        Low      Close     Volume  Dividends  \\\n",
            "Date                                                                           \n",
            "2016-01-31  21.730612  22.315199  21.629742  22.315199  257666000        0.0   \n",
            "2016-04-30  21.664137  21.832399  21.323007  21.606514  274126000        0.0   \n",
            "2016-07-31  24.161388  24.244871  24.043120  24.166025  110934800        0.0   \n",
            "2016-10-31  26.497912  26.633142  26.392992  26.472265  105677600        0.0   \n",
            "2017-01-31  27.337010  27.465901  27.051101  27.142498  122345200        0.0   \n",
            "\n",
            "            Stock Splits  \n",
            "Date                      \n",
            "2016-01-31             0  \n",
            "2016-04-30             0  \n",
            "2016-07-31             0  \n",
            "2016-10-31             0  \n",
            "2017-01-31             0  \n"
          ]
        }
      ]
    },
    {
      "cell_type": "markdown",
      "metadata": {
        "id": "CqrbrbFZPTJe"
      },
      "source": [
        "We may select certain columns of a DataFrame using their names:"
      ]
    },
    {
      "cell_type": "code",
      "metadata": {
        "colab": {
          "base_uri": "https://localhost:8080/"
        },
        "id": "7bQGeyCAHW9_",
        "outputId": "f6b67da3-5335-499e-bdbd-5c6c63d7f03a"
      },
      "source": [
        "aapl_bar = aapl_month[['Open', 'High', 'Low', 'Close']] # Select a group of specific columns from a dataframe\n",
        "print(aapl_bar)"
      ],
      "execution_count": 33,
      "outputs": [
        {
          "output_type": "stream",
          "name": "stdout",
          "text": [
            "                 Open       High        Low      Close\n",
            "Date                                                  \n",
            "2016-01-31  21.730612  22.315199  21.629742  22.315199\n",
            "2016-02-29  22.325658  22.641435  22.277254  22.286474\n",
            "2016-03-31  25.289805  25.331294  25.096189  25.121544\n",
            "2016-04-30  21.664137  21.832399  21.323007  21.606514\n",
            "2016-05-31  23.096979  23.282497  22.916099  23.157272\n",
            "2016-06-30  21.900393  22.208816  21.867928  22.169394\n",
            "2016-07-31  24.161388  24.244871  24.043120  24.166025\n",
            "2016-08-31  24.635014  24.847183  24.630350  24.737600\n",
            "2016-09-30  26.220463  26.432634  26.066582  26.358025\n",
            "2016-10-31  26.497912  26.633142  26.392992  26.472265\n",
            "2016-11-30  26.153539  26.294149  25.841853  25.900440\n",
            "2016-12-31  27.337010  27.465901  27.051101  27.142498\n"
          ]
        }
      ]
    },
    {
      "cell_type": "markdown",
      "metadata": {
        "id": "8CQaZCAQP68O"
      },
      "source": [
        "We can even specify both rows and columns using loc[]. The row indices and column names are separated by a comma:"
      ]
    },
    {
      "cell_type": "code",
      "metadata": {
        "colab": {
          "base_uri": "https://localhost:8080/"
        },
        "id": "YjWWiHVpHW-A",
        "outputId": "fff9057e-9c3e-4040-fe5b-66300239808e"
      },
      "source": [
        "# Selects records whose indes is between 2016-03 and 2016-6, and additionally selects only a set of columns\n",
        "print(aapl_month.loc['2016-03':'2016-06',['Open', 'High', 'Low', 'Close']])"
      ],
      "execution_count": 34,
      "outputs": [
        {
          "output_type": "stream",
          "name": "stdout",
          "text": [
            "                 Open       High        Low      Close\n",
            "Date                                                  \n",
            "2016-03-31  25.289805  25.331294  25.096189  25.121544\n",
            "2016-04-30  21.664137  21.832399  21.323007  21.606514\n",
            "2016-05-31  23.096979  23.282497  22.916099  23.157272\n",
            "2016-06-30  21.900393  22.208816  21.867928  22.169394\n"
          ]
        }
      ]
    },
    {
      "cell_type": "markdown",
      "metadata": {
        "id": "Xcn_pHNLQBEH"
      },
      "source": [
        "The subset methods in DataFrame is quite useful. By writing logical statements in square brackets, we can make customized subsets:"
      ]
    },
    {
      "cell_type": "code",
      "metadata": {
        "colab": {
          "base_uri": "https://localhost:8080/"
        },
        "id": "RxKg4dObHW-A",
        "outputId": "95b82f0a-ba96-45bd-99d9-bbed33aae9aa"
      },
      "source": [
        "import numpy as np\n",
        "\n",
        "# Select records (result of previosuly columns reduction and montly grouping) whose\n",
        "# Close field value is greater than the mean of that field for the whole dataset\n",
        "above = aapl_bar[aapl_bar.Close > np.mean(aapl_bar.Close)]\n",
        "print(above)"
      ],
      "execution_count": 36,
      "outputs": [
        {
          "output_type": "stream",
          "name": "stdout",
          "text": [
            "                 Open       High        Low      Close\n",
            "Date                                                  \n",
            "2016-03-31  25.289805  25.331294  25.096189  25.121544\n",
            "2016-08-31  24.635014  24.847183  24.630350  24.737600\n",
            "2016-09-30  26.220463  26.432634  26.066582  26.358025\n",
            "2016-10-31  26.497912  26.633142  26.392992  26.472265\n",
            "2016-11-30  26.153539  26.294149  25.841853  25.900440\n",
            "2016-12-31  27.337010  27.465901  27.051101  27.142498\n"
          ]
        }
      ]
    },
    {
      "cell_type": "markdown",
      "metadata": {
        "id": "wcm_UadkQLL5"
      },
      "source": [
        "## Data Validation\n",
        "As mentioned, all methods that apply to a Series can also be applied to a DataFrame. Here we add a new column to an existing DataFrame:"
      ]
    },
    {
      "cell_type": "code",
      "metadata": {
        "colab": {
          "base_uri": "https://localhost:8080/"
        },
        "id": "jZXFdOVFHW-A",
        "outputId": "8acb34c2-23fc-41f4-e5a5-e187943dc5b3"
      },
      "source": [
        "# Adding rate_return column and defining its value for each record, based on Close field\n",
        "# assigns it percentage change ( calculated by comparing a row field's value with the next row one)\n",
        "aapl_bar['rate_return'] = aapl_bar.Close.pct_change()\n",
        "print(aapl_bar)"
      ],
      "execution_count": 38,
      "outputs": [
        {
          "output_type": "stream",
          "name": "stdout",
          "text": [
            "                 Open       High        Low      Close  rate_return\n",
            "Date                                                               \n",
            "2016-01-31  21.730612  22.315199  21.629742  22.315199          NaN\n",
            "2016-02-29  22.325658  22.641435  22.277254  22.286474    -0.001287\n",
            "2016-03-31  25.289805  25.331294  25.096189  25.121544     0.127210\n",
            "2016-04-30  21.664137  21.832399  21.323007  21.606514    -0.139921\n",
            "2016-05-31  23.096979  23.282497  22.916099  23.157272     0.071773\n",
            "2016-06-30  21.900393  22.208816  21.867928  22.169394    -0.042660\n",
            "2016-07-31  24.161388  24.244871  24.043120  24.166025     0.090063\n",
            "2016-08-31  24.635014  24.847183  24.630350  24.737600     0.023652\n",
            "2016-09-30  26.220463  26.432634  26.066582  26.358025     0.065505\n",
            "2016-10-31  26.497912  26.633142  26.392992  26.472265     0.004334\n",
            "2016-11-30  26.153539  26.294149  25.841853  25.900440    -0.021601\n",
            "2016-12-31  27.337010  27.465901  27.051101  27.142498     0.047955\n"
          ]
        },
        {
          "output_type": "stream",
          "name": "stderr",
          "text": [
            "/usr/local/lib/python3.7/dist-packages/ipykernel_launcher.py:3: SettingWithCopyWarning: \n",
            "A value is trying to be set on a copy of a slice from a DataFrame.\n",
            "Try using .loc[row_indexer,col_indexer] = value instead\n",
            "\n",
            "See the caveats in the documentation: https://pandas.pydata.org/pandas-docs/stable/user_guide/indexing.html#returning-a-view-versus-a-copy\n",
            "  This is separate from the ipykernel package so we can avoid doing imports until\n"
          ]
        }
      ]
    },
    {
      "cell_type": "markdown",
      "metadata": {
        "id": "_or6n5-LQUa-"
      },
      "source": [
        "Here the calculation introduced a NaN value. If the DataFrame is large, we would not be able to observe it. **isnull()** provides a convenient way to check abnormal values."
      ]
    },
    {
      "cell_type": "code",
      "metadata": {
        "colab": {
          "base_uri": "https://localhost:8080/"
        },
        "id": "V5wgmhIPHW-B",
        "outputId": "a08e6ee2-fb03-4a79-90bb-fa7e92d4ded0"
      },
      "source": [
        "missing = aapl_bar.isnull() # Evaluates every row and every field checking out if there is a null value\n",
        "print(missing)\n",
        "print('---------------------------------------------')\n",
        "print(missing.describe()) # Shows statistics about the given table"
      ],
      "execution_count": 39,
      "outputs": [
        {
          "output_type": "stream",
          "name": "stdout",
          "text": [
            "             Open   High    Low  Close  rate_return\n",
            "Date                                               \n",
            "2016-01-31  False  False  False  False         True\n",
            "2016-02-29  False  False  False  False        False\n",
            "2016-03-31  False  False  False  False        False\n",
            "2016-04-30  False  False  False  False        False\n",
            "2016-05-31  False  False  False  False        False\n",
            "2016-06-30  False  False  False  False        False\n",
            "2016-07-31  False  False  False  False        False\n",
            "2016-08-31  False  False  False  False        False\n",
            "2016-09-30  False  False  False  False        False\n",
            "2016-10-31  False  False  False  False        False\n",
            "2016-11-30  False  False  False  False        False\n",
            "2016-12-31  False  False  False  False        False\n",
            "---------------------------------------------\n",
            "         Open   High    Low  Close rate_return\n",
            "count      12     12     12     12          12\n",
            "unique      1      1      1      1           2\n",
            "top     False  False  False  False       False\n",
            "freq       12     12     12     12          11\n"
          ]
        }
      ]
    },
    {
      "cell_type": "markdown",
      "metadata": {
        "id": "d6KFV4i0QfLW"
      },
      "source": [
        "The row labelled \"unique\" indicates the number of unique values in each column. Since the \"rate_return\" column has 2 unique values, it has at least one missing value.\n",
        "\n",
        "We can deduce the number of missing values by comparing \"count\" with \"freq\". There are 12 counts and 11 False values, so there is one True value which corresponds to the missing value.\n",
        "\n",
        "We can also find the rows with missing values easily:"
      ]
    },
    {
      "cell_type": "code",
      "metadata": {
        "colab": {
          "base_uri": "https://localhost:8080/"
        },
        "id": "Eo0ZAhCsHW-B",
        "outputId": "aa2da8ff-6053-4d22-dc48-4b89ed9e2fc8"
      },
      "source": [
        "# Finally, there can be filter these records whose rate_return value is null\n",
        "print(missing[missing.rate_return == True])"
      ],
      "execution_count": 40,
      "outputs": [
        {
          "output_type": "stream",
          "name": "stdout",
          "text": [
            "             Open   High    Low  Close  rate_return\n",
            "Date                                               \n",
            "2016-01-31  False  False  False  False         True\n"
          ]
        }
      ]
    },
    {
      "cell_type": "markdown",
      "metadata": {
        "id": "qgggpD8OQkZX"
      },
      "source": [
        "Usually when dealing with missing data, we either delete the whole row or fill it with some value. As we introduced in the Series chapter, the same method **dropna()** and **fillna()** can be applied to a DataFrame."
      ]
    },
    {
      "cell_type": "code",
      "metadata": {
        "colab": {
          "base_uri": "https://localhost:8080/"
        },
        "id": "j8PaIokjHW-B",
        "outputId": "af52cf98-e1b4-44e8-d4c7-98e4d768d088"
      },
      "source": [
        "drop = aapl_bar.dropna() # Drops a whole row if there is any null value on it\n",
        "print(drop)\n",
        "print('\\n--------------------------------------------------\\n')\n",
        "fill = aapl_bar.fillna(0) # Fills all rows Null values with a 0\n",
        "print(fill)"
      ],
      "execution_count": 41,
      "outputs": [
        {
          "output_type": "stream",
          "name": "stdout",
          "text": [
            "                 Open       High        Low      Close  rate_return\n",
            "Date                                                               \n",
            "2016-02-29  22.325658  22.641435  22.277254  22.286474    -0.001287\n",
            "2016-03-31  25.289805  25.331294  25.096189  25.121544     0.127210\n",
            "2016-04-30  21.664137  21.832399  21.323007  21.606514    -0.139921\n",
            "2016-05-31  23.096979  23.282497  22.916099  23.157272     0.071773\n",
            "2016-06-30  21.900393  22.208816  21.867928  22.169394    -0.042660\n",
            "2016-07-31  24.161388  24.244871  24.043120  24.166025     0.090063\n",
            "2016-08-31  24.635014  24.847183  24.630350  24.737600     0.023652\n",
            "2016-09-30  26.220463  26.432634  26.066582  26.358025     0.065505\n",
            "2016-10-31  26.497912  26.633142  26.392992  26.472265     0.004334\n",
            "2016-11-30  26.153539  26.294149  25.841853  25.900440    -0.021601\n",
            "2016-12-31  27.337010  27.465901  27.051101  27.142498     0.047955\n",
            "\n",
            "--------------------------------------------------\n",
            "\n",
            "                 Open       High        Low      Close  rate_return\n",
            "Date                                                               \n",
            "2016-01-31  21.730612  22.315199  21.629742  22.315199     0.000000\n",
            "2016-02-29  22.325658  22.641435  22.277254  22.286474    -0.001287\n",
            "2016-03-31  25.289805  25.331294  25.096189  25.121544     0.127210\n",
            "2016-04-30  21.664137  21.832399  21.323007  21.606514    -0.139921\n",
            "2016-05-31  23.096979  23.282497  22.916099  23.157272     0.071773\n",
            "2016-06-30  21.900393  22.208816  21.867928  22.169394    -0.042660\n",
            "2016-07-31  24.161388  24.244871  24.043120  24.166025     0.090063\n",
            "2016-08-31  24.635014  24.847183  24.630350  24.737600     0.023652\n",
            "2016-09-30  26.220463  26.432634  26.066582  26.358025     0.065505\n",
            "2016-10-31  26.497912  26.633142  26.392992  26.472265     0.004334\n",
            "2016-11-30  26.153539  26.294149  25.841853  25.900440    -0.021601\n",
            "2016-12-31  27.337010  27.465901  27.051101  27.142498     0.047955\n"
          ]
        }
      ]
    },
    {
      "cell_type": "markdown",
      "metadata": {
        "id": "0tvoFlKWQxYG"
      },
      "source": [
        "## DataFrame Concat\n",
        "We have seen how to extract a Series from a dataFrame. Now we need to consider how to merge a Series or a DataFrame into another one.\n",
        "\n",
        "In Pandas, the function **concat()** allows us to merge multiple Series into a DataFrame:"
      ]
    },
    {
      "cell_type": "code",
      "metadata": {
        "colab": {
          "base_uri": "https://localhost:8080/"
        },
        "id": "uQrmLIWKHW-C",
        "outputId": "68009e0c-0460-4253-b76b-7443457d724d"
      },
      "source": [
        "s1 = pd.Series([143.5, 144.09, 142.73, 144.18, 143.77], name = 'AAPL')\n",
        "s2 = pd.Series([898.7, 911.71, 906.69, 918.59, 926.99], name = 'GOOG')\n",
        "# Joins two dataframes columns into a single dataframe\n",
        "\n",
        "# Edit:\n",
        "\n",
        "s3 = pd.Series([ x**2 for x in range(5)], name = \"TEST\")\n",
        "\n",
        "data_frame = pd.concat([s1,s2, s3], axis = 1)\n",
        "print(data_frame)"
      ],
      "execution_count": 45,
      "outputs": [
        {
          "output_type": "stream",
          "name": "stdout",
          "text": [
            "     AAPL    GOOG  TEST\n",
            "0  143.50  898.70     0\n",
            "1  144.09  911.71     1\n",
            "2  142.73  906.69     4\n",
            "3  144.18  918.59     9\n",
            "4  143.77  926.99    16\n"
          ]
        }
      ]
    },
    {
      "cell_type": "markdown",
      "metadata": {
        "id": "3ojbNYJLR2vv"
      },
      "source": [
        "The \"axis = 1\" parameter will join two DataFrames by columns:"
      ]
    },
    {
      "cell_type": "code",
      "metadata": {
        "colab": {
          "base_uri": "https://localhost:8080/"
        },
        "id": "DJsaLd-cRoIm",
        "outputId": "2f530fec-ab8a-4903-b7f9-b19f94c276f9"
      },
      "source": [
        "log_price = np.log(aapl_bar.Close) # Calculates ln( item ) for each element in Close column of appl_bar\n",
        "log_price.name = 'log_price'\n",
        "print(log_price)\n",
        "print('\\n---------------------- separate line--------------------\\n')\n",
        "concat = pd.concat([aapl_bar, log_price], axis = 1) # Concats new column into a new column in aapl_bar\n",
        "print(concat)"
      ],
      "execution_count": 47,
      "outputs": [
        {
          "output_type": "stream",
          "name": "stdout",
          "text": [
            "Date\n",
            "2016-01-31    3.105268\n",
            "2016-02-29    3.103980\n",
            "2016-03-31    3.223726\n",
            "2016-04-30    3.072995\n",
            "2016-05-31    3.142309\n",
            "2016-06-30    3.098713\n",
            "2016-07-31    3.184948\n",
            "2016-08-31    3.208324\n",
            "2016-09-30    3.271773\n",
            "2016-10-31    3.276098\n",
            "2016-11-30    3.254260\n",
            "2016-12-31    3.301101\n",
            "Freq: M, Name: log_price, dtype: float64\n",
            "\n",
            "---------------------- separate line--------------------\n",
            "\n",
            "                 Open       High        Low      Close  rate_return  log_price\n",
            "Date                                                                          \n",
            "2016-01-31  21.730612  22.315199  21.629742  22.315199          NaN   3.105268\n",
            "2016-02-29  22.325658  22.641435  22.277254  22.286474    -0.001287   3.103980\n",
            "2016-03-31  25.289805  25.331294  25.096189  25.121544     0.127210   3.223726\n",
            "2016-04-30  21.664137  21.832399  21.323007  21.606514    -0.139921   3.072995\n",
            "2016-05-31  23.096979  23.282497  22.916099  23.157272     0.071773   3.142309\n",
            "2016-06-30  21.900393  22.208816  21.867928  22.169394    -0.042660   3.098713\n",
            "2016-07-31  24.161388  24.244871  24.043120  24.166025     0.090063   3.184948\n",
            "2016-08-31  24.635014  24.847183  24.630350  24.737600     0.023652   3.208324\n",
            "2016-09-30  26.220463  26.432634  26.066582  26.358025     0.065505   3.271773\n",
            "2016-10-31  26.497912  26.633142  26.392992  26.472265     0.004334   3.276098\n",
            "2016-11-30  26.153539  26.294149  25.841853  25.900440    -0.021601   3.254260\n",
            "2016-12-31  27.337010  27.465901  27.051101  27.142498     0.047955   3.301101\n"
          ]
        }
      ]
    },
    {
      "cell_type": "markdown",
      "metadata": {
        "id": "mIZz-FUyR_62"
      },
      "source": [
        "We can also join two DataFrames by rows. Consider these two DataFrames:"
      ]
    },
    {
      "cell_type": "code",
      "metadata": {
        "colab": {
          "base_uri": "https://localhost:8080/"
        },
        "id": "W7uXZptLHW-C",
        "outputId": "908eea5f-e4d1-425a-a117-e8724167889e"
      },
      "source": [
        "# Selects records whose id's date is in the range 2016-10 and 2017-04, also selects Volume and Stock Splits columns\n",
        "# Then groups results montly and sets as values (of these two selected columns) the values corresponding to the last\n",
        "# month's day record\n",
        "df_volume = aapl_table.loc['2016-10':'2017-04',['Volume', 'Stock Splits']].resample('M').agg(lambda x: x[-1])\n",
        "print(df_volume)\n",
        "print('\\n---------------------- separate line--------------------\\n')\n",
        "\n",
        "# Selects records whose id's date is in the range 2016-10 and 2017-04, also selects Open,High,Low and Close columns\n",
        "# Then groups results montly and sets as values (of these two selected columns) the values corresponding to the last\n",
        "# month's day record\n",
        "\n",
        "df_2017 = aapl_table.loc['2016-10':'2017-04',['Open', 'High', 'Low', 'Close']].resample('M').agg(lambda x: x[-1])\n",
        "print(df_2017)"
      ],
      "execution_count": 48,
      "outputs": [
        {
          "output_type": "stream",
          "name": "stdout",
          "text": [
            "               Volume  Stock Splits\n",
            "Date                               \n",
            "2016-10-31  105677600             0\n",
            "2016-11-30  144649200             0\n",
            "2016-12-31  122345200             0\n",
            "2017-01-31  196804000             0\n",
            "2017-02-28   93931600             0\n",
            "2017-03-31   78646800             0\n",
            "2017-04-30   83441600             0\n",
            "\n",
            "---------------------- separate line--------------------\n",
            "\n",
            "                 Open       High        Low      Close\n",
            "Date                                                  \n",
            "2016-10-31  26.497912  26.633142  26.392992  26.472265\n",
            "2016-11-30  26.153539  26.294149  25.841853  25.900440\n",
            "2016-12-31  27.337010  27.465901  27.051101  27.142498\n",
            "2017-01-31  28.391584  28.447828  28.267379  28.438454\n",
            "2017-02-28  32.264072  32.348804  32.174631  32.242889\n",
            "2017-03-31  33.826911  33.956364  33.659799  33.812790\n",
            "2017-04-30  33.913994  33.963423  33.720996  33.810432\n"
          ]
        }
      ]
    },
    {
      "cell_type": "markdown",
      "metadata": {
        "id": "iZk_C9aSSLeP"
      },
      "source": [
        "Now we merge the DataFrames with our DataFrame 'aapl_bar'"
      ]
    },
    {
      "cell_type": "code",
      "metadata": {
        "colab": {
          "base_uri": "https://localhost:8080/"
        },
        "id": "aFqmjokOHW-C",
        "outputId": "d93681b9-0e84-4d76-9672-757f0169b55e"
      },
      "source": [
        "# Concats values mathing their id, also appends ids from one or another datafram\n",
        "# in case there could not be resolved a match\n",
        "concat = pd.concat([aapl_bar, df_volume], axis = 1)\n",
        "print(concat)"
      ],
      "execution_count": 50,
      "outputs": [
        {
          "output_type": "stream",
          "name": "stdout",
          "text": [
            "                 Open       High        Low      Close  rate_return  \\\n",
            "Date                                                                  \n",
            "2016-01-31  21.730612  22.315199  21.629742  22.315199          NaN   \n",
            "2016-02-29  22.325658  22.641435  22.277254  22.286474    -0.001287   \n",
            "2016-03-31  25.289805  25.331294  25.096189  25.121544     0.127210   \n",
            "2016-04-30  21.664137  21.832399  21.323007  21.606514    -0.139921   \n",
            "2016-05-31  23.096979  23.282497  22.916099  23.157272     0.071773   \n",
            "2016-06-30  21.900393  22.208816  21.867928  22.169394    -0.042660   \n",
            "2016-07-31  24.161388  24.244871  24.043120  24.166025     0.090063   \n",
            "2016-08-31  24.635014  24.847183  24.630350  24.737600     0.023652   \n",
            "2016-09-30  26.220463  26.432634  26.066582  26.358025     0.065505   \n",
            "2016-10-31  26.497912  26.633142  26.392992  26.472265     0.004334   \n",
            "2016-11-30  26.153539  26.294149  25.841853  25.900440    -0.021601   \n",
            "2016-12-31  27.337010  27.465901  27.051101  27.142498     0.047955   \n",
            "2017-01-31        NaN        NaN        NaN        NaN          NaN   \n",
            "2017-02-28        NaN        NaN        NaN        NaN          NaN   \n",
            "2017-03-31        NaN        NaN        NaN        NaN          NaN   \n",
            "2017-04-30        NaN        NaN        NaN        NaN          NaN   \n",
            "\n",
            "                 Volume  Stock Splits  \n",
            "Date                                   \n",
            "2016-01-31          NaN           NaN  \n",
            "2016-02-29          NaN           NaN  \n",
            "2016-03-31          NaN           NaN  \n",
            "2016-04-30          NaN           NaN  \n",
            "2016-05-31          NaN           NaN  \n",
            "2016-06-30          NaN           NaN  \n",
            "2016-07-31          NaN           NaN  \n",
            "2016-08-31          NaN           NaN  \n",
            "2016-09-30          NaN           NaN  \n",
            "2016-10-31  105677600.0           0.0  \n",
            "2016-11-30  144649200.0           0.0  \n",
            "2016-12-31  122345200.0           0.0  \n",
            "2017-01-31  196804000.0           0.0  \n",
            "2017-02-28   93931600.0           0.0  \n",
            "2017-03-31   78646800.0           0.0  \n",
            "2017-04-30   83441600.0           0.0  \n"
          ]
        }
      ]
    },
    {
      "cell_type": "markdown",
      "metadata": {
        "id": "7yI3tgB4SR4O"
      },
      "source": [
        "By default the DataFrame are joined with all of the data. This default options results in zero information loss. We can also merge them by intersection, this is called 'inner join"
      ]
    },
    {
      "cell_type": "code",
      "metadata": {
        "colab": {
          "base_uri": "https://localhost:8080/"
        },
        "id": "31QGLyijHW-C",
        "outputId": "e27b14c9-6377-4bd2-a499-41393fdb924e"
      },
      "source": [
        "# Do the same operation as above, but it will only merge these records\n",
        "# whose id matches on both dataframes\n",
        "concat = pd.concat([aapl_bar,df_volume],axis = 1, join = 'inner')\n",
        "print(concat)"
      ],
      "execution_count": 51,
      "outputs": [
        {
          "output_type": "stream",
          "name": "stdout",
          "text": [
            "                 Open       High        Low      Close  rate_return  \\\n",
            "Date                                                                  \n",
            "2016-10-31  26.497912  26.633142  26.392992  26.472265     0.004334   \n",
            "2016-11-30  26.153539  26.294149  25.841853  25.900440    -0.021601   \n",
            "2016-12-31  27.337010  27.465901  27.051101  27.142498     0.047955   \n",
            "\n",
            "               Volume  Stock Splits  \n",
            "Date                                 \n",
            "2016-10-31  105677600             0  \n",
            "2016-11-30  144649200             0  \n",
            "2016-12-31  122345200             0  \n"
          ]
        }
      ]
    },
    {
      "cell_type": "markdown",
      "metadata": {
        "id": "oudcWMm5Sd0u"
      },
      "source": [
        "Only the intersection part was left if use 'inner join' method. Now let's try to append a DataFrame to another one:"
      ]
    },
    {
      "cell_type": "code",
      "metadata": {
        "colab": {
          "base_uri": "https://localhost:8080/"
        },
        "id": "lgw0qaOsHW-D",
        "outputId": "534e9822-ad9a-47b3-c832-7c83cea91d57"
      },
      "source": [
        "# Directly appends records from one dataframe to another\n",
        "# Inserts at the end of the second the first one's rows\n",
        "append = aapl_bar.append(df_2017)\n",
        "print(append)"
      ],
      "execution_count": 53,
      "outputs": [
        {
          "output_type": "stream",
          "name": "stdout",
          "text": [
            "                 Open       High        Low      Close  rate_return\n",
            "Date                                                               \n",
            "2016-01-31  21.730612  22.315199  21.629742  22.315199          NaN\n",
            "2016-02-29  22.325658  22.641435  22.277254  22.286474    -0.001287\n",
            "2016-03-31  25.289805  25.331294  25.096189  25.121544     0.127210\n",
            "2016-04-30  21.664137  21.832399  21.323007  21.606514    -0.139921\n",
            "2016-05-31  23.096979  23.282497  22.916099  23.157272     0.071773\n",
            "2016-06-30  21.900393  22.208816  21.867928  22.169394    -0.042660\n",
            "2016-07-31  24.161388  24.244871  24.043120  24.166025     0.090063\n",
            "2016-08-31  24.635014  24.847183  24.630350  24.737600     0.023652\n",
            "2016-09-30  26.220463  26.432634  26.066582  26.358025     0.065505\n",
            "2016-10-31  26.497912  26.633142  26.392992  26.472265     0.004334\n",
            "2016-11-30  26.153539  26.294149  25.841853  25.900440    -0.021601\n",
            "2016-12-31  27.337010  27.465901  27.051101  27.142498     0.047955\n",
            "2016-10-31  26.497912  26.633142  26.392992  26.472265          NaN\n",
            "2016-11-30  26.153539  26.294149  25.841853  25.900440          NaN\n",
            "2016-12-31  27.337010  27.465901  27.051101  27.142498          NaN\n",
            "2017-01-31  28.391584  28.447828  28.267379  28.438454          NaN\n",
            "2017-02-28  32.264072  32.348804  32.174631  32.242889          NaN\n",
            "2017-03-31  33.826911  33.956364  33.659799  33.812790          NaN\n",
            "2017-04-30  33.913994  33.963423  33.720996  33.810432          NaN\n"
          ]
        }
      ]
    },
    {
      "cell_type": "markdown",
      "metadata": {
        "id": "zXT6cMquSq_P"
      },
      "source": [
        "'Append' is essentially to concat two DataFrames by axis = 0, thus here is an alternative way to append:"
      ]
    },
    {
      "cell_type": "code",
      "metadata": {
        "colab": {
          "base_uri": "https://localhost:8080/"
        },
        "id": "2EuSaFO9HW-D",
        "outputId": "17678b84-5af7-4a96-8677-d3d66d71a9d5"
      },
      "source": [
        "# Setting axis = 0 will simulate the process made by append method\n",
        "concat = pd.concat([aapl_bar, df_2017], axis = 0)\n",
        "print(concat)"
      ],
      "execution_count": 54,
      "outputs": [
        {
          "output_type": "stream",
          "name": "stdout",
          "text": [
            "                 Open       High        Low      Close  rate_return\n",
            "Date                                                               \n",
            "2016-01-31  21.730612  22.315199  21.629742  22.315199          NaN\n",
            "2016-02-29  22.325658  22.641435  22.277254  22.286474    -0.001287\n",
            "2016-03-31  25.289805  25.331294  25.096189  25.121544     0.127210\n",
            "2016-04-30  21.664137  21.832399  21.323007  21.606514    -0.139921\n",
            "2016-05-31  23.096979  23.282497  22.916099  23.157272     0.071773\n",
            "2016-06-30  21.900393  22.208816  21.867928  22.169394    -0.042660\n",
            "2016-07-31  24.161388  24.244871  24.043120  24.166025     0.090063\n",
            "2016-08-31  24.635014  24.847183  24.630350  24.737600     0.023652\n",
            "2016-09-30  26.220463  26.432634  26.066582  26.358025     0.065505\n",
            "2016-10-31  26.497912  26.633142  26.392992  26.472265     0.004334\n",
            "2016-11-30  26.153539  26.294149  25.841853  25.900440    -0.021601\n",
            "2016-12-31  27.337010  27.465901  27.051101  27.142498     0.047955\n",
            "2016-10-31  26.497912  26.633142  26.392992  26.472265          NaN\n",
            "2016-11-30  26.153539  26.294149  25.841853  25.900440          NaN\n",
            "2016-12-31  27.337010  27.465901  27.051101  27.142498          NaN\n",
            "2017-01-31  28.391584  28.447828  28.267379  28.438454          NaN\n",
            "2017-02-28  32.264072  32.348804  32.174631  32.242889          NaN\n",
            "2017-03-31  33.826911  33.956364  33.659799  33.812790          NaN\n",
            "2017-04-30  33.913994  33.963423  33.720996  33.810432          NaN\n"
          ]
        }
      ]
    },
    {
      "cell_type": "markdown",
      "metadata": {
        "id": "-YXL7V9ASst9"
      },
      "source": [
        "Please note that if the two DataFrame have some columns with the same column names, these columns are considered to be the same and will be merged. It's very important to have the right column names. If we change a column names here:"
      ]
    },
    {
      "cell_type": "code",
      "metadata": {
        "colab": {
          "base_uri": "https://localhost:8080/"
        },
        "id": "aT1eoa8mHW-D",
        "outputId": "411307b7-2a3e-43da-e6e2-533da08afd67"
      },
      "source": [
        "# Overwrites columns values on append, altering initial data\n",
        "# Also creates new columns if needed, depending on incoming data structure\n",
        "df_2017.columns = ['Change', 'High','Low','Close']\n",
        "concat = pd.concat([aapl_bar, df_2017], axis = 0)\n",
        "print(concat)"
      ],
      "execution_count": 56,
      "outputs": [
        {
          "output_type": "stream",
          "name": "stdout",
          "text": [
            "                 Open       High        Low      Close  rate_return     Change\n",
            "Date                                                                          \n",
            "2016-01-31  21.730612  22.315199  21.629742  22.315199          NaN        NaN\n",
            "2016-02-29  22.325658  22.641435  22.277254  22.286474    -0.001287        NaN\n",
            "2016-03-31  25.289805  25.331294  25.096189  25.121544     0.127210        NaN\n",
            "2016-04-30  21.664137  21.832399  21.323007  21.606514    -0.139921        NaN\n",
            "2016-05-31  23.096979  23.282497  22.916099  23.157272     0.071773        NaN\n",
            "2016-06-30  21.900393  22.208816  21.867928  22.169394    -0.042660        NaN\n",
            "2016-07-31  24.161388  24.244871  24.043120  24.166025     0.090063        NaN\n",
            "2016-08-31  24.635014  24.847183  24.630350  24.737600     0.023652        NaN\n",
            "2016-09-30  26.220463  26.432634  26.066582  26.358025     0.065505        NaN\n",
            "2016-10-31  26.497912  26.633142  26.392992  26.472265     0.004334        NaN\n",
            "2016-11-30  26.153539  26.294149  25.841853  25.900440    -0.021601        NaN\n",
            "2016-12-31  27.337010  27.465901  27.051101  27.142498     0.047955        NaN\n",
            "2016-10-31        NaN  26.633142  26.392992  26.472265          NaN  26.497912\n",
            "2016-11-30        NaN  26.294149  25.841853  25.900440          NaN  26.153539\n",
            "2016-12-31        NaN  27.465901  27.051101  27.142498          NaN  27.337010\n",
            "2017-01-31        NaN  28.447828  28.267379  28.438454          NaN  28.391584\n",
            "2017-02-28        NaN  32.348804  32.174631  32.242889          NaN  32.264072\n",
            "2017-03-31        NaN  33.956364  33.659799  33.812790          NaN  33.826911\n",
            "2017-04-30        NaN  33.963423  33.720996  33.810432          NaN  33.913994\n"
          ]
        }
      ]
    },
    {
      "cell_type": "markdown",
      "metadata": {
        "id": "shbpOFyyS6uV"
      },
      "source": [
        "Since the column name of 'Open' has been changed, the new DataFrame has an new column named 'Change'.\n",
        "\n",
        "# Summary\n",
        "\n",
        "Hereby we introduced the most import part of python: resampling and DataFrame manipulation. We only introduced the most commonly used method in Financial data analysis. There are also many methods used in data mining, which are also beneficial. You can always check the [Pandas](https://pandas.pydata.org/pandas-docs/stable/index.html) official documentations for help."
      ]
    }
  ]
}