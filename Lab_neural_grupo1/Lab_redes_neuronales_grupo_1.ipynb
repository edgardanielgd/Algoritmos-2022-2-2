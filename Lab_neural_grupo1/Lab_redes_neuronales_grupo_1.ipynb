{
  "cells": [
    {
      "cell_type": "markdown",
      "metadata": {
        "id": "41TXUwo9qaCK"
      },
      "source": [
        "###Codigo e implementación https://github.com/Psychofun/Red-Neuronal-Numpy\n",
        "Autor: PsyFun\n",
        "##Preprocesamiento de los datos, para estandarizar (\"gre\",\"gpa\") e individualizar la caracteristica categorica \"rank\""
      ]
    },
    {
      "cell_type": "code",
      "source": [
        "#Conexión con Drive\n",
        "from google.colab import drive\n",
        "drive.mount('/content/drive')"
      ],
      "metadata": {
        "id": "PaxH3kLANVV8",
        "colab": {
          "base_uri": "https://localhost:8080/"
        },
        "outputId": "8431f392-e9b1-49f9-ddf0-92f40e579700"
      },
      "execution_count": null,
      "outputs": [
        {
          "output_type": "stream",
          "name": "stdout",
          "text": [
            "Mounted at /content/drive\n"
          ]
        }
      ]
    },
    {
      "cell_type": "code",
      "execution_count": null,
      "metadata": {
        "colab": {
          "base_uri": "https://localhost:8080/"
        },
        "id": "AJZTjn-Jk-NB",
        "outputId": "10be28e9-aaf8-4080-a756-a92a13a293c0"
      },
      "outputs": [
        {
          "output_type": "stream",
          "name": "stdout",
          "text": [
            "            admit         gre         gpa       rank\n",
            "count  400.000000  400.000000  400.000000  400.00000\n",
            "mean     0.317500  587.700000    3.389900    2.48500\n",
            "std      0.466087  115.516536    0.380567    0.94446\n",
            "min      0.000000  220.000000    2.260000    1.00000\n",
            "25%      0.000000  520.000000    3.130000    2.00000\n",
            "50%      0.000000  580.000000    3.395000    2.00000\n",
            "75%      1.000000  660.000000    3.670000    3.00000\n",
            "max      1.000000  800.000000    4.000000    4.00000\n",
            "(400, 4)\n",
            "   admit  gre   gpa  rank\n",
            "0      0  380  3.61     3\n",
            "1      1  660  3.67     3\n",
            "2      1  800  4.00     1\n",
            "3      1  640  3.19     4\n",
            "4      0  520  2.93     4\n"
          ]
        }
      ],
      "source": [
        "import numpy as np\n",
        "import pandas as pd\n",
        "import math \n",
        "\n",
        "#Ruta del archivo binary con los datos en el drive (cambiar según sea el caso)\n",
        "admissions = pd.read_csv('/content/drive/MyDrive/Colab Notebooks/Lab redes neuronales/binary.csv')\n",
        "\n",
        "print(admissions.describe())\n",
        "print(admissions.shape)\n",
        "print(admissions.head())"
      ]
    },
    {
      "cell_type": "markdown",
      "metadata": {
        "id": "U9XG_Iz8sAaa"
      },
      "source": [
        "#Conversion de una variable categorica \"rank\" a variables binarias \"rank_1\",\"rank_2\",\"rank_3\", \"rank_4\""
      ]
    },
    {
      "cell_type": "code",
      "execution_count": null,
      "metadata": {
        "colab": {
          "base_uri": "https://localhost:8080/"
        },
        "id": "FcgNCowrsIVz",
        "outputId": "cdc2822e-4171-4b57-a72e-00cfa3e388c5"
      },
      "outputs": [
        {
          "output_type": "stream",
          "name": "stdout",
          "text": [
            "            admit         gre         gpa       rank      rank_1      rank_2  \\\n",
            "count  400.000000  400.000000  400.000000  400.00000  400.000000  400.000000   \n",
            "mean     0.317500  587.700000    3.389900    2.48500    0.152500    0.377500   \n",
            "std      0.466087  115.516536    0.380567    0.94446    0.359955    0.485369   \n",
            "min      0.000000  220.000000    2.260000    1.00000    0.000000    0.000000   \n",
            "25%      0.000000  520.000000    3.130000    2.00000    0.000000    0.000000   \n",
            "50%      0.000000  580.000000    3.395000    2.00000    0.000000    0.000000   \n",
            "75%      1.000000  660.000000    3.670000    3.00000    0.000000    1.000000   \n",
            "max      1.000000  800.000000    4.000000    4.00000    1.000000    1.000000   \n",
            "\n",
            "           rank_3      rank_4  \n",
            "count  400.000000  400.000000  \n",
            "mean     0.302500    0.167500  \n",
            "std      0.459916    0.373889  \n",
            "min      0.000000    0.000000  \n",
            "25%      0.000000    0.000000  \n",
            "50%      0.000000    0.000000  \n",
            "75%      1.000000    0.000000  \n",
            "max      1.000000    1.000000  \n",
            "(400, 7)\n",
            "   admit  gre   gpa  rank_1  rank_2  rank_3  rank_4\n",
            "0      0  380  3.61       0       0       1       0\n",
            "1      1  660  3.67       0       0       1       0\n",
            "2      1  800  4.00       1       0       0       0\n",
            "3      1  640  3.19       0       0       0       1\n",
            "4      0  520  2.93       0       0       0       1\n"
          ]
        }
      ],
      "source": [
        "data = pd.concat([admissions, pd.get_dummies(admissions['rank'], prefix='rank')], axis=1)\n",
        "print(data.describe())\n",
        "data = data.drop('rank', axis=1)\n",
        "print(data.shape)\n",
        "print(data.head())"
      ]
    },
    {
      "cell_type": "markdown",
      "metadata": {
        "id": "fmEtWaKru5at"
      },
      "source": [
        "Estandarizacion de las variables (\"gre\",\"gpa\")"
      ]
    },
    {
      "cell_type": "code",
      "execution_count": null,
      "metadata": {
        "colab": {
          "base_uri": "https://localhost:8080/"
        },
        "id": "X5SSkXX3u5nl",
        "outputId": "6ef629b2-3662-4f85-a943-e5f3e13968f1"
      },
      "outputs": [
        {
          "output_type": "stream",
          "name": "stdout",
          "text": [
            "(400, 7)\n",
            "            admit           gre           gpa      rank_1      rank_2  \\\n",
            "count  400.000000  4.000000e+02  4.000000e+02  400.000000  400.000000   \n",
            "mean     0.317500 -3.907985e-16  2.198242e-16    0.152500    0.377500   \n",
            "std      0.466087  1.000000e+00  1.000000e+00    0.359955    0.485369   \n",
            "min      0.000000 -3.183094e+00 -2.968993e+00    0.000000    0.000000   \n",
            "25%      0.000000 -5.860633e-01 -6.829288e-01    0.000000    0.000000   \n",
            "50%      0.000000 -6.665712e-02  1.340106e-02    0.000000    0.000000   \n",
            "75%      1.000000  6.258844e-01  7.360075e-01    0.000000    1.000000   \n",
            "max      1.000000  1.837832e+00  1.603135e+00    1.000000    1.000000   \n",
            "\n",
            "           rank_3      rank_4  \n",
            "count  400.000000  400.000000  \n",
            "mean     0.302500    0.167500  \n",
            "std      0.459916    0.373889  \n",
            "min      0.000000    0.000000  \n",
            "25%      0.000000    0.000000  \n",
            "50%      0.000000    0.000000  \n",
            "75%      1.000000    0.000000  \n",
            "max      1.000000    1.000000  \n"
          ]
        }
      ],
      "source": [
        "# Standarize features\n",
        "for field in ['gre', 'gpa']:\n",
        "    mean, std = data[field].mean(), data[field].std()\n",
        "    data.loc[:,field] = (data[field]-mean)/std\n",
        "print(data.shape)\n",
        "print(data.describe())"
      ]
    },
    {
      "cell_type": "markdown",
      "metadata": {
        "id": "PVB1VUJJ3bSb"
      },
      "source": [
        "dividir el conjunto de datos para entrenamiento y evaluación del modelo"
      ]
    },
    {
      "cell_type": "code",
      "execution_count": null,
      "metadata": {
        "colab": {
          "base_uri": "https://localhost:8080/"
        },
        "id": "tPSE6sC84O8F",
        "outputId": "f3799cd0-bcf5-4d03-fb54-477a5dd6eaef"
      },
      "outputs": [
        {
          "output_type": "stream",
          "name": "stdout",
          "text": [
            "RangeIndex(start=0, stop=400, step=1)\n"
          ]
        }
      ],
      "source": [
        "print(data.index)"
      ]
    },
    {
      "cell_type": "code",
      "execution_count": null,
      "metadata": {
        "colab": {
          "base_uri": "https://localhost:8080/"
        },
        "id": "SylZqIL930bt",
        "outputId": "93cdba7d-3e5d-480a-a853-ec6e226a15f9"
      },
      "outputs": [
        {
          "output_type": "stream",
          "name": "stdout",
          "text": [
            "(360, 7)\n",
            "(40, 7)\n"
          ]
        }
      ],
      "source": [
        "# Split off random 10% of the data for testing\n",
        "np.random.seed(21)\n",
        "\n",
        "sample = np.random.choice(data.index, size=int(len(data)*0.9), replace=False)      #Variando este parametro podemos decidir qué porcentaje de elementos van a ser entrenados y cuántos evaluados.\n",
        "train_data, test_data = data.iloc[sample], data.drop(sample)\n",
        "print(train_data.shape)\n",
        "print(test_data.shape)"
      ]
    },
    {
      "cell_type": "markdown",
      "metadata": {
        "id": "J1pEVm7X473r"
      },
      "source": [
        "División de los datos en caracteristicas y etiquetas"
      ]
    },
    {
      "cell_type": "code",
      "execution_count": null,
      "metadata": {
        "id": "vdlScpB946Py",
        "colab": {
          "base_uri": "https://localhost:8080/"
        },
        "outputId": "2317d9d3-222f-478c-eaed-4277868c33b1"
      },
      "outputs": [
        {
          "output_type": "stream",
          "name": "stdout",
          "text": [
            "(360, 6)\n",
            "(360,)\n"
          ]
        }
      ],
      "source": [
        "features, targets = train_data.drop('admit', axis=1), train_data['admit']\n",
        "features_test, targets_test = test_data.drop('admit', axis=1), test_data['admit']\n",
        "print( features.shape )\n",
        "print( targets.shape )"
      ]
    },
    {
      "cell_type": "markdown",
      "metadata": {
        "id": "WKkMs94U5MBm"
      },
      "source": []
    },
    {
      "cell_type": "markdown",
      "metadata": {
        "id": "6GDBHBbT5WtC"
      },
      "source": [
        "Función de Activación"
      ]
    },
    {
      "cell_type": "code",
      "execution_count": null,
      "metadata": {
        "id": "3X5cn6oa5amd"
      },
      "outputs": [],
      "source": [
        "def sigmoide(x):\n",
        "    return 1/(1 + np.exp(-x))"
      ]
    },
    {
      "cell_type": "code",
      "execution_count": 15,
      "metadata": {
        "colab": {
          "base_uri": "https://localhost:8080/"
        },
        "id": "_5PDFAdG5TIm",
        "outputId": "5ffdc554-aa64-4ba3-fa01-08358a7c56c8"
      },
      "outputs": [
        {
          "output_type": "stream",
          "name": "stdout",
          "text": [
            "(6, 2)\n",
            "(2,)\n",
            "Costo de entrenamiento:  0.23096637380865542\n",
            "Costo de entrenamiento:  0.22988679034086068\n",
            "Costo de entrenamiento:  0.22887969623055207\n",
            "Costo de entrenamiento:  0.22793959600642058\n",
            "Costo de entrenamiento:  0.22706140356097337\n",
            "Costo de entrenamiento:  0.22624041688346774\n",
            "Costo de entrenamiento:  0.22547229307413255\n",
            "Costo de entrenamiento:  0.22475302396846636\n",
            "Costo de entrenamiento:  0.22407891261168816\n",
            "Costo de entrenamiento:  0.22344655075127795\n",
            "Precisión: 0.650\n"
          ]
        }
      ],
      "source": [
        "# Hyperparameters\n",
        "n_hidden = 2 # Número de unidades en la capa escondida\n",
        "epochs = 1000 # Número de iteraciones sobre el conjunto de entrenamiento\n",
        "alpha = 0.01 # Taza de aprendizaje\n",
        "\n",
        "ult_costo = None \n",
        "\n",
        "m,k = features.shape # Número de ejemplos de entrenamiento, número de dimensiones en los datos \n",
        "# Inicialización de los pesos\n",
        "entrada_escondida = np.random.normal(scale = 1/k**0.5,size = (k,n_hidden))\n",
        "escondida_salida = np.random.normal(scale = 1/k**0.5,size = n_hidden)\n",
        "print(entrada_escondida.shape)\n",
        "print(escondida_salida.shape)\n",
        "# Entrenamiento\n",
        "for e in range(epochs):\n",
        "    # Variables para el gradiente\n",
        "    gradiente_entrada_escondida = np.zeros(entrada_escondida.shape)\n",
        "    gradiente_escondida_salida =  np.zeros(escondida_salida.shape)\n",
        "    # Itera sobre el conjunto de entrenamiento\n",
        "    for x,y in zip(features.values,targets):\n",
        "        # Pasada hacia adelande (forward pass) or forward propagation\n",
        "        \n",
        "        z = sigmoide(np.matmul(x, entrada_escondida))\n",
        "        y_ =sigmoide(np.matmul(escondida_salida,z)) # predicción \n",
        "\n",
        "        # z = np.tanh(np.matmul(x, entrada_escondida))\n",
        "        # y_ =np.tanh(np.matmul(escondida_salida,z)) # predicción \n",
        "\n",
        "        # Pasada hacia atrás (backward pass)\n",
        "        salida_error = (y - y_) * y_ *(1- y_)\n",
        "        escondida_error = np.dot(salida_error, escondida_salida) * z * (1 -z)\n",
        "\n",
        "        gradiente_entrada_escondida += escondida_error * x[:,None]\n",
        "        gradiente_escondida_salida += salida_error * z \n",
        "    # Actualiza los parámetros (pesos)\n",
        "    entrada_escondida += alpha * gradiente_entrada_escondida / m \n",
        "    escondida_salida +=  alpha * gradiente_escondida_salida / m \n",
        "\n",
        "    if e % (epochs / 10 ) == 0:\n",
        "        z = sigmoide(np.dot(features.values, entrada_escondida))\n",
        "        y_ = sigmoide(np.dot(z, escondida_salida))\n",
        "\n",
        "        # z = np.tanh(np.dot(features.values, entrada_escondida))\n",
        "        # y_ = np.tanh(np.dot(z, escondida_salida))\n",
        "    \n",
        "\n",
        "        # Función de costo\n",
        "        costo = np.mean(( y_ - targets)**2 )\n",
        "\n",
        "        if ult_costo  and ult_costo < costo:\n",
        "            print(\"Costo de  entrenamiento: \", costo, \" ADVERTENCIA -  Costo subiendo\")\n",
        "        else:\n",
        "            print(\"Costo de entrenamiento: \", costo )\n",
        "        \n",
        "        ult_costo = costo \n",
        "\n",
        "#  Precisión en los datos de prueba \n",
        "\n",
        "z = sigmoide(np.dot(features_test, entrada_escondida))\n",
        "y_ = sigmoide(np.dot(z, escondida_salida))\n",
        "\n",
        "# z = np.tanh(np.dot(features_test, entrada_escondida))\n",
        "# y_ = np.tanh(np.dot(z, escondida_salida))\n",
        "\n",
        "predicciones =  y_ > 0.5 \n",
        "precision = np.mean(predicciones == targets_test)\n",
        "print(\"Precisión: {:.3f}\".format(precision))\n"
      ]
    },
    {
      "cell_type": "markdown",
      "source": [
        "# **Análisis de complejidad especifica Big O()**\n",
        "Para este caso vamos tener en cuenta los siguientes parametros:\n",
        "*   Número de iteraciones sobre el conjunto de entrenamiento (en el código \"epochs\").\n",
        "*   Conjunto de datos para entrenamiento (en el código \"features.values\" y \"targets\"), los cuales dependerán del número de ejemplos de entrenamiento (en el código \"m\").\n",
        "\n",
        "Como podemos ver en este algoritmo para entrenar redes neuronales mediante el gradiente descendiente, tenemos dos bucles for, el primero de ellos en la línea 17 el cual dependerá del número de iteraciones que queramos dar sobre el conjunto de entrenamiento (epochs), y posteriormente en la línea 22 tenemos otro for que está dentro del anterior, el cual depende principalmente del número de ejemplos de entrenamiento (m) que estén dentro del conjunto dado, por lo que la complejidad nos quedaría de la siguiente forma:\n",
        "\n",
        "![complejidad.png](data:image/png;base64,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)\n",
        "\n",
        "epochs= Número de iteraciones sobre el conjunto de entrenamiento.\n",
        "\n",
        "m= Número de ejemplos de entrenamiento.\n",
        "\n",
        "Teniendo en cuenta lo anterior, desde luego estos dos parametros epochs y m son los que afectan en mayor medida el coste temporal del algoritmo, esto debido a que un número elevado de ellas significa un entrenamiento lento. Ejecutar demasiadas epochs implica procesar las mismas muestras de entrenamiento demasiadas veces, especificamente en este caso m veces, por lo que independientemente si se aumenta uno u otro parametro el costo temporal aumentará, y por supuesto si aumentamos ambas este coste se incrementará aún más.\n",
        "\n",
        "\n"
      ],
      "metadata": {
        "id": "Ouk0iS7pgSbP"
      }
    },
    {
      "cell_type": "markdown",
      "source": [
        "# **Construir un experimento, que le permita encontrar la cantidad de épocas suficientes, para entrenar esta red neuronal con los mismos datos.**\n",
        "\n",
        "Antes de pasar con la parte práctica es importante tener en cuenta algunos conceptos teorícos para entender el por qué el costo computacional y temporal de esto es bastante elevado y llegar a una respuesta concisa es complicado. \n",
        "\n",
        "Primero que todo, la forma en la que se introducen y leen las muestras en esta red neuronal para su posterior entrenamiento es conocida como Descenso del gradiente en lotes (o batch), en la cual todos los datos disponibles para entrenamiento se introducen de una vez. Esto supondrá problemas de estancamiento, ya que el gradiente se calculará usando siempre todas las muestras, y llegará un momento en que las variaciones serán mínimas y requerirá de enormes cantidades de iteraciones para seguir minimizando el costo. Por lo que llegar a una convergencia cercana al cero requerirá grandes cantidades de tiempo.\n",
        "\n",
        "Lo segundo es que existen formas de acelelar la convergencia del algoritmo, tales como variar algunos parametros (tasa de aprendizaje) o cambiar la función de activación o la de coste, sin embargo, se nos pide hacer este experimento con los mismos datos dados. \n",
        "\n",
        "**EXPERIMENTO**\n",
        "\n",
        "Para intentar hallar el número de épocas necesarias para entrenar la red neuronal se optó por continuar el entrenamiento hasta que el coste sea lo suficientemente cercano a 0 como para asumir que la red neuronal está entrenada, esto por supuesto sin exceder un limite exagerado de tiempo. Cómo se mencionó anteriormente llegar a un número de épocas preciso en el que el coste sea muy cercano a 0 supondría una gran cantidad de tiempo, por lo que se hicieron diferentes pruebas en las que se llegó a un tope minimo del costo:\n",
        "\n",
        "![coste1.png](data:image/png;base64,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)  \n",
        "\n",
        "\n",
        "![epocas1.png](data:image/png;base64,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)\n",
        "\n",
        "En esta prueba se llegó a que en aproximadamente 5000 épocas el valor del costo es un número cercano a 0.21, el cual es un buen número cercano al 0 que nos indica que la red neuronal efectivamente está siendo entrenada y dependiendo del número de ejemplos para la evaluación de la red podría tener una buena presición. Para este caso, el número de ejemplos de evaluación es de 40, el cual es un número relativamente bajo, sin embargo para este número se obtuvo una presición del 65%. Por otra parte, el tiempo de ejecución fue de aproximadamente 1 minuto, por lo que podemos ver que para altos valores de las épocas el tiempo computacional crece bastante rápido, esto último se repasará con el siguiente experimento.\n",
        "\n",
        "![costo2.png](data:image/png;base64,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)\n",
        "\n",
        "![epocas2.png](data:image/png;base64,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)\n",
        "\n",
        "En este segundo experimento podemos ver como el valor del coste a diferencia del anterior no es muy diferente, es un valor muy cercano al 0.2, sin embargo, el número de épocas si varía demasiado al tener un valor de casi 64000. Podemos ver que cada vez es más demorado tener una disminución del coste, por lo que realmente para un coste muy cercano al 0 es complicado en cuestión de tiempo llegar a un número de épocas concreto. También cabe aclarar que se tardo cerca de 15 minutos de ejecución para llegar a estos resultados. \n",
        "\n",
        "\n",
        "\n"
      ],
      "metadata": {
        "id": "7vt5FgOfWwFk"
      }
    },
    {
      "cell_type": "markdown",
      "source": [
        "# **Evalúe y compare la función de activación tanh()**\n",
        "\n",
        "Para este caso en particular hemos venido utilizando la función de activación Sigmoide, esto debido a que nos ayuda a mapear los valores entre (0 a 1). Por lo tanto, se usa especialmente para modelos en los que tenemos que predecir la probabilidad como un resultado. Sin embargo, ¿Qué pasaría si usaramos tanh() como función de activación?\n",
        "\n",
        "Vemos que los resultados (ubicados en la parte inferior) y el rendimiento de la red neuronal son ligeramente distintos a como los que teníamos con la Sigmoide, se observa igualmente una disminución en el costo de entrenamiento de una manera similar al caso del sigmoide, sin embargo, en general dicha medida tiende a ser mas alta  y finalmente logra una precisión bastante baja. Bueno, si bien la tanh() y la Sigmoide se utilizan como funciones de activación para el entrenamiento de Redes neuronales, podemos decir que tienen enfoques distintos principalmente en el cálculo del gradiente, respecto a su figura e intervalo de mapeo ( [ -1, 1 ] en el caso de tangente hiperbólica ) se observan similaridades en su comportamiento.\n"
      ],
      "metadata": {
        "id": "VgSh19PN01jA"
      }
    },
    {
      "cell_type": "code",
      "source": [
        "def hyper(x):\n",
        "  return ( np.exp(x) - np.exp( -x ) ) / ( np.exp(x) + np.exp( -x ))"
      ],
      "metadata": {
        "id": "UMD0wKVwXlBH"
      },
      "execution_count": null,
      "outputs": []
    },
    {
      "cell_type": "code",
      "execution_count": 18,
      "metadata": {
        "colab": {
          "base_uri": "https://localhost:8080/"
        },
        "outputId": "c0ac0370-6f47-4046-dc6c-988abeee3349",
        "id": "QxLx5qZcXc2j"
      },
      "outputs": [
        {
          "output_type": "stream",
          "name": "stdout",
          "text": [
            "(6, 2)\n",
            "(2,)\n",
            "Costo de entrenamiento:  0.33973665547710785\n",
            "Costo de entrenamiento:  0.31225255536228547\n",
            "Costo de entrenamiento:  0.2950208608449502\n",
            "Costo de entrenamiento:  0.2835736167232496\n",
            "Costo de entrenamiento:  0.27535137852008523\n",
            "Costo de entrenamiento:  0.26893450850592626\n",
            "Costo de entrenamiento:  0.26353963176198775\n",
            "Costo de entrenamiento:  0.25873504511724643\n",
            "Costo de entrenamiento:  0.25428545801807984\n",
            "Costo de entrenamiento:  0.2500669691229195\n",
            "Precisión: 0.425\n"
          ]
        }
      ],
      "source": [
        "# Hyperparameters\n",
        "n_hidden = 2 # Número de unidades en la capa escondida\n",
        "epochs = 1000 # Número de iteraciones sobre el conjunto de entrenamiento\n",
        "alpha = 0.01 # Taza de aprendizaje\n",
        "\n",
        "ult_costo = None \n",
        "\n",
        "m,k = features.shape # Número de ejemplos de entrenamiento, número de dimensiones en los datos \n",
        "# Inicialización de los pesos\n",
        "entrada_escondida = np.random.normal(scale = 1/k**0.5,size = (k,n_hidden))\n",
        "escondida_salida = np.random.normal(scale = 1/k**0.5,size = n_hidden)\n",
        "print(entrada_escondida.shape)\n",
        "print(escondida_salida.shape)\n",
        "# Entrenamiento\n",
        "for e in range(epochs):\n",
        "    # Variables para el gradiente\n",
        "    gradiente_entrada_escondida = np.zeros(entrada_escondida.shape)\n",
        "    gradiente_escondida_salida =  np.zeros(escondida_salida.shape)\n",
        "    # Itera sobre el conjunto de entrenamiento\n",
        "    for x,y in zip(features.values,targets):\n",
        "        # Pasada hacia adelande (forward pass) or forward propagation\n",
        "        \n",
        "        # Sigmoide\n",
        "        # z = sigmoide(np.matmul(x, entrada_escondida))\n",
        "        # y_ =sigmoide(np.matmul(escondida_salida,z)) # predicción \n",
        "\n",
        "        # Tangente hiperbólica \n",
        "        z = np.tanh(np.matmul(x, entrada_escondida))\n",
        "        y_ = np.tanh(np.matmul(escondida_salida,z)) # predicción \n",
        "\n",
        "        # Pasada hacia atrás (backward pass)\n",
        "        # Usando derivada de tangente hiperbolica (1 - tanh ** 2 )\n",
        "        salida_error = (y - y_) * (1 - y_ ** 2 )\n",
        "        escondida_error = np.dot(salida_error, escondida_salida) * (1 - z ** 2)\n",
        "\n",
        "        gradiente_entrada_escondida += escondida_error * x[:,None]\n",
        "        gradiente_escondida_salida += salida_error * z \n",
        "    # Actualiza los parámetros (pesos)\n",
        "    entrada_escondida += alpha * gradiente_entrada_escondida / m \n",
        "    escondida_salida +=  alpha * gradiente_escondida_salida / m \n",
        "\n",
        "    if e % (epochs / 10 ) == 0:\n",
        "\n",
        "        # z = sigmoide(np.dot(features.values, entrada_escondida))\n",
        "        # y_ = sigmoide(np.dot(z, escondida_salida))\n",
        "\n",
        "        z = np.tanh(np.dot(features.values, entrada_escondida))\n",
        "        y_ = np.tanh(np.dot(z, escondida_salida))\n",
        "    \n",
        "\n",
        "        # Función de costo\n",
        "        costo = np.mean(( y_ - targets)**2 )\n",
        "\n",
        "        if ult_costo  and ult_costo < costo:\n",
        "            print(\"Costo de  entrenamiento: \", costo, \" ADVERTENCIA -  Costo subiendo\")\n",
        "        else:\n",
        "            print(\"Costo de entrenamiento: \", costo )\n",
        "        \n",
        "        ult_costo = costo \n",
        "\n",
        "#  Precisión en los datos de prueba \n",
        "\n",
        "# z = sigmoide(np.dot(features_test, entrada_escondida))\n",
        "# y_ = sigmoide(np.dot(z, escondida_salida))\n",
        "\n",
        "z = np.tanh(np.dot(features_test, entrada_escondida))\n",
        "y_ = np.tanh(np.dot(z, escondida_salida))\n",
        "\n",
        "predicciones =  y_ > 0 # Tanh abarca desde -1 hasta 1, mas de 0 implica verdadero\n",
        "precision = np.mean(predicciones == targets_test)\n",
        "print(\"Precisión: {:.3f}\".format(precision))\n"
      ]
    }
  ],
  "metadata": {
    "colab": {
      "provenance": []
    },
    "kernelspec": {
      "display_name": "Python 3",
      "name": "python3"
    },
    "language_info": {
      "name": "python"
    }
  },
  "nbformat": 4,
  "nbformat_minor": 0
}