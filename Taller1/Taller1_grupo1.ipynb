{
  "nbformat": 4,
  "nbformat_minor": 0,
  "metadata": {
    "colab": {
      "provenance": [],
      "collapsed_sections": []
    },
    "kernelspec": {
      "name": "python3",
      "display_name": "Python 3"
    },
    "language_info": {
      "name": "python"
    }
  },
  "cells": [
    {
      "cell_type": "code",
      "execution_count": 3,
      "metadata": {
        "id": "-1_zUxnjLNJY",
        "colab": {
          "base_uri": "https://localhost:8080/"
        },
        "outputId": "9b4c408a-c3b4-4283-d81a-e3734660bdea"
      },
      "outputs": [
        {
          "output_type": "stream",
          "name": "stdout",
          "text": [
            "Resultado (modelo estándar): 30.546439615136478  Valor de función en dicho punto: 5.8909768995363265e-05\n",
            "Tiempo real: 0.36669921875  ms\n",
            "Resultado (modelo modificado): 1.8437355756759644  Valor de función en dicho punto: 4.298099774757702e-05\n",
            "Tiempo real: 9.435546875  ms\n"
          ]
        }
      ],
      "source": [
        "import time # Librería usada para el cronometrado del tiempo de ejecución real del algoritmo\n",
        "\n",
        "def evaluate( x ): # Función y = modelo(x), evalúa el valor de x para la función dada\n",
        "  return -(x**4) + 30*(x**3) + 15*(x**2) + 34*x + 540\n",
        "\n",
        "def custom_evaluate( x ): # Función con parámetros distintos \n",
        "  return 2*(x**4) - 2*(x**3) + 2*(x**2) -4*x - 10\n",
        "\n",
        "def roots_by_bisection( model ): # Calcula una raiz para la función del modelo mediante el método de bisección \n",
        "\n",
        "  MIN_Y_VALUE = 1E-4  # Mínimo valor alcanzado para la función para decidir detener el algoritmo al obtener un valor aceptable\n",
        "  x0 = 0              # Limite inferior predefinido del intervalo\n",
        "  x1 = 1000           # Limite superior predefinidio del intervalo\n",
        "\n",
        "  x_middle = (x1 + x0) / 2      # Calculo de próximo punto de aproximación, será el punto medio del intervalo\n",
        "\n",
        "  fx0 = model( x0 )          # Evaluación de función en límite inferior de intervalo\n",
        "  fx1 = model( x1 )          # Evaluación de función en límite superior de intervalo\n",
        "  fxm = model( x_middle )    # Evaluación de función en punto de aproximación (mitad de intervalo)\n",
        "\n",
        "  while abs(fxm) > MIN_Y_VALUE: # Se detendrá el algoritmo cuando se logre un valor de f suficientemente cercano a 0\n",
        "\n",
        "    if fxm * fx0 < 0:           # Si el valor de la función en el límite inferior del intervalo es de distinto signo a su\n",
        "                                # evaluación en su aproximación, entonces debe existir un cero entre ambos puntos\n",
        "      x1 = x_middle             # el nuevo limite superior de intervalo será la aproximación calculada\n",
        "      fx1 = fxm                 # se actualiza el valor de la función en el límite superior\n",
        "    elif fxm * fx1 < 0:         # Si el valor de la función en el límite superior del intervalo es de distinto signo a su\n",
        "                                # evaluación en su aproximación, entonces debe existir un cero entre ambos puntos\n",
        "      x0 = x_middle             # el nuevo limite inferior de intervalo será la aproximación calculada\n",
        "      fx0 = fxm                 # se actualiza el valor de la función en el límite inferior\n",
        "    else:\n",
        "      print(\"No hay una raiz en éste intervalo !\")  # Si no hay diferencias de signo, entonces no es posible que exista una función en éste intervalo\n",
        "      break\n",
        "    \n",
        "    x_middle = (x1 + x0) / 2    # Recalcular una nueva aproximación en la mitad del intervalo\n",
        "    fxm = model( x_middle )  # Reevaluar el valor de la función en la nueva aproximación\n",
        "    \n",
        "    \n",
        "  return( x_middle, fxm )\n",
        "\n",
        "initial_time = time.time() * 1000\n",
        "\n",
        "result = roots_by_bisection( evaluate ) # Modelo estándar\n",
        "\n",
        "print( \"Resultado (modelo estándar):\", result[0], \" Valor de función en dicho punto:\", result[1] )\n",
        "\n",
        "print(\"Tiempo real:\", float(time.time() * 1000 - initial_time ), \" ms\" ) # Tiempo consumido en operación\n",
        "\n",
        "######\n",
        "\n",
        "initial_time = time.time() * 1000\n",
        "\n",
        "result = roots_by_bisection( custom_evaluate ) # Modelo modificado\n",
        "\n",
        "print( \"Resultado (modelo modificado):\", result[0], \" Valor de función en dicho punto:\", result[1] )\n",
        "\n",
        "print(\"Tiempo real:\", float(time.time() * 1000 - initial_time ), \" ms\" ) # Tiempo consumido en operación"
      ]
    }
  ]
}